{
 "cells": [
  {
   "cell_type": "markdown",
   "id": "11aee45c-a377-4b96-9d99-77ad7fb9a7f3",
   "metadata": {},
   "source": [
    "# Week 8: Dimensionality Reduction"
   ]
  },
  {
   "cell_type": "markdown",
   "id": "65e49068-fac2-493f-aac6-8b32755cc0f2",
   "metadata": {},
   "source": [
    "Suppose we want fewer features. How to do?  \n",
    "\n",
    "One ex is to think of 2 measures of length and just using one.  \n",
    "\n",
    "But? We see this fit is highly correlated, but not perfect, due to noise and roundoff in measurement.  \n",
    "\n",
    "**In highly correlated features** may want to reduce the dimension."
   ]
  },
  {
   "cell_type": "markdown",
   "id": "0ff48928-374f-4d31-a278-296dc8ea4d09",
   "metadata": {},
   "source": [
    "<img src=\"figures/fig14.png\" width=300>"
   ]
  },
  {
   "cell_type": "markdown",
   "id": "09e5925c-a748-45d3-89f8-53f9accadb75",
   "metadata": {},
   "source": [
    "### What does it mean to reduce dimension?"
   ]
  },
  {
   "cell_type": "markdown",
   "id": "d50c80d0-9c90-47e0-afc2-90ba88575d27",
   "metadata": {},
   "source": [
    "instad of having $x^{(i)} \\in R^2$ we have $z^{(i)} \\in R^1$ so that....  \n",
    "\n",
    "$$\\Phi: x^{(i)} \\to z^{(i)}$$"
   ]
  },
  {
   "cell_type": "markdown",
   "id": "54373c65-05a5-4734-873c-b406de860fd2",
   "metadata": {},
   "source": [
    "<img src = \"figures/fig15.png\" width=200>"
   ]
  },
  {
   "cell_type": "markdown",
   "id": "67ca96e1-c520-4850-a809-38c119ce167f",
   "metadata": {},
   "source": [
    "This is an **approximation** to original training set."
   ]
  },
  {
   "cell_type": "markdown",
   "id": "1151f4ce-79e8-426d-a6a3-4de825b7a700",
   "metadata": {},
   "source": [
    "**Typically** reducing problems of high dim: 10000 $\\to$ 1000.  \n",
    "\n",
    "We may want to reduce data from **3D $\\to$ 2D**.  \n",
    "\n",
    "$$x^{(i)} \\in R^3 \\to z^{(i)} \\in R^2$$  \n",
    "\n",
    "$$z^{(i)} = [z^{(i)}_1, z^{(i)}_2]' $$\n",
    "\n",
    "We do this with a **projection**."
   ]
  },
  {
   "cell_type": "markdown",
   "id": "2862c8f0-b8c0-4c11-8d73-f33d34872f61",
   "metadata": {},
   "source": [
    "<img src = \"figures/fig16.png\" width=600>"
   ]
  },
  {
   "cell_type": "markdown",
   "id": "76882b3e-6b77-4371-9bf7-1cc3d0b2501e",
   "metadata": {},
   "source": [
    "## Visualization"
   ]
  },
  {
   "cell_type": "markdown",
   "id": "fb776e76-12ff-4c74-a689-6cbe8b2c0bc6",
   "metadata": {},
   "source": [
    "Suppose we have a data set with many features (50 features). How do we plot?  \n",
    "\n",
    "We can use **dim redux!**"
   ]
  },
  {
   "cell_type": "markdown",
   "id": "eb36bf1f-2b77-4077-9b92-0a576990520a",
   "metadata": {},
   "source": [
    "<img src = \"figures/fig17.png\" width=600>"
   ]
  },
  {
   "cell_type": "markdown",
   "id": "aeb1f9ab-9e98-411f-b3c8-ee85c90d57ad",
   "metadata": {},
   "source": [
    "The $z^{(i)} \\in R^2$, we can use to plot and understand features better.\n",
    "\n",
    "$$\\Phi: R^{50} \\to R^2$$"
   ]
  },
  {
   "cell_type": "code",
   "execution_count": null,
   "id": "b34db9c3-de69-49a3-a856-658511606401",
   "metadata": {},
   "outputs": [],
   "source": []
  }
 ],
 "metadata": {
  "kernelspec": {
   "display_name": "Python 3",
   "language": "python",
   "name": "python3"
  },
  "language_info": {
   "codemirror_mode": {
    "name": "ipython",
    "version": 3
   },
   "file_extension": ".py",
   "mimetype": "text/x-python",
   "name": "python",
   "nbconvert_exporter": "python",
   "pygments_lexer": "ipython3",
   "version": "3.9.4"
  }
 },
 "nbformat": 4,
 "nbformat_minor": 5
}
