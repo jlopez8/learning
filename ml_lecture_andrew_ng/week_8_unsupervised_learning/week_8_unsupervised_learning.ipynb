{
 "cells": [
  {
   "cell_type": "markdown",
   "id": "a522ecad-4c68-4c95-8090-e6a18d0c7868",
   "metadata": {},
   "source": [
    "# Week 8: Unsupervised Learning "
   ]
  },
  {
   "cell_type": "markdown",
   "id": "4a2184d4-6d4a-433f-adc4-1510bb208a05",
   "metadata": {},
   "source": [
    "No targets. Just find some structure in the given data.  \n",
    "\n",
    "- One such type called **clustering algorithm**\n",
    "- Applications:\n",
    "    - market segmentation\n",
    "    - social network analysis\n",
    "    - organize computing clusters\n",
    "    - astronomical data analysis\n",
    "    "
   ]
  },
  {
   "cell_type": "markdown",
   "id": "07c236ad-596e-453d-89f0-375c6b4cd88c",
   "metadata": {},
   "source": [
    "## KMeans Algo"
   ]
  },
  {
   "cell_type": "markdown",
   "id": "7a5d1e60-d7ce-4872-9601-940b8cb9a967",
   "metadata": {},
   "source": [
    "- want to use nearby neighbors to group data.\n",
    "- kmeans = iterative 2 step algo\n",
    "    - step 1: cluster assign step\n",
    "    - step 2: move centroid step"
   ]
  },
  {
   "cell_type": "markdown",
   "id": "e79a0b2c-e210-4337-8026-df3e5c544521",
   "metadata": {},
   "source": [
    "### step 1: cluster assign step\n",
    "\n",
    "- will assign to one of several cluster centroids according to closesness (metric)."
   ]
  },
  {
   "cell_type": "markdown",
   "id": "f1c080fc-5e04-4358-a877-ce38d498b232",
   "metadata": {},
   "source": [
    "<img src=\"figures/fig1.png\" width = 300>"
   ]
  },
  {
   "cell_type": "markdown",
   "id": "e2821a43-91e5-445a-9dc6-1b3d450c30ec",
   "metadata": {},
   "source": [
    "### step 2: move centroid step\n",
    "\n",
    "- look at all blue and compute the mean, then move centroid\n",
    "- look at all red > compute mean > move centroid"
   ]
  },
  {
   "cell_type": "markdown",
   "id": "fd714535-d9bc-464d-a717-ac47cb83203e",
   "metadata": {},
   "source": [
    "<img src=\"figures/fig2.png\" width = 300>"
   ]
  },
  {
   "cell_type": "markdown",
   "id": "163f1e91-c05f-467e-a31a-f57f4a8f33ae",
   "metadata": {},
   "source": [
    "### Iterate"
   ]
  },
  {
   "cell_type": "markdown",
   "id": "bebdfb39-a7fe-4a23-822a-610a02c713e3",
   "metadata": {},
   "source": [
    "Now repeat step 1 assign cluster, step 2 move centroid"
   ]
  },
  {
   "cell_type": "markdown",
   "id": "901a8e12-970c-41aa-9e9f-8f27373a2dbb",
   "metadata": {},
   "source": [
    "<img src=\"figures/fig3.png\" width = 300>"
   ]
  },
  {
   "cell_type": "markdown",
   "id": "9d4aaf7d-f787-4337-94e5-6eaaaf343614",
   "metadata": {},
   "source": [
    "**Convergence!**"
   ]
  },
  {
   "cell_type": "markdown",
   "id": "5e52f121-3d12-4a2c-9d20-7a682ee5ed45",
   "metadata": {},
   "source": [
    "<img src=\"figures/fig4.png\" width = 300>"
   ]
  },
  {
   "cell_type": "markdown",
   "id": "872cd7c4-303c-42e1-8c0a-99fc1745713f",
   "metadata": {},
   "source": [
    "## Formal K-Means Algo"
   ]
  },
  {
   "cell_type": "markdown",
   "id": "0de61449-2be5-41c9-9646-21935a6a6155",
   "metadata": {},
   "source": [
    "Input:  \n",
    "- $K$ (cluter numbers)\n",
    "- training set {x^(1), ..., x^(m)}\n",
    "- $x^{(i)} \\in R^n$ do not use $x_0 = 1$  \n",
    "\n",
    "**Step 0**\n",
    "Randomly init $K$ cluster centroids $\\mu_i \\in R^n$.  \n",
    "\n",
    "**Step 1**\n",
    "Repeat:{  \n",
    "\n",
    "**Cluster Assignment Step**  \n",
    "* for $i=1 .. m$\n",
    "\n",
    "    \n",
    "     $c^{(i)} := $ index of cluster centroid closest $x^{(i)}$.  \n",
    "     ''$\\min_k ||x^{(i)} - \\mu_k||$''\n",
    "     \n",
    "     **Move Centroid Step** \n",
    "    \n",
    "* for $k=1.. K$  \n",
    "        $u_k := $ mean of points assigned to cluster $k$. \n",
    "        \n",
    "}"
   ]
  },
  {
   "cell_type": "markdown",
   "id": "d88b0adf-9d49-4ec9-942f-b7872a668d81",
   "metadata": {},
   "source": [
    "### Notes:"
   ]
  },
  {
   "cell_type": "markdown",
   "id": "090e8a33-f890-4660-b62b-06d3760dc574",
   "metadata": {},
   "source": [
    "**What if cluster centroid w no points assigned to it?**\n",
    "\n",
    "- common to delete centroid.\n",
    "- or randomly reinitialize this cluster."
   ]
  },
  {
   "cell_type": "markdown",
   "id": "9e54d8a0-5832-4d41-875e-8fc96cecd676",
   "metadata": {},
   "source": [
    "## Another Common App Example"
   ]
  },
  {
   "cell_type": "markdown",
   "id": "4cbbbcae-3cc7-4ddf-bd3a-3e3d955165e8",
   "metadata": {},
   "source": [
    "Non- separated clusters.  \n",
    "\n",
    "This examp can be seen as **market segmentation**."
   ]
  },
  {
   "cell_type": "markdown",
   "id": "e604cdba-2f3d-4191-aec5-949d1b9daaff",
   "metadata": {},
   "source": [
    "<img src=\"figures/fig5.png\" width = 400>"
   ]
  },
  {
   "cell_type": "markdown",
   "id": "e08bbdf3-f2db-4b45-9e87-05320c185d71",
   "metadata": {},
   "source": [
    "<img src=\"figures/fig6.png\" width=400>"
   ]
  },
  {
   "cell_type": "markdown",
   "id": "5ce977b5-f6fd-4770-9354-8d196761e8a6",
   "metadata": {},
   "source": [
    "## Optimization Objective"
   ]
  },
  {
   "cell_type": "markdown",
   "id": "54cdfc6a-fdef-4b7b-b30c-29748f22f2ce",
   "metadata": {},
   "source": [
    "### K-Means Objective"
   ]
  },
  {
   "cell_type": "markdown",
   "id": "568ddbd4-8214-4522-8842-46a0bd08302a",
   "metadata": {},
   "source": [
    "- $c^{(i)} = $ index of cluster ${1, 2, ..., K}$ to which sample $x^{(i)}$ assigned currently\n",
    "- $\\mu_k$ = cluster centroid $k \\ (\\mu_k \\in R^n) $\n",
    "    - this is like the unordered version of what's below it\n",
    "- $\\mu_{c^{(i)}}$ = cluster centroid of cluster to which ex $x^{(i)}$ has been assigned\n",
    "    - this is like the ordered version according to index of $x^{(i)}$\n",
    "    \n",
    "\n"
   ]
  },
  {
   "cell_type": "markdown",
   "id": "a1fb4948-b952-46e5-8a3f-96317e1aca7e",
   "metadata": {},
   "source": [
    "### Optimization Objective"
   ]
  },
  {
   "cell_type": "markdown",
   "id": "f4aa3e3e-3c91-4e4f-b202-4fb55a6e98dd",
   "metadata": {},
   "source": [
    "<img src = \"figures/fig7.png\" width=500>"
   ]
  },
  {
   "cell_type": "markdown",
   "id": "23f40c14-312c-4a28-90f5-7e9e4a3c5202",
   "metadata": {},
   "source": [
    "Can be shown that k-means is trying to minimize this cost function $J$ over $c^{(i)}$s and $\\mu_i$s.  \n",
    "\n",
    "Really just minimizing the distance of each $x^{(i)}$ to the cluster it's going to be assigned to."
   ]
  },
  {
   "cell_type": "markdown",
   "id": "a92d9595-13d1-4567-a0b3-9faee98dbeec",
   "metadata": {},
   "source": [
    "### Notes:\n",
    "- First step in algo (the assignment step), first minimizes $J$ over variables $c$.\n",
    "\n",
    "<img src=\"figures/fig8.png\" width=300 >\n",
    "\n",
    "- Second step then minimizes $J$ over vribles $\\mu$.\n",
    "\n",
    "<img src=\"figures/fig9.png\" width=300 >\n",
    "\n",
    "- The cost function continues to decrease **even after** the reassignment of the centroids in step 2! Can be proved mathematically.\n",
    "    - Intuitively. Take collection of points ${x^{(i)}}$ and mean $\\bar{x}$. This says: $\\bar{x} = min_{x}  \\sum ||x^{(i)} - x||^2$. \n",
    "    - Can see this because \n",
    "    $$0 = d/dx\\left(\\sum ||x^{(i)} - x||^2\\right)= 2\\sum (x^{(i)} - x)$$  \n",
    "    \n",
    "    - Remember the last term is 0 when $x = \\bar{x},$ because $\\sum (x^{(i)} - \\bar{x}) = 0.$"
   ]
  },
  {
   "cell_type": "markdown",
   "id": "48bfd318-cbbe-4e55-8975-70455d173493",
   "metadata": {},
   "source": [
    "## Random Initialization."
   ]
  },
  {
   "cell_type": "markdown",
   "id": "31dc4660-a931-4341-8f71-32e2d22a13e9",
   "metadata": {},
   "source": [
    "This covers step 0. Should have $K<m$.  \n",
    "\n",
    "Randomly pick $K$ training examples.  \n",
    "\n",
    "Set $\\mu_1... \\mu_K$ equal these $K$ examples.\n",
    "\n",
    "**K-means can end up at different convergence points!** \n",
    "\n",
    "It may get stuck at a local optimum."
   ]
  },
  {
   "cell_type": "markdown",
   "id": "aee46ac6-553e-4ffc-b0cf-19c954c4b7d9",
   "metadata": {},
   "source": [
    "### Example for K = 2"
   ]
  },
  {
   "cell_type": "markdown",
   "id": "2875c8ea-cc0d-482a-9e72-376b1eb10517",
   "metadata": {},
   "source": [
    "Just pick from the ${x^{(i)}}$s first!  \n",
    "\n"
   ]
  },
  {
   "cell_type": "markdown",
   "id": "47d9d6a5-78ff-461c-8def-6e94d754af67",
   "metadata": {},
   "source": [
    "<img src = \"figures/fig10.png\" width=200>"
   ]
  },
  {
   "cell_type": "markdown",
   "id": "68c5e8fb-80a9-4cda-a87f-a34ee8134379",
   "metadata": {},
   "source": [
    "**K-means can end up at different convergence points!** \n",
    "\n",
    "It may get stuck at a local optimum.  \n",
    "\n",
    "Here we can get a good guess (top image) or unlucky guesses.  \n",
    "\n",
    "**Try multiple random inits for $K$**\n",
    "\n",
    "**Notes:**  \n",
    "Random init for $k$ more effective when you have fewer clusters."
   ]
  },
  {
   "cell_type": "markdown",
   "id": "3760ed8e-c35d-45ec-ad08-02caf256842c",
   "metadata": {},
   "source": [
    "<img src = \"figures/fig11.png\" width=400>"
   ]
  },
  {
   "cell_type": "markdown",
   "id": "d9b95fad-024a-4de4-b3ea-5860c783f1e5",
   "metadata": {},
   "source": [
    "### Code Multiple Random Inits for $K$ "
   ]
  },
  {
   "cell_type": "markdown",
   "id": "1692c7bc-d622-4e93-adef-636e4dabad25",
   "metadata": {},
   "source": [
    "for i = 1 .. 100{\n",
    "* random init K-means.\n",
    "* Run K-means. Get $c^{(i)}, \\mu_i$\n",
    "* compute cost func $J\\left( \\{c^{(i)}\\}_1^m, \\{\\mu_i\\}_1^K \\right)$ \n",
    "\n",
    "}  \n",
    "\n",
    "Pick clustering that gave lowst cost for $J$ at the end!"
   ]
  },
  {
   "cell_type": "markdown",
   "id": "51796a42-4c97-40c7-a13f-a11d5a79f010",
   "metadata": {},
   "source": [
    "## Choosing The Number Of Clusters"
   ]
  },
  {
   "cell_type": "markdown",
   "id": "b2005201-38a5-4d3f-bf07-692955dfefc8",
   "metadata": {},
   "source": [
    "No great way of answering this / automating this.\n",
    "\n",
    "Most common way is to choose manually by just looking at it. "
   ]
  },
  {
   "cell_type": "markdown",
   "id": "bca7c2dd-44b8-4469-9e05-ba6a389d9af9",
   "metadata": {},
   "source": [
    "### The Elbow Method"
   ]
  },
  {
   "cell_type": "markdown",
   "id": "75a60a88-d68e-4376-9411-529db334216e",
   "metadata": {},
   "source": [
    "Vary $k$ until you see clear tapering of cost function..."
   ]
  },
  {
   "cell_type": "markdown",
   "id": "1361d422-6ac2-4f55-8c5c-2f8076a22728",
   "metadata": {},
   "source": [
    "<img src=\"figures/fig12.png\" width=500>"
   ]
  },
  {
   "cell_type": "markdown",
   "id": "5a7cfd7a-b5f0-4ee0-8ef8-93c7b4fa12cc",
   "metadata": {},
   "source": [
    "Sometimes not so clear (like on the right) what the right num of clusters is...  \n",
    "\n",
    "It's worth a shot but **not high expectation** of working!  \n",
    "\n",
    "A better way is to have human input and ask \"for what purpose are we performing $k$-means clustering?\""
   ]
  },
  {
   "cell_type": "markdown",
   "id": "26197a3b-489e-4e16-b9ec-f30631baf256",
   "metadata": {},
   "source": [
    "### Example"
   ]
  },
  {
   "cell_type": "markdown",
   "id": "4ddc4b55-c3ba-4a57-9431-2a0c5b9fef68",
   "metadata": {},
   "source": [
    "Sometimes, running $k$-means to get clusters to use for a later purpose so w eval $k$-means based on matric for that!"
   ]
  },
  {
   "cell_type": "markdown",
   "id": "aecae075-e981-46e2-a012-5911d1f64e7f",
   "metadata": {},
   "source": [
    "<img src=\"figures/fig13.png\" width=500>"
   ]
  },
  {
   "cell_type": "code",
   "execution_count": null,
   "id": "33e39128-4ca4-4287-9250-bb9b8cff2649",
   "metadata": {},
   "outputs": [],
   "source": []
  }
 ],
 "metadata": {
  "kernelspec": {
   "display_name": "Python 3",
   "language": "python",
   "name": "python3"
  },
  "language_info": {
   "codemirror_mode": {
    "name": "ipython",
    "version": 3
   },
   "file_extension": ".py",
   "mimetype": "text/x-python",
   "name": "python",
   "nbconvert_exporter": "python",
   "pygments_lexer": "ipython3",
   "version": "3.9.4"
  }
 },
 "nbformat": 4,
 "nbformat_minor": 5
}
