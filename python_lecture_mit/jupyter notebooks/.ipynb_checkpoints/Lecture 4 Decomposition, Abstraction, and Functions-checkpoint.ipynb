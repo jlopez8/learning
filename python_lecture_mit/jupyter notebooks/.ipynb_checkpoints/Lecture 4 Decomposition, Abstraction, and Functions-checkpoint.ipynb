{
 "cells": [
  {
   "cell_type": "markdown",
   "metadata": {},
   "source": [
    "# Lecture 4: Decomposition, Abstraction, and Functions"
   ]
  },
  {
   "cell_type": "markdown",
   "metadata": {},
   "source": [
    "How to structure to write better looking programs.\n",
    "\n",
    "Think of how we write code righ tnow:\n",
    "- open file, type some code\n",
    "- we have one file containing each code and write it all in one file\n",
    "- only okay for small problems, not large problems\n",
    "- as you scale code harder to track multiple changes to the same mechanism\n",
    "- good programmers: not add lots and lots of lines of code, but more functionality vs how long is this code?\n",
    "\n",
    "\n",
    "## Good programming\n",
    "- functions are a necessary basic abstraction\n",
    "- think of distribution. You could instead of having one large function or solution, you could instead have multiple smaller functions with different inputs and the total will achieve the same common goal\n",
    "- \n",
    "- you as a programmer just using the function: you assume it's been implemented correctly\n",
    "\n",
    "### functions\n",
    "- name\n",
    "- paarms\n",
    "- dosctring\n",
    "- body\n",
    "- return"
   ]
  },
  {
   "cell_type": "markdown",
   "metadata": {},
   "source": [
    "## how to write a function\n",
    "\n",
    "- name should be descriptive what it does\n",
    "- STRUCTURE AND SYNTAX of functions: \n",
    "    - def name ( params ) : \n",
    "    - \"\"\" #triple quotes \n",
    "        - what function needs as inputs \n",
    "        - what fun supposed to do\n",
    "        - what will the function give back \n",
    "    - \"\"\" #triple quotes\n",
    "    - body\n",
    "    - return \n",
    "        - this is a keyword that is some value expression to evaluate and return\n",
    "        - "
   ]
  },
  {
   "cell_type": "markdown",
   "metadata": {},
   "source": [
    "## variable scope\n",
    "- scope of function is separate environment of the main program\n",
    "- in the main program, we define variables and values to then give the function / make a function call\n",
    "- def f( x ):\n",
    "    x = x + 1\n",
    "\n",
    "- if no return provided, will return none which is a none type representing the absence of a value\n",
    "\n",
    "- "
   ]
  },
  {
   "cell_type": "code",
   "execution_count": 8,
   "metadata": {},
   "outputs": [],
   "source": [
    "def is_even_with_return (i):\n",
    "    \"\"\"\n",
    "    Input: i, a positive int\n",
    "    Returns True if i is even, otherwise False\n",
    "    \"\"\"\n",
    "    \n",
    "    print('with return')\n",
    "    remainder = i%2\n",
    "    return remainder == 0"
   ]
  },
  {
   "cell_type": "code",
   "execution_count": 11,
   "metadata": {},
   "outputs": [
    {
     "name": "stdout",
     "output_type": "stream",
     "text": [
      "with return\n"
     ]
    },
    {
     "data": {
      "text/plain": [
       "False"
      ]
     },
     "execution_count": 11,
     "metadata": {},
     "output_type": "execute_result"
    }
   ],
   "source": [
    "is_even_with_return(3)"
   ]
  },
  {
   "cell_type": "code",
   "execution_count": 10,
   "metadata": {},
   "outputs": [
    {
     "name": "stdout",
     "output_type": "stream",
     "text": [
      "with return\n"
     ]
    },
    {
     "data": {
      "text/plain": [
       "True"
      ]
     },
     "execution_count": 10,
     "metadata": {},
     "output_type": "execute_result"
    }
   ],
   "source": [
    "is_even_with_return(60)"
   ]
  },
  {
   "cell_type": "code",
   "execution_count": 16,
   "metadata": {},
   "outputs": [],
   "source": [
    "def is_even_without_return( i ): \n",
    "    \"\"\"\n",
    "    Input: i, a positive int\n",
    "    Does not return anything\n",
    "    \"\"\"\n",
    "    \n",
    "    print('without return')\n",
    "    remainder = i%2\n",
    "    # python implict adds return None"
   ]
  },
  {
   "cell_type": "code",
   "execution_count": 19,
   "metadata": {},
   "outputs": [
    {
     "name": "stdout",
     "output_type": "stream",
     "text": [
      "without return\n",
      "without return\n",
      "None\n"
     ]
    }
   ],
   "source": [
    "is_even_without_return(3)\n",
    "print(is_even_without_return(3)) # <- this will return 'None'"
   ]
  },
  {
   "cell_type": "markdown",
   "metadata": {},
   "source": [
    "## Functions As Arguments\n",
    "\n",
    "In python **everything is object**:"
   ]
  },
  {
   "cell_type": "code",
   "execution_count": 27,
   "metadata": {},
   "outputs": [
    {
     "name": "stdout",
     "output_type": "stream",
     "text": [
      "inside fn a\n",
      "None\n",
      "inside fn b\n",
      "7\n",
      "inside fn c\n",
      "inside fn a\n",
      "None\n"
     ]
    }
   ],
   "source": [
    "def func_a():\n",
    "    print('inside fn a')\n",
    "    \n",
    "def func_b(y):\n",
    "    print('inside fn b')\n",
    "    return y\n",
    "\n",
    "def func_c(z):\n",
    "    print ('inside fn c')\n",
    "    return z()\n",
    "\n",
    "print (func_a())\n",
    "print (5 + func_b(2))\n",
    "print (func_c(func_a))"
   ]
  },
  {
   "cell_type": "markdown",
   "metadata": {},
   "source": [
    "## some example of what can be done\n",
    "\n",
    "###  work with a value defined within fn scope\n",
    "I can work with variables defined outside of the scope or redefined within the new function scope (although really they are independent varibles even if on screen they share the same name). The second example will flat out use values from the larger / containing scope. The third will not run properly because you cannot modify something defined in the larger scope when it was not initialized within the function scope. "
   ]
  },
  {
   "cell_type": "code",
   "execution_count": 28,
   "metadata": {},
   "outputs": [
    {
     "name": "stdout",
     "output_type": "stream",
     "text": [
      "2\n",
      "5\n"
     ]
    }
   ],
   "source": [
    "def f(y):\n",
    " x = 1\n",
    " x += 1\n",
    " print(x)\n",
    "\n",
    "x = 5\n",
    "f(x)\n",
    "print(x)"
   ]
  },
  {
   "cell_type": "code",
   "execution_count": null,
   "metadata": {},
   "outputs": [],
   "source": []
  },
  {
   "cell_type": "code",
   "execution_count": 36,
   "metadata": {},
   "outputs": [
    {
     "name": "stdout",
     "output_type": "stream",
     "text": [
      "5\n",
      "6\n",
      "5\n"
     ]
    }
   ],
   "source": [
    "def g(y):\n",
    "    # notice var x is never initialized. \n",
    "    # it will get called from ther larger scope\n",
    "    print(x)\n",
    "    print(x+1)\n",
    "    \n",
    "x = 5\n",
    "g(x)\n",
    "print(x)"
   ]
  },
  {
   "cell_type": "code",
   "execution_count": 37,
   "metadata": {},
   "outputs": [
    {
     "ename": "UnboundLocalError",
     "evalue": "local variable 'x' referenced before assignment",
     "output_type": "error",
     "traceback": [
      "\u001b[0;31m---------------------------------------------------------------------------\u001b[0m",
      "\u001b[0;31mUnboundLocalError\u001b[0m                         Traceback (most recent call last)",
      "\u001b[0;32m<ipython-input-37-06285b48a939>\u001b[0m in \u001b[0;36m<module>\u001b[0;34m\u001b[0m\n\u001b[1;32m      3\u001b[0m \u001b[0;34m\u001b[0m\u001b[0m\n\u001b[1;32m      4\u001b[0m \u001b[0mx\u001b[0m \u001b[0;34m=\u001b[0m \u001b[0;36m5\u001b[0m\u001b[0;34m\u001b[0m\u001b[0;34m\u001b[0m\u001b[0m\n\u001b[0;32m----> 5\u001b[0;31m \u001b[0mh\u001b[0m\u001b[0;34m(\u001b[0m\u001b[0mx\u001b[0m\u001b[0;34m)\u001b[0m\u001b[0;34m\u001b[0m\u001b[0;34m\u001b[0m\u001b[0m\n\u001b[0m\u001b[1;32m      6\u001b[0m \u001b[0mprint\u001b[0m\u001b[0;34m(\u001b[0m\u001b[0mx\u001b[0m\u001b[0;34m)\u001b[0m\u001b[0;34m\u001b[0m\u001b[0;34m\u001b[0m\u001b[0m\n",
      "\u001b[0;32m<ipython-input-37-06285b48a939>\u001b[0m in \u001b[0;36mh\u001b[0;34m(y)\u001b[0m\n\u001b[1;32m      1\u001b[0m \u001b[0;32mdef\u001b[0m \u001b[0mh\u001b[0m\u001b[0;34m(\u001b[0m\u001b[0my\u001b[0m\u001b[0;34m)\u001b[0m\u001b[0;34m:\u001b[0m\u001b[0;34m\u001b[0m\u001b[0;34m\u001b[0m\u001b[0m\n\u001b[0;32m----> 2\u001b[0;31m     \u001b[0mx\u001b[0m \u001b[0;34m+=\u001b[0m \u001b[0;36m1\u001b[0m\u001b[0;34m\u001b[0m\u001b[0;34m\u001b[0m\u001b[0m\n\u001b[0m\u001b[1;32m      3\u001b[0m \u001b[0;34m\u001b[0m\u001b[0m\n\u001b[1;32m      4\u001b[0m \u001b[0mx\u001b[0m \u001b[0;34m=\u001b[0m \u001b[0;36m5\u001b[0m\u001b[0;34m\u001b[0m\u001b[0;34m\u001b[0m\u001b[0m\n\u001b[1;32m      5\u001b[0m \u001b[0mh\u001b[0m\u001b[0;34m(\u001b[0m\u001b[0mx\u001b[0m\u001b[0;34m)\u001b[0m\u001b[0;34m\u001b[0m\u001b[0;34m\u001b[0m\u001b[0m\n",
      "\u001b[0;31mUnboundLocalError\u001b[0m: local variable 'x' referenced before assignment"
     ]
    }
   ],
   "source": [
    "def h(y):\n",
    "    x += 1\n",
    "    \n",
    "x = 5\n",
    "h(x)\n",
    "print(x)"
   ]
  },
  {
   "cell_type": "markdown",
   "metadata": {},
   "source": [
    "### Global variables\n",
    "\n",
    "a loophole around scopes\n",
    "\n",
    "typically frowned upon.\n",
    "\n",
    "Can be inside of function but then modify variable that is outside of their scope"
   ]
  },
  {
   "cell_type": "markdown",
   "metadata": {},
   "source": [
    "### python tutor\n",
    "\n",
    "www.pythontutor.com\n",
    "\n",
    "allows go through python, paste code, will show you what values each var has, when scopes created, when scopes get destroyed. \n",
    "\n",
    "there is a really nice example from the class she mentions..."
   ]
  },
  {
   "cell_type": "code",
   "execution_count": null,
   "metadata": {},
   "outputs": [],
   "source": []
  }
 ],
 "metadata": {
  "kernelspec": {
   "display_name": "Python 3",
   "language": "python",
   "name": "python3"
  },
  "language_info": {
   "codemirror_mode": {
    "name": "ipython",
    "version": 3
   },
   "file_extension": ".py",
   "mimetype": "text/x-python",
   "name": "python",
   "nbconvert_exporter": "python",
   "pygments_lexer": "ipython3",
   "version": "3.9.4"
  }
 },
 "nbformat": 4,
 "nbformat_minor": 4
}
