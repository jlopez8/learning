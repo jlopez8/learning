{
 "cells": [
  {
   "cell_type": "markdown",
   "id": "a3a7476e",
   "metadata": {},
   "source": [
    "# Lecture 5 Tuples, Lists, Aliasing, Mutability, and Cloning"
   ]
  },
  {
   "cell_type": "markdown",
   "id": "0bfe553f",
   "metadata": {},
   "source": [
    "LINK: https://ocw.mit.edu/courses/electrical-engineering-and-computer-science/6-0001-introduction-to-computer-science-and-programming-in-python-fall-2016/lecture-videos/lecture-5-tuples-lists-aliasing-mutability-and-cloning/"
   ]
  },
  {
   "cell_type": "markdown",
   "id": "ce85d20e",
   "metadata": {},
   "source": [
    "\n",
    "## Tuples\n",
    "- previously achieve abstractions and reusable coding via functions.\n",
    "\n",
    "- compound data types: lists and tuples\n",
    "\n",
    "- **tuples are immutable**\n",
    "    - tuples created with ()\n",
    "    - t = (2, \"mit\", 3)\n",
    "- **tuple operations\n",
    "    - **indexing**: t[0] = 2\n",
    "    - **concat**: (2, \"mit\", 3) + (5,6) -> (2, \"mit\", 3, 5,6)\n",
    "    - **length**: len(t)\n",
    "    \n",
    "- t[1:2] -> slice tuple, evaluates to (\"mit\", ) this comma means that we have a tuple versus just a string\n",
    "- t[1:3] -> slice tuple, evaluates to (\"mit\",3)\n",
    "\n"
   ]
  },
  {
   "cell_type": "markdown",
   "id": "34639723",
   "metadata": {},
   "source": [
    "\n",
    "**Why use tuples?**\n",
    "- a three-line swapping values algorithm exchange value of x and y can be done in just one step!\n",
    "     - (x,y) = (y,x)       \n",
    "- returns more than one value from a function\n",
    "    - q = x // y\n",
    "    - r = x & y\n",
    "    - return (q,r)  \n",
    "\n",
    "\n",
    "### manipulating tuples\n",
    "\n",
    "- iterate tuples: iterate over tuple objects\n",
    "    - for t in tuple...\n",
    "        - num = num + (t[0],)  # second part is just so that t[0] which is an int can be recognized as a tuple and so concatenated w another tuple 'num'\n",
    "        - words= words + (t[1],) # concat a list of words if the word is not already in a list.... "
   ]
  },
  {
   "cell_type": "markdown",
   "id": "8be87cad",
   "metadata": {},
   "source": [
    "## Lists\n",
    "\n",
    "- a_list = []\n",
    "- L = [2, 'a', 4, [1,2]]\n",
    "\n",
    "- **lists are mutable**\n",
    "\n",
    "**operations**\n",
    "len(L) \n",
    "L[0]\n",
    "L[2]+1\n",
    "L[i-1] expressions in index\n",
    "\n",
    "\n",
    "**iterating over a list**\n",
    "- compute sum of a list of elements  \n",
    "- total += L[i] \n",
    "\n",
    "**add lists w +**\n",
    "\n",
    "- combine lists with +:   this does not change them\n",
    "    - L1 = [2, 1, 3], L2 = [4, 5, 6]: L3 = L1 + L2  \n",
    "    \n",
    "- mutate directly with .extend\n",
    "    - L1.extend([0,6])  # this does change the list\n",
    "\n",
    "**remove with -**\n",
    "\n",
    "- del(L[index]) : remove @ index\n",
    "- L.pop() : remove end element\n",
    "- L.remove(element) : remove specific element\n",
    "    - only removes first occurence\n",
    "    \n",
    "**convert strings to list and vice versa**\n",
    "- list(s) : convert string to a list. every char is an element in list\n",
    "- s.spint : split string on a character\n",
    "- ''.join(L) : turn a list into a string\n",
    "- '_'.join(L) : you can join on any character you want like an underscore!\n",
    "\n",
    "**other list ops**\n",
    "- sort() : mutates L\n",
    "- sorted(L) : does not mutate L, returns a new list\n",
    "- reverse() : mutates L \n",
    "\n"
   ]
  },
  {
   "cell_type": "markdown",
   "id": "27256ee2",
   "metadata": {},
   "source": [
    "## Aliases in Lists\n",
    "\n",
    "Suppose we have some code:"
   ]
  },
  {
   "cell_type": "code",
   "execution_count": 1,
   "id": "360961ad",
   "metadata": {},
   "outputs": [
    {
     "name": "stdout",
     "output_type": "stream",
     "text": [
      "1\n",
      "1\n"
     ]
    }
   ],
   "source": [
    "a = 1\n",
    "b = a\n",
    "print(a)\n",
    "print(b)"
   ]
  },
  {
   "cell_type": "markdown",
   "id": "f7884f08",
   "metadata": {},
   "source": [
    "We can see that hot is an alias for warm, so if we change hot by adding an element, then warm will also change because they are in fact referencing the same piece of data. "
   ]
  },
  {
   "cell_type": "code",
   "execution_count": 3,
   "id": "8dce5eec",
   "metadata": {},
   "outputs": [
    {
     "name": "stdout",
     "output_type": "stream",
     "text": [
      "['red', 'yellow', 'orange', 'pink']\n",
      "['red', 'yellow', 'orange', 'pink']\n"
     ]
    }
   ],
   "source": [
    "warm = ['red', 'yellow', 'orange']\n",
    "hot = warm\n",
    "hot.append('pink')\n",
    "print(hot)\n",
    "print(warm)"
   ]
  },
  {
   "cell_type": "markdown",
   "id": "509c7215",
   "metadata": {},
   "source": [
    "## Cloning  A List\n",
    "\n",
    "- chill = cool[:]  . use the : syntax. \n",
    "\n",
    "Work this in some code to see that the results are different"
   ]
  },
  {
   "cell_type": "code",
   "execution_count": 5,
   "id": "638fc310",
   "metadata": {},
   "outputs": [
    {
     "name": "stdout",
     "output_type": "stream",
     "text": [
      "['blue', 'green', 'grey', 'black']\n",
      "['blue', 'green', 'grey']\n"
     ]
    }
   ],
   "source": [
    "cool = ['blue', 'green', 'grey']\n",
    "chill = cool[:]\n",
    "chill.append('black')\n",
    "print(chill)\n",
    "print(cool)"
   ]
  },
  {
   "cell_type": "markdown",
   "id": "097ae61e",
   "metadata": {},
   "source": [
    "## Sorting Lists\n",
    "\n",
    "- sort() : mutates list, returns nothing\n",
    "- sorted() : does not mutate list, must assign the return to a variable\n"
   ]
  },
  {
   "cell_type": "code",
   "execution_count": 13,
   "id": "b08e6c11",
   "metadata": {},
   "outputs": [
    {
     "name": "stdout",
     "output_type": "stream",
     "text": [
      "['blue', 'green', 'grey']\n",
      "['blue', 'green', 'grey', 'black']\n",
      "['black', 'blue', 'green', 'grey']\n",
      "['blue', 'green', 'grey', 'black']\n"
     ]
    }
   ],
   "source": [
    "cool.sort()\n",
    "print(cool)\n",
    "\n",
    "print(chill)\n",
    "sorted_chill = sorted(chill)\n",
    "print(sorted_chill)\n",
    "print(chill)"
   ]
  },
  {
   "cell_type": "markdown",
   "id": "af9bbc47",
   "metadata": {},
   "source": [
    "## Nested Lists\n"
   ]
  },
  {
   "cell_type": "code",
   "execution_count": 20,
   "id": "c6a57da6",
   "metadata": {},
   "outputs": [
    {
     "name": "stdout",
     "output_type": "stream",
     "text": [
      "[['yellow', 'orange'], ['red']]\n",
      "['red', 'pink']\n",
      "[['yellow', 'orange'], ['red', 'pink']]\n"
     ]
    }
   ],
   "source": [
    "warm = ['yellow', 'orange']\n",
    "hot = ['red']\n",
    "\n",
    "brightcolors = [warm]  # this is a list of the previous list!\n",
    "brightcolors.append(hot)\n",
    "print(brightcolors)  \n",
    "\n",
    "hot.append('pink')\n",
    "print(hot)\n",
    "print(brightcolors)"
   ]
  },
  {
   "cell_type": "code",
   "execution_count": 17,
   "id": "098719fd",
   "metadata": {},
   "outputs": [
    {
     "name": "stdout",
     "output_type": "stream",
     "text": [
      "[['yellow', 'orange'], ['red']]\n"
     ]
    }
   ],
   "source": []
  },
  {
   "cell_type": "code",
   "execution_count": null,
   "id": "a01003ca",
   "metadata": {},
   "outputs": [],
   "source": []
  }
 ],
 "metadata": {
  "kernelspec": {
   "display_name": "Python 3",
   "language": "python",
   "name": "python3"
  },
  "language_info": {
   "codemirror_mode": {
    "name": "ipython",
    "version": 3
   },
   "file_extension": ".py",
   "mimetype": "text/x-python",
   "name": "python",
   "nbconvert_exporter": "python",
   "pygments_lexer": "ipython3",
   "version": "3.9.4"
  }
 },
 "nbformat": 4,
 "nbformat_minor": 5
}
