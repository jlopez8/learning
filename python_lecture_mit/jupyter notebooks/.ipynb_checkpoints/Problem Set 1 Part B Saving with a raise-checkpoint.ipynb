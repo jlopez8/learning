{
 "cells": [
  {
   "cell_type": "markdown",
   "id": "924715b0",
   "metadata": {},
   "source": [
    "# Problem set 1"
   ]
  },
  {
   "cell_type": "markdown",
   "id": "c4472fdc",
   "metadata": {},
   "source": [
    "## Part B: Saving, with a raise Background\n",
    "​Please make your\n",
    "In Part A, we unrealistically assumed that your salary didn’t change. But you are an MIT graduate, and clearly you are going to be worth more to your company over time! So we are going to build on your solution to Part A by factoring in a raise every six months.\n",
    "In ​ps1b.py​, copy your solution to Part A (as we are going to reuse much of that machinery). Modify your program to include the following\n",
    "1. Have the user input a semi-annual salary raise ​semi_annual_raise​ (as a decimal percentage) \n",
    "2. After the 6t​h​ month, increase your salary by that percentage. Do the same after the 12t​h\n",
    "month, the 18​th​ month, and so on.\n",
    "Write a program to calculate how many months it will take you save up enough money for a down payment. LIke before, assume that your investments earn a return of ​r​ = 0.04 (or 4%) and the required down payment percentage is 0.25 (or 25%). Have the user enter the following variables:\n",
    "1. The starting annual salary (annual_salary)\n",
    "2\n",
    "2. The percentage of salary to be saved (portion_saved)\n",
    "3. The cost of your dream home (total_cost)\n",
    "4. The semi­annual salary raise (semi_annual_raise)\n",
    "Hints\n",
    "To help you get started, here is a rough outline of the stages you should probably follow in writing your code:\n",
    "● Retrieve user input.\n",
    "● Initialize some state variables. You should decide what information you need. Be sure to be\n",
    "careful about values that represent annual amounts and those that represent monthly amounts.\n",
    "● Be careful about when you increase your salary – this should only happen ​after​ the 6t​h,​ 12t​h​, 18t​h\n",
    "month, and so on.\n",
    "Try different inputs and see how quickly or slowly you can save enough for a down payment.\n",
    "make your program print results in the format shown in the test cases below.\n"
   ]
  },
  {
   "cell_type": "code",
   "execution_count": 1,
   "id": "4683984e",
   "metadata": {},
   "outputs": [],
   "source": [
    "# Auth: Dr. Jaime Lopez-Merizalde\n",
    "# Date: 4 13 2021\n",
    "# UpD:\n",
    "# Descri: homework 1 part b"
   ]
  },
  {
   "cell_type": "code",
   "execution_count": 6,
   "id": "e7b6d3aa",
   "metadata": {},
   "outputs": [],
   "source": [
    "# begin code....\n",
    "\n",
    "\n",
    "# total_cost = 0 # dream house cost\n",
    "portion_down_payment = 0.25 # portion of downpayment cost\n",
    "current_savings = 0 # start w 0\n",
    "r = 0.04 # annual rate of return\n",
    "\n",
    "# return_ = current_savings*r/12\n",
    "# annual_salary = 0 # starting annual salary\n",
    "# semi_annual_raise = 0.01 # active every 6 months\n",
    "\n",
    "# decimalrepresent amount of salary per mo.to save for downpayment\n",
    "# portion_saved = 0.0"
   ]
  },
  {
   "cell_type": "code",
   "execution_count": 14,
   "id": "a1c913a4",
   "metadata": {},
   "outputs": [
    {
     "name": "stdout",
     "output_type": "stream",
     "text": [
      "What is your annual salary? d\n"
     ]
    },
    {
     "ename": "ValueError",
     "evalue": "could not convert string to float: 'd'",
     "output_type": "error",
     "traceback": [
      "\u001b[0;31m---------------------------------------------------------------------------\u001b[0m",
      "\u001b[0;31mValueError\u001b[0m                                Traceback (most recent call last)",
      "\u001b[0;32m<ipython-input-14-366bb85d9f29>\u001b[0m in \u001b[0;36m<module>\u001b[0;34m\u001b[0m\n\u001b[1;32m      1\u001b[0m \u001b[0;31m# get user input\u001b[0m\u001b[0;34m\u001b[0m\u001b[0;34m\u001b[0m\u001b[0;34m\u001b[0m\u001b[0m\n\u001b[0;32m----> 2\u001b[0;31m \u001b[0mannual_salary\u001b[0m \u001b[0;34m=\u001b[0m \u001b[0mfloat\u001b[0m\u001b[0;34m(\u001b[0m\u001b[0minput\u001b[0m\u001b[0;34m(\u001b[0m\u001b[0;34m\"What is your annual salary? \"\u001b[0m\u001b[0;34m)\u001b[0m\u001b[0;34m)\u001b[0m\u001b[0;34m\u001b[0m\u001b[0;34m\u001b[0m\u001b[0m\n\u001b[0m\u001b[1;32m      3\u001b[0m \u001b[0mportion_saved\u001b[0m \u001b[0;34m=\u001b[0m \u001b[0mfloat\u001b[0m\u001b[0;34m(\u001b[0m\u001b[0minput\u001b[0m\u001b[0;34m(\u001b[0m\u001b[0;34m\"What is the portion of your salary to be saved (as a decimal)? \"\u001b[0m\u001b[0;34m)\u001b[0m\u001b[0;34m)\u001b[0m\u001b[0;34m\u001b[0m\u001b[0;34m\u001b[0m\u001b[0m\n\u001b[1;32m      4\u001b[0m \u001b[0mtotal_cost\u001b[0m \u001b[0;34m=\u001b[0m \u001b[0mfloat\u001b[0m\u001b[0;34m(\u001b[0m\u001b[0minput\u001b[0m\u001b[0;34m(\u001b[0m\u001b[0;34m\"What is the cost of your dream home? \"\u001b[0m\u001b[0;34m)\u001b[0m\u001b[0;34m)\u001b[0m\u001b[0;34m\u001b[0m\u001b[0;34m\u001b[0m\u001b[0m\n\u001b[1;32m      5\u001b[0m \u001b[0msemi_annual_raise\u001b[0m \u001b[0;34m=\u001b[0m \u001b[0mfloat\u001b[0m\u001b[0;34m(\u001b[0m\u001b[0minput\u001b[0m\u001b[0;34m(\u001b[0m\u001b[0;34m\"What is your semi-annual raise, as a decimal? \"\u001b[0m\u001b[0;34m)\u001b[0m\u001b[0;34m)\u001b[0m\u001b[0;34m\u001b[0m\u001b[0;34m\u001b[0m\u001b[0m\n",
      "\u001b[0;31mValueError\u001b[0m: could not convert string to float: 'd'"
     ]
    }
   ],
   "source": [
    "# get user input\n",
    "annual_salary = float(input(\"What is your annual salary? \"))\n",
    "portion_saved = float(input(\"What is the portion of your salary to be saved (as a decimal)? \"))\n",
    "total_cost = float(input(\"What is the cost of your dream home? \"))\n",
    "semi_annual_raise = float(input(\"What is your semi-annual raise, as a decimal? \"))\n",
    "\n",
    "\n",
    "# give user output\n",
    "no_months = months_to_save(annual_salary, semi_annual_raise, portion_saved, total_cost, current_savings, portion_down_payment, r)\n",
    "print(\"Number of months: \", no_months)"
   ]
  },
  {
   "cell_type": "code",
   "execution_count": 15,
   "id": "56de95cc",
   "metadata": {},
   "outputs": [],
   "source": [
    "def monthly_return(current_savings, r):\n",
    "    \"\"\"\n",
    "    Compute monthly return given current savings and annual rate.\n",
    "    \n",
    "    Parameters\n",
    "    ----------\n",
    "    current_savings : float\n",
    "        The input current_savings as a decimal.\n",
    "        In the future vectorize.\n",
    "        \n",
    "    r : float\n",
    "        The input annual return rate as a decimal.\n",
    "        In the future vectorize.\n",
    "    \n",
    "    Returns\n",
    "    -------\n",
    "    monthly_return : float\n",
    "        The computed contribution of the annual return rate based on current savings.\n",
    "        \n",
    "    Instructions\n",
    "    ------------\n",
    "\n",
    "    \"\"\"\n",
    "\n",
    "    # ====================== YOUR CODE HERE ======================\n",
    "    monthly_return = current_savings*(r/12.0);\n",
    "    \n",
    "    # =============================================================\n",
    "    return monthly_return"
   ]
  },
  {
   "cell_type": "code",
   "execution_count": 16,
   "id": "48bc9e83",
   "metadata": {},
   "outputs": [],
   "source": [
    "def months_to_save(annual_salary, semi_annual_raise, portion_saved, total_cost, current_savings, portion_down_payment, r):\n",
    "    \"\"\"\n",
    "    Compute monthly return given current savings and annual rate.\n",
    "    \n",
    "    Parameters\n",
    "    ----------\n",
    "    annual_salary : float\n",
    "        The input annual_salary as a decimal.\n",
    "        In the future vectorize.\n",
    "        \n",
    "    portion_saved : float\n",
    "        The input portion to save per mo. of annual salary.\n",
    "        In the future vectorize.\n",
    "        \n",
    "    total_cost : float\n",
    "        The input total dream house cost.\n",
    "        In the future vectorize\n",
    "    \n",
    "    current_savings : float \n",
    "        The input current amount of savings.\n",
    "        This is a float with accuracy to the hundredths.\n",
    "    \n",
    "    portion_down_payment : float  \n",
    "        The input portion of total cost representing downpayment.\n",
    "        Is a decimal. \n",
    "        \n",
    "    semi_annual_raise : float\n",
    "        The input semi_annual_raise as a decimal.\n",
    "        In the future vectorize. \n",
    "    \n",
    "    r : float\n",
    "        The input annual percent rate as a decimal\n",
    "    \n",
    "    \n",
    "    Returns\n",
    "    -------\n",
    "    months_to_save : int\n",
    "        The computed number of months required to save\n",
    "        \n",
    "    Instructions\n",
    "    ------------\n",
    "\n",
    "    \"\"\"\n",
    "\n",
    "    # ====================== YOUR CODE HERE ======================\n",
    "    # At the end of each month, your savings will be increased by the return on your investment,\n",
    "    # plus a percentage of your ​monthly salary ​(annual salary / 12).\n",
    "    \n",
    "    months_to_save = 0\n",
    "    goal_savings = total_cost*portion_down_payment\n",
    "    \n",
    "    while(goal_savings > current_savings and months_to_save < 500):\n",
    "        \n",
    "        # increase the annual salary after every 6th month\n",
    "        if( months_to_save%6 == 0 and months_to_save>0 ):\n",
    "            annual_salary = annual_salary*(1 + semi_annual_raise)\n",
    "            \n",
    "        ROI = monthly_return(current_savings, r)        \n",
    "        salary_contribution = portion_saved*(annual_salary/12)\n",
    "        \n",
    "        # update savings\n",
    "        current_savings += ROI + salary_contribution\n",
    "        months_to_save += 1\n",
    "        \n",
    "    if months_to_save == 500:\n",
    "        print(\"Months to save exceeds 500! Calculation terminated prematurely.\")\n",
    "    # =============================================================\n",
    "    return months_to_save"
   ]
  },
  {
   "cell_type": "code",
   "execution_count": 17,
   "id": "046cf8cf",
   "metadata": {},
   "outputs": [
    {
     "name": "stdout",
     "output_type": "stream",
     "text": [
      "Test case 1\n",
      "Number of months:  142\n",
      "Number of months (expected): 142\n"
     ]
    }
   ],
   "source": [
    "print(\"Test case 1\")\n",
    "\n",
    "# get user input\n",
    "annual_salary = 120000\n",
    "portion_saved = .05\n",
    "total_cost = 500000\n",
    "semi_annual_raise = 0.03\n",
    "\n",
    "# give user output\n",
    "no_months = months_to_save(annual_salary, semi_annual_raise, portion_saved, total_cost, current_savings, portion_down_payment, r)\n",
    "print(\"Number of months: \", no_months)\n",
    "print(\"Number of months (expected): 142\")"
   ]
  },
  {
   "cell_type": "code",
   "execution_count": 18,
   "id": "73c008a0",
   "metadata": {},
   "outputs": [
    {
     "name": "stdout",
     "output_type": "stream",
     "text": [
      "Test case 2\n",
      "Number of months:  159\n",
      "Number of months (expected): 159\n"
     ]
    }
   ],
   "source": [
    "print(\"Test case 2\")\n",
    "\n",
    "# get user input\n",
    "annual_salary = 80000\n",
    "portion_saved = .1\n",
    "total_cost = 800000\n",
    "semi_annual_raise = 0.03\n",
    "\n",
    "# give user output\n",
    "no_months = months_to_save(annual_salary, semi_annual_raise, portion_saved, total_cost, current_savings, portion_down_payment, r)\n",
    "print(\"Number of months: \", no_months)\n",
    "print(\"Number of months (expected): 159\")"
   ]
  },
  {
   "cell_type": "code",
   "execution_count": 19,
   "id": "3661ed7e",
   "metadata": {},
   "outputs": [
    {
     "name": "stdout",
     "output_type": "stream",
     "text": [
      "Test case 3\n",
      "Number of months:  261\n",
      "Number of months (expected): 261\n"
     ]
    }
   ],
   "source": [
    "print(\"Test case 3\")\n",
    "\n",
    "# get user input\n",
    "annual_salary = 75000\n",
    "portion_saved = .05\n",
    "total_cost = 1500000\n",
    "semi_annual_raise = 0.05\n",
    "\n",
    "# give user output\n",
    "no_months = months_to_save(annual_salary, semi_annual_raise, portion_saved, total_cost, current_savings, portion_down_payment, r)\n",
    "print(\"Number of months: \", no_months)\n",
    "print(\"Number of months (expected): 261\")"
   ]
  },
  {
   "cell_type": "code",
   "execution_count": null,
   "id": "19d13e0f",
   "metadata": {},
   "outputs": [],
   "source": []
  }
 ],
 "metadata": {
  "kernelspec": {
   "display_name": "Python 3",
   "language": "python",
   "name": "python3"
  },
  "language_info": {
   "codemirror_mode": {
    "name": "ipython",
    "version": 3
   },
   "file_extension": ".py",
   "mimetype": "text/x-python",
   "name": "python",
   "nbconvert_exporter": "python",
   "pygments_lexer": "ipython3",
   "version": "3.9.4"
  }
 },
 "nbformat": 4,
 "nbformat_minor": 5
}
