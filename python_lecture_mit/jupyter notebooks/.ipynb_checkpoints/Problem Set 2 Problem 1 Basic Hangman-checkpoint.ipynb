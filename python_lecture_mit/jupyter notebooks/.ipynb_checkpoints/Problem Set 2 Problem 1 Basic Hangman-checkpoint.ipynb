{
 "cells": [
  {
   "cell_type": "markdown",
   "id": "18956faf",
   "metadata": {},
   "source": [
    "# Problem Set 2\n",
    "\n",
    "## Problem 1: Basic Hangman\n",
    "\n",
    "You will implement a variation of the classic word game Hangman. If you are unfamiliar with the rules of the game, read http://en.wikipedia.org/wiki/Hangman_(game). Don’t be intimidated by this problem \n",
    "it's actually easier than it looks! We will 'scaffold' this problem, guiding you through the creation of helper functions before you implement the actual game.\n",
    "\n",
    "1.  Getting Started\n",
    "Download the files “hangman.py” and “words.txt”, and ​save them both in the same directory​. Run the file hangman.py before writing any code to ensure your files are saved correctly. The code we have given you loads in words from a file. You should see the following output in your shell:\n",
    "\n",
    "    1. Loading word list from file... 55900 words loaded.\n",
    "    \n",
    "If you see the above text, continue on to Hangman Game Requirements. If you don’t, double check that both files are saved in the same place!\n",
    "\n",
    "2. Hangman Game Requirements\n",
    "You will implement a function called ​hangman​ that will allow the user to play hangman against the computer. The computer picks the word, and the player tries to guess letters in the word.\n",
    "\n",
    "Here is the general behavior we want to implement. Don’t be intimidated! This is just a description; ​we will break this down into steps and provide further functional specs later on in the pset so keep reading!\n",
    "\n",
    "    1. The computer must select a word at random from the list of available words that was provided in words.txt. Note that words.txt contains words in all lowercase letters.\n",
    "    2. The user is given a certain number of guesses at the beginning.\n",
    "    3. The game is interactive; the user inputs their guess and the computer either:\n",
    "        a. reveals the letter if it exists in the secret word\n",
    "        b. penalize the user and updates the number of guesses remaining\n",
    "    4. The game ends when either the user guesses the secret word, or the user runs out of guesses."
   ]
  },
  {
   "cell_type": "markdown",
   "id": "f95832ae",
   "metadata": {},
   "source": [
    "## Preamble\n",
    "\n",
    "**Auth:** Dr. Jaime Lopez-Merizalde \n",
    "\n",
    "**Date:** 5 11 2021\n",
    "\n",
    "**UpD:**\n",
    "\n",
    "**Descri:** homework 2"
   ]
  },
  {
   "cell_type": "code",
   "execution_count": 143,
   "id": "ad40d0e4",
   "metadata": {},
   "outputs": [
    {
     "name": "stdout",
     "output_type": "stream",
     "text": [
      "Loading word list from file...\r\n",
      "   55900 words loaded.\r\n"
     ]
    }
   ],
   "source": [
    "# prerequisites\n",
    "# file_name = 'support/ps2/hangman.py'\n",
    "import sys\n",
    "sys.path.append(\"./support/ps2/\")\n",
    "import hangman\n",
    "import string\n",
    "\n",
    "!python support/ps2/hangman.py \n",
    "# print(string.ascii_lowercase) #abcdefghijklmnopqrstuvwxyz"
   ]
  },
  {
   "cell_type": "markdown",
   "id": "bf34bec9",
   "metadata": {},
   "source": [
    "## Problem 2: Three Helper Functions\n"
   ]
  },
  {
   "cell_type": "code",
   "execution_count": 100,
   "id": "eee2c691",
   "metadata": {},
   "outputs": [],
   "source": [
    "def is_word_guessed(secret_word, letters_guessed):\n",
    "    \"\"\"\n",
    "    Input:  \n",
    "    \n",
    "    secret_word: a string. \n",
    "    represents the word user is trying to guess.\n",
    "    \n",
    "    letters_guessed: a string.\n",
    "    represents the current user guess for the secret word.\n",
    "    \n",
    "    \n",
    "    Output: \n",
    "    \n",
    "    : boolean. \n",
    "    True if secret_word is equal in letters letters_guessed.\n",
    "    False otherwise.\n",
    "    \"\"\"\n",
    "    \n",
    "    # ======== Code Here =========\n",
    "    counter = 0\n",
    "    character_exist = (secret_word[counter] in letters_guessed)\n",
    "    while character_exist and counter < len(secret_word)-1:\n",
    "        counter += 1\n",
    "        character_exist = (secret_word[counter] in letters_guessed)\n",
    "    \n",
    "    word_is_guessed = False\n",
    "    if(counter == len(secret_word)-1):\n",
    "        word_is_guessed = True\n",
    " \n",
    "    # ======== Code Here =========\n",
    "    \n",
    "    return word_is_guessed\n",
    "    "
   ]
  },
  {
   "cell_type": "code",
   "execution_count": 101,
   "id": "455ca98c",
   "metadata": {},
   "outputs": [
    {
     "name": "stdout",
     "output_type": "stream",
     "text": [
      "False\n",
      "Expected: false\n"
     ]
    }
   ],
   "source": [
    "# Test case for is_word_guessed\n",
    "secret_word = 'apple'\n",
    "letters_guessed = ['e', 'i', 'k', 'p', 'r', 's']\n",
    "print(is_word_guessed(secret_word, letters_guessed))\n",
    "print('Expected: false')"
   ]
  },
  {
   "cell_type": "code",
   "execution_count": 102,
   "id": "018cf4a8",
   "metadata": {},
   "outputs": [
    {
     "name": "stdout",
     "output_type": "stream",
     "text": [
      "True\n",
      "Expected: true\n"
     ]
    }
   ],
   "source": [
    "# Test case for is_word_guessed\n",
    "secret_word = 'apple'\n",
    "letters_guessed = ['a', 'p', 'p', 'l', 'e', 's']\n",
    "print(is_word_guessed(secret_word, letters_guessed))\n",
    "print('Expected: true')"
   ]
  },
  {
   "cell_type": "code",
   "execution_count": 194,
   "id": "be6989e9",
   "metadata": {},
   "outputs": [],
   "source": [
    "def get_guessed_word(secret_word, letters_guessed):\n",
    "    \"\"\"\n",
    "    Input:  \n",
    "    \n",
    "    secret_word: a string. \n",
    "    represents the word user is trying to guess.\n",
    "    \n",
    "    letters_guessed: a list of characters.\n",
    "    represents the current user guess for the secret word.\n",
    "    \n",
    "    Output: \n",
    "    \n",
    "    matching_letters: string.\n",
    "    String is comprised of letters and underscores, based on what what in letters_guessed is also in secrete_word.\n",
    "    \"\"\"\n",
    "    \n",
    "    # ======== Code Here =========\n",
    "\n",
    "    matching_letters = \"\"\n",
    "\n",
    "    for letter in secret_word:\n",
    "        if letter in letters_guessed:\n",
    "            matching_letters = matching_letters + letter\n",
    "        else :\n",
    "            matching_letters = matching_letters + \"_\"\n",
    "    # ======== Code Here =========\n",
    "    \n",
    "    return matching_letters"
   ]
  },
  {
   "cell_type": "code",
   "execution_count": 195,
   "id": "9f7be801",
   "metadata": {},
   "outputs": [
    {
     "name": "stdout",
     "output_type": "stream",
     "text": [
      "outcome:  _pp_e\n",
      "expected: _pp_e\n"
     ]
    }
   ],
   "source": [
    "# Test case for get_guessed_word\n",
    "secret_word = 'apple'\n",
    "letters_guessed = ['e', 'i', 'k', 'p', 'r', 's']\n",
    "print('outcome: ', get_guessed_word(secret_word, letters_guessed))\n",
    "print('expected: _pp_e')"
   ]
  },
  {
   "cell_type": "code",
   "execution_count": 126,
   "id": "f6a4be38",
   "metadata": {},
   "outputs": [],
   "source": [
    "def get_available_letters(letters_guessed): \n",
    "    \"\"\"\n",
    "    Input:  \n",
    "    \n",
    "    letters_guessed: a list of characters.\n",
    "    represents the current user guess for the secret word.\n",
    "    \n",
    "    Output: \n",
    "    \n",
    "    available_letters: string.\n",
    "    String comprised of lowercase English letters - all lowercase English letters that are not in letters guessed, \n",
    "    these are arranged in alphabetical order.\n",
    "    \"\"\"\n",
    "    \n",
    "    # ======== Code Here =========\n",
    "    \n",
    "    # part 0: list lower case letters English 26 characters\n",
    "    english_letters = string.ascii_lowercase \n",
    "    \n",
    "    # part 1: remove words using translate method, \n",
    "    available_letters = english_letters.translate({ord(i): None for i in letters_guessed})\n",
    "    \n",
    "    # ======== Code Here =========\n",
    "\n",
    "    return available_letters"
   ]
  },
  {
   "cell_type": "code",
   "execution_count": 131,
   "id": "fd6240e0",
   "metadata": {},
   "outputs": [
    {
     "name": "stdout",
     "output_type": "stream",
     "text": [
      "Waiting implementation\n",
      "returned:  abcdfghjlmnoqtuvwxyz\n",
      "expected:  abcdfghjlmnoqtuvwxyz\n"
     ]
    }
   ],
   "source": [
    "# Test case for get_available_letters\n",
    "letters_guessed = ['e', 'i', 'k', 'p', 'r', 's']\n",
    "print ('returned: ', get_available_letters(letters_guessed))\n",
    "print('expected:  abcdfghjlmnoqtuvwxyz')"
   ]
  },
  {
   "cell_type": "markdown",
   "id": "aaa7a9bf",
   "metadata": {},
   "source": [
    "## Problem 3: The Hangman Game"
   ]
  },
  {
   "cell_type": "code",
   "execution_count": 235,
   "id": "5e8bcdef",
   "metadata": {},
   "outputs": [],
   "source": [
    "def hangman(secret_word):\n",
    "    \"\"\"\n",
    "    Input:  \n",
    "    \n",
    "    secret_word: a string.\n",
    "    This is the word the user should guess.\n",
    "    \n",
    "    Output: None.\n",
    "    There is a print statement that is executed so the user knows the outcome of the game.\n",
    "    \"\"\"\n",
    "    \n",
    "    # ======== Code Here =========\n",
    "    \n",
    "    #============== Block 0\n",
    "    # getting thing started\n",
    "    \n",
    "    # part -1: loading external dependencies\n",
    "    !python support/ps2/hangman.py\n",
    "    \n",
    "    # part 0: initialize parameters\n",
    "    turn = 0\n",
    "    user_guesses = 6\n",
    "    \n",
    "    list_guesses = []\n",
    "    current_available_letters = get_available_letters(\"\")\n",
    "    \n",
    "    # part 1: starting print statements\n",
    "    print('Bienvenido to the Hangman game.')\n",
    "    print('The computer has chosen a word that is {} letters long.'.format(len(secret_word)))\n",
    "    \n",
    "    \n",
    "    #============== Block 1 \n",
    "    \n",
    "    # restart warnings again  \n",
    "    warnings = 3 \n",
    "    \n",
    "    # part 2.0: display current status\n",
    "    print('You have {} guesses left.'.format(user_guesses))\n",
    "    print('=============================')\n",
    "    print('Letters available to guess from: ', current_available_letters)\n",
    "    \n",
    "    \n",
    "    # part 2.1: Start user input\n",
    "    # define letter ingest fn\n",
    "    def ingest_letter():\n",
    "        letter_guess = input(\"Guess a letter: \").lower()\n",
    "        is_valid_letter = str.isalpha(letter_guess) \n",
    "        is_previous_guess = letter_guess in list_guesses\n",
    "\n",
    "        return letter_guess, is_valid_letter, is_previous_guess;\n",
    "    \n",
    "    # take the letter\n",
    "    letter_guess, is_valid_letter, is_previous_guess=ingest_letter()\n",
    "    \n",
    "    # user guesses : \n",
    "    while user_guesses >= 1:\n",
    "        \n",
    "        if (not is_valid_letter):\n",
    "            if warnings >= 1:\n",
    "                warnings += -1\n",
    "                print(\"Enter valid english letter.\")\n",
    "                print(\"You have {} warnings left.\".format(warnings))\n",
    "                \n",
    "                letter_guess, is_valid_letter, is_previous_guess=ingest_letter()\n",
    "                \n",
    "            else :\n",
    "                user_guesses += -1\n",
    "                print(\"Enter valid english letter.\")\n",
    "                print(\"You have {} guesses left.\".format(user_guesses))\n",
    "                \n",
    "                letter_guess, is_valid_letter, is_previous_guess=ingest_letter()\n",
    "                \n",
    "        elif is_previous_guess:  # if we received a valid letter, check if it's a previous guess\n",
    "            \n",
    "             if warnings >= 1:\n",
    "                warnings += -1\n",
    "                print(\"You've already guessed that letter. Try something else.\")\n",
    "                print(\"You have {} warnings left.\".format(warnings))\n",
    "                \n",
    "                letter_guess, is_valid_letter, is_previous_guess=ingest_letter()\n",
    "    \n",
    "            if is_valid_letter:            \n",
    "                print(\"You've already guessed that letter. Try something else.\")\n",
    "                print(\"You have {} guesses left.\".format(user_guesses)) \n",
    "                \n",
    "                letter_guess, is_valid_letter, is_previous_guess=ingest_letter()\n",
    "        \n",
    "        else : # otherwise, it's a valid letter and not a previous guess\n",
    "            list_guesses.append(letter_guess) \n",
    "                                                                                                    \n",
    "     \n",
    "\n",
    "    print(list_guesses)\n",
    "        \n",
    "    # ======== Code Here ========="
   ]
  },
  {
   "cell_type": "code",
   "execution_count": 236,
   "id": "469e0e5a",
   "metadata": {},
   "outputs": [
    {
     "name": "stdout",
     "output_type": "stream",
     "text": [
      "Loading word list from file...\n",
      "   55900 words loaded.\n",
      "Waiting implementation\n",
      "Bienvenido to the Hangman game.\n",
      "The computer has chosen a word that is 3 letters long.\n",
      "You have 6 guesses left.\n",
      "=============================\n",
      "Letters available to guess from:  abcdefghijklmnopqrstuvwxyz\n",
      "Guess a letter: a\n",
      "is_previous_guess:  False\n"
     ]
    },
    {
     "ename": "KeyboardInterrupt",
     "evalue": "",
     "output_type": "error",
     "traceback": [
      "\u001b[0;31m-------------------------------------------------------\u001b[0m",
      "\u001b[0;31mKeyboardInterrupt\u001b[0m     Traceback (most recent call last)",
      "\u001b[0;32m<ipython-input-236-9cadd2f2e5e7>\u001b[0m in \u001b[0;36m<module>\u001b[0;34m\u001b[0m\n\u001b[1;32m      1\u001b[0m \u001b[0;31m# Test case for hangman function\u001b[0m\u001b[0;34m\u001b[0m\u001b[0;34m\u001b[0m\u001b[0;34m\u001b[0m\u001b[0m\n\u001b[1;32m      2\u001b[0m \u001b[0msecret_word\u001b[0m \u001b[0;34m=\u001b[0m \u001b[0;34m'pie'\u001b[0m\u001b[0;34m\u001b[0m\u001b[0;34m\u001b[0m\u001b[0m\n\u001b[0;32m----> 3\u001b[0;31m \u001b[0mhangman\u001b[0m\u001b[0;34m(\u001b[0m\u001b[0msecret_word\u001b[0m\u001b[0;34m)\u001b[0m\u001b[0;34m\u001b[0m\u001b[0;34m\u001b[0m\u001b[0m\n\u001b[0m",
      "\u001b[0;32m<ipython-input-235-d7070a538e3d>\u001b[0m in \u001b[0;36mhangman\u001b[0;34m(secret_word)\u001b[0m\n\u001b[1;32m     81\u001b[0m \u001b[0;34m\u001b[0m\u001b[0m\n\u001b[1;32m     82\u001b[0m             \u001b[0;32mif\u001b[0m \u001b[0mis_valid_letter\u001b[0m\u001b[0;34m:\u001b[0m\u001b[0;34m\u001b[0m\u001b[0;34m\u001b[0m\u001b[0m\n\u001b[0;32m---> 83\u001b[0;31m                 \u001b[0mlist_guesses\u001b[0m\u001b[0;34m.\u001b[0m\u001b[0mappend\u001b[0m\u001b[0;34m(\u001b[0m\u001b[0mletter_guess\u001b[0m\u001b[0;34m)\u001b[0m\u001b[0;34m\u001b[0m\u001b[0;34m\u001b[0m\u001b[0m\n\u001b[0m\u001b[1;32m     84\u001b[0m \u001b[0;34m\u001b[0m\u001b[0m\n\u001b[1;32m     85\u001b[0m \u001b[0;34m\u001b[0m\u001b[0m\n",
      "\u001b[0;31mKeyboardInterrupt\u001b[0m: "
     ]
    }
   ],
   "source": [
    "# Test case for hangman function\n",
    "secret_word = 'pie'\n",
    "hangman(secret_word)"
   ]
  },
  {
   "cell_type": "code",
   "execution_count": null,
   "id": "7ba818d1",
   "metadata": {},
   "outputs": [],
   "source": []
  },
  {
   "cell_type": "code",
   "execution_count": null,
   "id": "97e8c37f",
   "metadata": {},
   "outputs": [],
   "source": []
  },
  {
   "cell_type": "code",
   "execution_count": null,
   "id": "9acbd34c",
   "metadata": {},
   "outputs": [],
   "source": []
  }
 ],
 "metadata": {
  "kernelspec": {
   "display_name": "Python 3",
   "language": "python",
   "name": "python3"
  },
  "language_info": {
   "codemirror_mode": {
    "name": "ipython",
    "version": 3
   },
   "file_extension": ".py",
   "mimetype": "text/x-python",
   "name": "python",
   "nbconvert_exporter": "python",
   "pygments_lexer": "ipython3",
   "version": "3.9.4"
  }
 },
 "nbformat": 4,
 "nbformat_minor": 5
}
