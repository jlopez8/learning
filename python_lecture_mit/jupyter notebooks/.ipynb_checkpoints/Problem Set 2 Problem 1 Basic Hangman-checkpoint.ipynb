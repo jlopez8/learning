{
 "cells": [
  {
   "cell_type": "markdown",
   "id": "18956faf",
   "metadata": {},
   "source": [
    "# Problem Set 2\n",
    "\n",
    "## Problem 1\n",
    "\n",
    "You will implement a variation of the classic word game Hangman. If you are unfamiliar with the rules of the game, read http://en.wikipedia.org/wiki/Hangman_(game). Don’t be intimidated by this problem \n",
    "it's actually easier than it looks! We will 'scaffold' this problem, guiding you through the creation of helper functions before you implement the actual game.\n",
    "\n",
    "1.  Getting Started\n",
    "Download the files “hangman.py” and “words.txt”, and ​save them both in the same directory​. Run the file hangman.py before writing any code to ensure your files are saved correctly. The code we have given you loads in words from a file. You should see the following output in your shell:\n",
    "\n",
    "    1. Loading word list from file... 55900 words loaded.\n",
    "    \n",
    "If you see the above text, continue on to Hangman Game Requirements. If you don’t, double check that both files are saved in the same place!\n",
    "\n",
    "2. Hangman Game Requirements\n",
    "You will implement a function called ​hangman​ that will allow the user to play hangman against the computer. The computer picks the word, and the player tries to guess letters in the word.\n",
    "\n",
    "Here is the general behavior we want to implement. Don’t be intimidated! This is just a description; ​we will break this down into steps and provide further functional specs later on in the pset so keep reading!\n",
    "\n",
    "    1. The computer must select a word at random from the list of available words that was provided in words.txt. Note that words.txt contains words in all lowercase letters.\n",
    "    2. The user is given a certain number of guesses at the beginning.\n",
    "    3. The game is interactive; the user inputs their guess and the computer either:\n",
    "        a. reveals the letter if it exists in the secret word\n",
    "        b. penalize the user and updates the number of guesses remaining\n",
    "    4. The game ends when either the user guesses the secret word, or the user runs out of guesses."
   ]
  },
  {
   "cell_type": "markdown",
   "id": "f95832ae",
   "metadata": {},
   "source": [
    "## Preamble\n",
    "\n",
    "**Auth:** Dr. Jaime Lopez-Merizalde \n",
    "\n",
    "**Date:** 4 13 2021\n",
    "\n",
    "**UpD:**\n",
    "\n",
    "**Descri:** homework 2"
   ]
  },
  {
   "cell_type": "code",
   "execution_count": 60,
   "id": "ad40d0e4",
   "metadata": {},
   "outputs": [
    {
     "name": "stdout",
     "output_type": "stream",
     "text": [
      "Loading word list from file...\n",
      "   55900 words loaded.\n",
      "abcdefghijklmnopqrstuvwxyz\n"
     ]
    }
   ],
   "source": [
    "# prerequisites\n",
    "# file_name = 'support/ps2/hangman.py'\n",
    "import sys\n",
    "sys.path.append(\"./support/ps2/\")\n",
    "import hangman\n",
    "import string\n",
    "\n",
    "!python support/ps2/hangman.py \n",
    "# print(string.ascii_lowercase) #abcdefghijklmnopqrstuvwxyz"
   ]
  },
  {
   "cell_type": "markdown",
   "id": "bf34bec9",
   "metadata": {},
   "source": [
    "## Implementing Hangman"
   ]
  },
  {
   "cell_type": "code",
   "execution_count": null,
   "id": "0827fbcf",
   "metadata": {},
   "outputs": [],
   "source": [
    "def hangman():\n",
    "    "
   ]
  },
  {
   "cell_type": "code",
   "execution_count": 74,
   "id": "eee2c691",
   "metadata": {},
   "outputs": [],
   "source": [
    "def is_word_guessed(secret_word, letters_guessed):\n",
    "    \"\"\"\n",
    "    Input:  \n",
    "    \n",
    "    secret_word: a string. \n",
    "    represents the word user is trying to guess.\n",
    "    \n",
    "    letters_guessed: a string.\n",
    "    represents the current user guess for the secret word.\n",
    "    \n",
    "    \n",
    "    Output: \n",
    "    \n",
    "    : boolean. \n",
    "    True if secret_word is equal in letters letters_guessed.\n",
    "    False otherwise.\n",
    "    \"\"\"\n",
    "    \n",
    "    # ======== Code Here =========\n",
    "    letters_guessed_str = \"\"\n",
    "    for ele in letters_guessed: \n",
    "        letters_guessed_str += ele  \n",
    "        \n",
    "    is_word_guessed = secret_word == letters_guessed_str\n",
    "    # ======== Code Here =========\n",
    "    \n",
    "    return is_word_guessed\n",
    "    "
   ]
  },
  {
   "cell_type": "code",
   "execution_count": 76,
   "id": "455ca98c",
   "metadata": {},
   "outputs": [
    {
     "name": "stdout",
     "output_type": "stream",
     "text": [
      "False\n"
     ]
    }
   ],
   "source": [
    "# Test case for is_word_guessed\n",
    "secret_word = 'apple'\n",
    "letters_guessed = ['e', 'i', 'k', 'p', 'r', 's']\n",
    "print(is_word_guessed(secret_word, letters_guessed))"
   ]
  },
  {
   "cell_type": "code",
   "execution_count": 77,
   "id": "be6989e9",
   "metadata": {},
   "outputs": [],
   "source": [
    "def get_guessed_word(secret_word, letters_guessed):\n",
    "    \"\"\"\n",
    "    Input:  \n",
    "    \n",
    "    secret_word: a string. \n",
    "    represents the word user is trying to guess.\n",
    "    \n",
    "    letters_guessed: a list of characters.\n",
    "    represents the current user guess for the secret word.\n",
    "    \n",
    "    Output: \n",
    "    \n",
    "    matching_letters: string.\n",
    "    String is comprised of letters and underscores, based on what what in letters_guessed is also in secrete_word.\n",
    "    \"\"\"\n",
    "    \n",
    "    # ======== Code Here =========\n",
    "    \n",
    "    #YAH implementing:\n",
    "    # plan is. go through letters guessed and check to see which are in secret_word. This is a searching problem!\n",
    "    # ASK is letters_guessed[i] is IN secret_word. of course, check for multiple instances!!!\n",
    "    \n",
    "    # ======== Code Here =========\n",
    "    \n",
    "    print('Waiting implementation')\n",
    "    return matching_letters\n",
    "    "
   ]
  },
  {
   "cell_type": "code",
   "execution_count": 78,
   "id": "9f7be801",
   "metadata": {},
   "outputs": [
    {
     "name": "stdout",
     "output_type": "stream",
     "text": [
      "Waiting implementation\n"
     ]
    },
    {
     "ename": "NameError",
     "evalue": "name 'matching_letters' is not defined",
     "output_type": "error",
     "traceback": [
      "\u001b[0;31m-------------------------------------------------------\u001b[0m",
      "\u001b[0;31mNameError\u001b[0m             Traceback (most recent call last)",
      "\u001b[0;32m<ipython-input-78-66fea70ab940>\u001b[0m in \u001b[0;36m<module>\u001b[0;34m\u001b[0m\n\u001b[1;32m      2\u001b[0m \u001b[0msecret_word\u001b[0m \u001b[0;34m=\u001b[0m \u001b[0;34m'apple'\u001b[0m\u001b[0;34m\u001b[0m\u001b[0;34m\u001b[0m\u001b[0m\n\u001b[1;32m      3\u001b[0m \u001b[0mletters_guessed\u001b[0m \u001b[0;34m=\u001b[0m \u001b[0;34m[\u001b[0m\u001b[0;34m'e'\u001b[0m\u001b[0;34m,\u001b[0m \u001b[0;34m'i'\u001b[0m\u001b[0;34m,\u001b[0m \u001b[0;34m'k'\u001b[0m\u001b[0;34m,\u001b[0m \u001b[0;34m'p'\u001b[0m\u001b[0;34m,\u001b[0m \u001b[0;34m'r'\u001b[0m\u001b[0;34m,\u001b[0m \u001b[0;34m's'\u001b[0m\u001b[0;34m]\u001b[0m\u001b[0;34m\u001b[0m\u001b[0;34m\u001b[0m\u001b[0m\n\u001b[0;32m----> 4\u001b[0;31m \u001b[0mprint\u001b[0m\u001b[0;34m(\u001b[0m\u001b[0mget_guessed_word\u001b[0m\u001b[0;34m(\u001b[0m\u001b[0msecret_word\u001b[0m\u001b[0;34m,\u001b[0m \u001b[0mletters_guessed\u001b[0m\u001b[0;34m)\u001b[0m\u001b[0;34m)\u001b[0m\u001b[0;34m\u001b[0m\u001b[0;34m\u001b[0m\u001b[0m\n\u001b[0m\u001b[1;32m      5\u001b[0m \u001b[0mprint\u001b[0m\u001b[0;34m(\u001b[0m\u001b[0;34m'expected: _pp_e'\u001b[0m\u001b[0;34m)\u001b[0m\u001b[0;34m\u001b[0m\u001b[0;34m\u001b[0m\u001b[0m\n",
      "\u001b[0;32m<ipython-input-77-5c392cdc4b4d>\u001b[0m in \u001b[0;36mget_guessed_word\u001b[0;34m(secret_word, letters_guessed)\u001b[0m\n\u001b[1;32m     21\u001b[0m \u001b[0;34m\u001b[0m\u001b[0m\n\u001b[1;32m     22\u001b[0m     \u001b[0mprint\u001b[0m\u001b[0;34m(\u001b[0m\u001b[0;34m'Waiting implementation'\u001b[0m\u001b[0;34m)\u001b[0m\u001b[0;34m\u001b[0m\u001b[0;34m\u001b[0m\u001b[0m\n\u001b[0;32m---> 23\u001b[0;31m     \u001b[0;32mreturn\u001b[0m \u001b[0mmatching_letters\u001b[0m\u001b[0;34m\u001b[0m\u001b[0;34m\u001b[0m\u001b[0m\n\u001b[0m\u001b[1;32m     24\u001b[0m \u001b[0;34m\u001b[0m\u001b[0m\n",
      "\u001b[0;31mNameError\u001b[0m: name 'matching_letters' is not defined"
     ]
    }
   ],
   "source": [
    "# Test case for get_guessed_word\n",
    "secret_word = 'apple'\n",
    "letters_guessed = ['e', 'i', 'k', 'p', 'r', 's']\n",
    "print(get_guessed_word(secret_word, letters_guessed))\n",
    "print('expected: _pp_e')"
   ]
  },
  {
   "cell_type": "code",
   "execution_count": 64,
   "id": "f6a4be38",
   "metadata": {},
   "outputs": [],
   "source": [
    "def get_available_letters(letters_guessed): \n",
    "    \"\"\"\n",
    "    Input:  \n",
    "    \n",
    "    letters_guessed: a list of characters.\n",
    "    represents the current user guess for the secret word.\n",
    "    \n",
    "    Output: \n",
    "    \n",
    "    available_letters: string.\n",
    "    String comprised of lowercase English letters - all lowercase English letters that are not in letters guessed, \n",
    "    these are arranged in alphabetical order.\n",
    "    \"\"\"\n",
    "    \n",
    "    # ======== Code Here =========\n",
    "    \n",
    "    #YAH come back and implement\n",
    "\n",
    "    \n",
    "    # ======== Code Here =========\n",
    "    \n",
    "    print('Waiting implementation')\n",
    "    return available_letters"
   ]
  },
  {
   "cell_type": "code",
   "execution_count": 65,
   "id": "fd6240e0",
   "metadata": {},
   "outputs": [
    {
     "name": "stdout",
     "output_type": "stream",
     "text": [
      "Waiting implementation\n"
     ]
    },
    {
     "ename": "NameError",
     "evalue": "name 'available_letters' is not defined",
     "output_type": "error",
     "traceback": [
      "\u001b[0;31m-------------------------------------------------------\u001b[0m",
      "\u001b[0;31mNameError\u001b[0m             Traceback (most recent call last)",
      "\u001b[0;32m<ipython-input-65-82d46cb04b22>\u001b[0m in \u001b[0;36m<module>\u001b[0;34m\u001b[0m\n\u001b[1;32m      1\u001b[0m \u001b[0;31m# Test case for get_available_letters\u001b[0m\u001b[0;34m\u001b[0m\u001b[0;34m\u001b[0m\u001b[0;34m\u001b[0m\u001b[0m\n\u001b[1;32m      2\u001b[0m \u001b[0mletters_guessed\u001b[0m \u001b[0;34m=\u001b[0m \u001b[0;34m[\u001b[0m\u001b[0;34m'e'\u001b[0m\u001b[0;34m,\u001b[0m \u001b[0;34m'i'\u001b[0m\u001b[0;34m,\u001b[0m \u001b[0;34m'k'\u001b[0m\u001b[0;34m,\u001b[0m \u001b[0;34m'p'\u001b[0m\u001b[0;34m,\u001b[0m \u001b[0;34m'r'\u001b[0m\u001b[0;34m,\u001b[0m \u001b[0;34m's'\u001b[0m\u001b[0;34m]\u001b[0m\u001b[0;34m\u001b[0m\u001b[0;34m\u001b[0m\u001b[0m\n\u001b[0;32m----> 3\u001b[0;31m \u001b[0mprint\u001b[0m \u001b[0;34m(\u001b[0m\u001b[0mget_available_letters\u001b[0m\u001b[0;34m(\u001b[0m\u001b[0mletters_guessed\u001b[0m\u001b[0;34m)\u001b[0m\u001b[0;34m)\u001b[0m\u001b[0;34m\u001b[0m\u001b[0;34m\u001b[0m\u001b[0m\n\u001b[0m\u001b[1;32m      4\u001b[0m \u001b[0mprint\u001b[0m\u001b[0;34m(\u001b[0m\u001b[0;34m'expected: abcdfghjlmnoqtuvwxyz'\u001b[0m\u001b[0;34m)\u001b[0m\u001b[0;34m\u001b[0m\u001b[0;34m\u001b[0m\u001b[0m\n",
      "\u001b[0;32m<ipython-input-64-f512654e8086>\u001b[0m in \u001b[0;36mget_available_letters\u001b[0;34m(letters_guessed)\u001b[0m\n\u001b[1;32m     19\u001b[0m \u001b[0;34m\u001b[0m\u001b[0m\n\u001b[1;32m     20\u001b[0m     \u001b[0mprint\u001b[0m\u001b[0;34m(\u001b[0m\u001b[0;34m'Waiting implementation'\u001b[0m\u001b[0;34m)\u001b[0m\u001b[0;34m\u001b[0m\u001b[0;34m\u001b[0m\u001b[0m\n\u001b[0;32m---> 21\u001b[0;31m     \u001b[0;32mreturn\u001b[0m \u001b[0mavailable_letters\u001b[0m\u001b[0;34m\u001b[0m\u001b[0;34m\u001b[0m\u001b[0m\n\u001b[0m",
      "\u001b[0;31mNameError\u001b[0m: name 'available_letters' is not defined"
     ]
    }
   ],
   "source": [
    "# Test case for get_available_letters\n",
    "letters_guessed = ['e', 'i', 'k', 'p', 'r', 's']\n",
    "print (get_available_letters(letters_guessed))\n",
    "print('expected: abcdfghjlmnoqtuvwxyz')"
   ]
  },
  {
   "cell_type": "code",
   "execution_count": null,
   "id": "2d4d8c49",
   "metadata": {},
   "outputs": [],
   "source": []
  }
 ],
 "metadata": {
  "kernelspec": {
   "display_name": "Python 3",
   "language": "python",
   "name": "python3"
  },
  "language_info": {
   "codemirror_mode": {
    "name": "ipython",
    "version": 3
   },
   "file_extension": ".py",
   "mimetype": "text/x-python",
   "name": "python",
   "nbconvert_exporter": "python",
   "pygments_lexer": "ipython3",
   "version": "3.9.4"
  }
 },
 "nbformat": 4,
 "nbformat_minor": 5
}
