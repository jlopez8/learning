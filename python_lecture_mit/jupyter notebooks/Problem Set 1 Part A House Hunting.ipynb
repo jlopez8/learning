{
 "cells": [
  {
   "cell_type": "markdown",
   "id": "924715b0",
   "metadata": {},
   "source": [
    "# Problem set 1"
   ]
  },
  {
   "cell_type": "markdown",
   "id": "c4472fdc",
   "metadata": {},
   "source": [
    "## Part A: House Hunting\n",
    "You have graduated from MIT and now have a great job! You move to the San Francisco Bay Area and decide that you want to start saving to buy a house. As housing prices are very high in the Bay Area, you realize you are going to have to save for several years before you can afford to make the down payment on a house. In Part A, we are going to determine how long it will take you to save enough money to make the down payment given the following assumptions:\n",
    "1. Call the cost of your dream home ​total_cost​.\n",
    "2. Call the portion of the cost needed for a down payment ​portion_down_payment​. For\n",
    "simplicity, assume that portion_down_payment = 0.25 (25%).\n",
    "3. Call the amount that you have saved thus far ​current_savings​. You start with a current\n",
    "savings of $0.\n",
    "4. Assume that you invest your current savings wisely, with an annual return of ​r ​(in other words,\n",
    "at the end of each month, you receive an additional ​current_savings*r/12​ funds to put into your savings – the 12 is because ​r​ is an annual rate). Assume that your investments earn a return of r = 0.04 (4%).\n",
    "5. Assume your annual salary is ​annual_salary​.\n",
    "6. Assume you are going to dedicate a certain amount of your salary each month to saving for\n",
    "the down payment. Call that ​portion_saved​. This variable should be in decimal form (i.e. 0.1\n",
    "for 10%).\n",
    "7. At the end of each month, your savings will be increased by the return on your investment,\n",
    "plus a percentage of your ​monthly salary ​(annual salary / 12).\n",
    "Write a program to calculate how many months it will take you to save up enough money for a down\n",
    "payment. You will want your main variables to be floats, so you should cast user inputs to floats."
   ]
  },
  {
   "cell_type": "code",
   "execution_count": 1,
   "id": "4683984e",
   "metadata": {},
   "outputs": [],
   "source": [
    "# Auth: Dr. Jaime Lopez-Merizalde\n",
    "# Date: 4 13 2021\n",
    "# UpD:\n",
    "# Descri: homework 1"
   ]
  },
  {
   "cell_type": "code",
   "execution_count": 3,
   "id": "e7b6d3aa",
   "metadata": {},
   "outputs": [],
   "source": [
    "# begin code....\n",
    "\n",
    "\n",
    "# total_cost = 0 # dream house cost\n",
    "portion_down_payment = 0.25 # portion of downpayment cost\n",
    "current_savings = 0 # start w 0\n",
    "r = 0.04 # annual rate of return\n",
    "\n",
    "# return_ = current_savings*r/12\n",
    "# annual_salary = 0\n",
    "\n",
    "# decimalrepresent amount of salary per mo.to save for downpayment\n",
    "# portion_saved = 0.0"
   ]
  },
  {
   "cell_type": "code",
   "execution_count": 18,
   "id": "a1c913a4",
   "metadata": {},
   "outputs": [
    {
     "name": "stdout",
     "output_type": "stream",
     "text": [
      "What is your annual salary? 120000\n",
      "What is the portion of your salary to be saved (as a decimal)? 0.10\n",
      "What is the cost of your dream home? 1000000\n",
      "Number of months:  25\n"
     ]
    }
   ],
   "source": [
    "# get user input\n",
    "annual_salary = float(input(\"What is your annual salary? \"))\n",
    "portion_saved = float(input(\"What is the portion of your salary to be saved (as a decimal)? \"))\n",
    "total_cost = float(input(\"What is the cost of your dream home? \"))\n",
    "\n",
    "# give user output\n",
    "no_months = months_to_save(annual_salary, portion_saved, total_cost, current_savings, portion_down_payment, r)\n",
    "print(\"Number of months: \", no_months)"
   ]
  },
  {
   "cell_type": "code",
   "execution_count": 12,
   "id": "56de95cc",
   "metadata": {},
   "outputs": [],
   "source": [
    "def monthly_return(current_savings, r):\n",
    "    \"\"\"\n",
    "    Compute monthly return given current savings and annual rate.\n",
    "    \n",
    "    Parameters\n",
    "    ----------\n",
    "    current_savings : float\n",
    "        The input current_savings as a decimal.\n",
    "        In the future vectorize.\n",
    "        \n",
    "    r : float\n",
    "        The input annual return rate as a decimal.\n",
    "        In the future vectorize.\n",
    "    \n",
    "    Returns\n",
    "    -------\n",
    "    monthly_return : float\n",
    "        The computed contribution of the annual return rate based on current savings.\n",
    "        \n",
    "    Instructions\n",
    "    ------------\n",
    "\n",
    "    \"\"\"\n",
    "\n",
    "    # ====================== YOUR CODE HERE ======================\n",
    "    monthly_return = current_savings*(r/12.0);\n",
    "    \n",
    "    # =============================================================\n",
    "    return monthly_return"
   ]
  },
  {
   "cell_type": "code",
   "execution_count": 19,
   "id": "48bc9e83",
   "metadata": {},
   "outputs": [],
   "source": [
    "def months_to_save(annual_salary, portion_saved, total_cost, current_savings, portion_down_payment, r):\n",
    "    \"\"\"\n",
    "    Compute monthly return given current savings and annual rate.\n",
    "    \n",
    "    Parameters\n",
    "    ----------\n",
    "    annual_salary : float\n",
    "        The input annual_salary as a decimal.\n",
    "        In the future vectorize.\n",
    "        \n",
    "    portion_saved : float\n",
    "        The input portion to save per mo. of annual salary.\n",
    "        In the future vectorize.\n",
    "        \n",
    "    total_cost : float\n",
    "        The input total dream house cost.\n",
    "        In the future vectorize\n",
    "    \n",
    "    current_savings : float \n",
    "        The input current amount of savings.\n",
    "        This is a float with accuracy to the hundredths.\n",
    "    \n",
    "    portion_down_payment : float  \n",
    "        The input portion of total cost representing downpayment.\n",
    "        Is a decimal. \n",
    "    \n",
    "    r : float\n",
    "        The input annual percent rate as a decimal\n",
    "    \n",
    "    \n",
    "    Returns\n",
    "    -------\n",
    "    months_to_save : int\n",
    "        The computed number of months required to save\n",
    "        \n",
    "    Instructions\n",
    "    ------------\n",
    "\n",
    "    \"\"\"\n",
    "\n",
    "    # ====================== YOUR CODE HERE ======================\n",
    "    # At the end of each month, your savings will be increased by the return on your investment,\n",
    "    # plus a percentage of your monthly salary (annual salary / 12).\n",
    "    \n",
    "    months_to_save = 0\n",
    "    goal_savings = total_cost*portion_down_payment\n",
    "    \n",
    "    while(goal_savings > current_savings and months_to_save < 500):\n",
    "        ROI = monthly_return(current_savings, r)\n",
    "        salary_contribution = portion_saved*(annual_salary/12)\n",
    "        \n",
    "        current_savings += ROI + salary_contribution\n",
    "        months_to_save += 1\n",
    "        \n",
    "    if months_to_save == 500:\n",
    "        print(\"Months to save exceeds 500! Calculation terminated prematurely.\")\n",
    "    # =============================================================\n",
    "    return months_to_save"
   ]
  },
  {
   "cell_type": "code",
   "execution_count": 22,
   "id": "046cf8cf",
   "metadata": {},
   "outputs": [
    {
     "name": "stdout",
     "output_type": "stream",
     "text": [
      "Test case 1\n",
      "Number of months:  183\n",
      "Number of months (expected): 183\n"
     ]
    }
   ],
   "source": [
    "print(\"Test case 1\")\n",
    "\n",
    "# get user input\n",
    "annual_salary = 120000\n",
    "portion_saved = .10\n",
    "total_cost = 1000000\n",
    "\n",
    "# give user output\n",
    "no_months = months_to_save(annual_salary, portion_saved, total_cost, current_savings, portion_down_payment, r)\n",
    "print(\"Number of months: \", no_months)\n",
    "print(\"Number of months (expected): 183\")"
   ]
  },
  {
   "cell_type": "code",
   "execution_count": 23,
   "id": "73c008a0",
   "metadata": {},
   "outputs": [
    {
     "name": "stdout",
     "output_type": "stream",
     "text": [
      "Test case 2\n",
      "Number of months:  105\n",
      "Number of months (expected): 150\n"
     ]
    }
   ],
   "source": [
    "print(\"Test case 2\")\n",
    "\n",
    "# get user input\n",
    "annual_salary = 80000\n",
    "portion_saved = .15\n",
    "total_cost = 500000\n",
    "\n",
    "# give user output\n",
    "no_months = months_to_save(annual_salary, portion_saved, total_cost, current_savings, portion_down_payment, r)\n",
    "print(\"Number of months: \", no_months)\n",
    "print(\"Number of months (expected): 105\")"
   ]
  },
  {
   "cell_type": "code",
   "execution_count": null,
   "id": "3661ed7e",
   "metadata": {},
   "outputs": [],
   "source": []
  }
 ],
 "metadata": {
  "kernelspec": {
   "display_name": "Python 3",
   "language": "python",
   "name": "python3"
  },
  "language_info": {
   "codemirror_mode": {
    "name": "ipython",
    "version": 3
   },
   "file_extension": ".py",
   "mimetype": "text/x-python",
   "name": "python",
   "nbconvert_exporter": "python",
   "pygments_lexer": "ipython3",
   "version": "3.9.4"
  }
 },
 "nbformat": 4,
 "nbformat_minor": 5
}
