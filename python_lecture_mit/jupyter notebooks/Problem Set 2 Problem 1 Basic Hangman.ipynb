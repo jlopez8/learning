{
 "cells": [
  {
   "cell_type": "markdown",
   "id": "18956faf",
   "metadata": {},
   "source": [
    "# Problem Set 2\n",
    "\n",
    "## Problem 1: Basic Hangman\n",
    "\n",
    "You will implement a variation of the classic word game Hangman. If you are unfamiliar with the rules of the game, read http://en.wikipedia.org/wiki/Hangman_(game). Don’t be intimidated by this problem \n",
    "it's actually easier than it looks! We will 'scaffold' this problem, guiding you through the creation of helper functions before you implement the actual game.\n",
    "\n",
    "1.  Getting Started\n",
    "Download the files “hangman.py” and “words.txt”, and ​save them both in the same directory​. Run the file hangman.py before writing any code to ensure your files are saved correctly. The code we have given you loads in words from a file. You should see the following output in your shell:\n",
    "\n",
    "    1. Loading word list from file... 55900 words loaded.\n",
    "    \n",
    "If you see the above text, continue on to Hangman Game Requirements. If you don’t, double check that both files are saved in the same place!\n",
    "\n",
    "2. Hangman Game Requirements\n",
    "You will implement a function called ​hangman​ that will allow the user to play hangman against the computer. The computer picks the word, and the player tries to guess letters in the word.\n",
    "\n",
    "Here is the general behavior we want to implement. Don’t be intimidated! This is just a description; ​we will break this down into steps and provide further functional specs later on in the pset so keep reading!\n",
    "\n",
    "    1. The computer must select a word at random from the list of available words that was provided in words.txt. Note that words.txt contains words in all lowercase letters.\n",
    "    2. The user is given a certain number of guesses at the beginning.\n",
    "    3. The game is interactive; the user inputs their guess and the computer either:\n",
    "        a. reveals the letter if it exists in the secret word\n",
    "        b. penalize the user and updates the number of guesses remaining\n",
    "    4. The game ends when either the user guesses the secret word, or the user runs out of guesses."
   ]
  },
  {
   "cell_type": "markdown",
   "id": "f95832ae",
   "metadata": {},
   "source": [
    "## Preamble\n",
    "\n",
    "**Auth:** Dr. Jaime Lopez-Merizalde \n",
    "\n",
    "**Date:** 5 11 2021\n",
    "\n",
    "**UpD:**\n",
    "\n",
    "**Descri:** homework 2"
   ]
  },
  {
   "cell_type": "code",
   "execution_count": 143,
   "id": "ad40d0e4",
   "metadata": {},
   "outputs": [
    {
     "name": "stdout",
     "output_type": "stream",
     "text": [
      "Loading word list from file...\r\n",
      "   55900 words loaded.\r\n"
     ]
    }
   ],
   "source": [
    "# prerequisites\n",
    "# file_name = 'support/ps2/hangman.py'\n",
    "import sys\n",
    "sys.path.append(\"./support/ps2/\")\n",
    "import hangman\n",
    "import string\n",
    "\n",
    "!python support/ps2/hangman.py \n",
    "# print(string.ascii_lowercase) #abcdefghijklmnopqrstuvwxyz"
   ]
  },
  {
   "cell_type": "markdown",
   "id": "bf34bec9",
   "metadata": {},
   "source": [
    "## Problem 2: Three Helper Functions\n"
   ]
  },
  {
   "cell_type": "code",
   "execution_count": 349,
   "id": "eee2c691",
   "metadata": {},
   "outputs": [],
   "source": [
    "def is_word_guessed(secret_word, letters_guessed):\n",
    "    \"\"\"\n",
    "    Input:  \n",
    "    \n",
    "    secret_word: a string. \n",
    "    represents the word user is trying to guess.\n",
    "    \n",
    "    letters_guessed: a string.\n",
    "    represents the current user guess for the secret word.\n",
    "    \n",
    "    \n",
    "    Output: \n",
    "    \n",
    "    : boolean. \n",
    "    True if secret_word is equal in letters letters_guessed.\n",
    "    False otherwise.\n",
    "    \"\"\"\n",
    "    \n",
    "    # ======== Code Here =========\n",
    "    counter = 0\n",
    "    \n",
    "    word_is_guessed = False\n",
    "    while counter < len(secret_word) and secret_word[counter] in letters_guessed :\n",
    "        counter += 1\n",
    "\n",
    "    if (counter == len(secret_word)):\n",
    "        word_is_guessed = True\n",
    "    # ======== Code Here =========\n",
    "    \n",
    "    return word_is_guessed"
   ]
  },
  {
   "cell_type": "code",
   "execution_count": 350,
   "id": "455ca98c",
   "metadata": {},
   "outputs": [
    {
     "name": "stdout",
     "output_type": "stream",
     "text": [
      "Returned: False\n",
      "Expected: false\n"
     ]
    }
   ],
   "source": [
    "# Test case for is_word_guessed\n",
    "secret_word = 'apple'\n",
    "letters_guessed = ['e', 'i', 'k', 'p', 'r', 's']\n",
    "print('Returned:', is_word_guessed(secret_word, letters_guessed))\n",
    "print('Expected: false')"
   ]
  },
  {
   "cell_type": "code",
   "execution_count": 351,
   "id": "8201da1a",
   "metadata": {},
   "outputs": [
    {
     "name": "stdout",
     "output_type": "stream",
     "text": [
      "Returned: True\n",
      "Expected: true\n"
     ]
    }
   ],
   "source": [
    "# Test case for is_word_guessed\n",
    "secret_word = \"apple\"\n",
    "letters_guessed = ['a', 'p', 'p', 'l', 'e', 's']\n",
    "print('Returned:', is_word_guessed(secret_word, letters_guessed))\n",
    "print('Expected: true')"
   ]
  },
  {
   "cell_type": "code",
   "execution_count": 352,
   "id": "be6989e9",
   "metadata": {},
   "outputs": [],
   "source": [
    "def get_guessed_word(secret_word, letters_guessed):\n",
    "    \"\"\"\n",
    "    Input:  \n",
    "    \n",
    "    secret_word: a string. \n",
    "    represents the word user is trying to guess.\n",
    "    \n",
    "    letters_guessed: a list of characters.\n",
    "    represents the current user guess for the secret word.\n",
    "    \n",
    "    Output: \n",
    "    \n",
    "    matching_letters: string.\n",
    "    String is comprised of letters and underscores, based on what what in letters_guessed is also in secrete_word.\n",
    "    \"\"\"\n",
    "    \n",
    "    # ======== Code Here =========\n",
    "\n",
    "    matching_letters = \"\"\n",
    "\n",
    "    for letter in secret_word:\n",
    "        if letter in letters_guessed:\n",
    "            matching_letters = matching_letters + letter\n",
    "        else :\n",
    "            matching_letters = matching_letters + \"_ \"\n",
    "    # ======== Code Here =========\n",
    "    \n",
    "    return matching_letters"
   ]
  },
  {
   "cell_type": "code",
   "execution_count": 266,
   "id": "9f7be801",
   "metadata": {},
   "outputs": [
    {
     "name": "stdout",
     "output_type": "stream",
     "text": [
      "outcome:  _pp_e\n",
      "expected: _pp_e\n"
     ]
    }
   ],
   "source": [
    "# Test case for get_guessed_word\n",
    "secret_word = 'apple'\n",
    "letters_guessed = ['e', 'i', 'k', 'p', 'r', 's']\n",
    "print('outcome: ', get_guessed_word(secret_word, letters_guessed))\n",
    "print('expected: _pp_e')"
   ]
  },
  {
   "cell_type": "code",
   "execution_count": 289,
   "id": "f6a4be38",
   "metadata": {},
   "outputs": [],
   "source": [
    "def get_available_letters(letters_guessed): \n",
    "    \"\"\"\n",
    "    Input:  \n",
    "    \n",
    "    letters_guessed: a list of characters.\n",
    "    represents the current user guess for the secret word.\n",
    "    \n",
    "    Output: \n",
    "    \n",
    "    available_letters: string.\n",
    "    String comprised of lowercase English letters - all lowercase English letters that are not in letters guessed, \n",
    "    these are arranged in alphabetical order.\n",
    "    \"\"\"\n",
    "    \n",
    "    # ======== Code Here =========\n",
    "    \n",
    "    # part 0: list lower case letters English 26 characters\n",
    "    english_letters = string.ascii_lowercase \n",
    "    \n",
    "    # part 1: remove words using translate method, \n",
    "    available_letters = english_letters.translate({ord(i): None for i in letters_guessed})\n",
    "    \n",
    "    # ======== Code Here =========\n",
    "\n",
    "    return available_letters"
   ]
  },
  {
   "cell_type": "code",
   "execution_count": 290,
   "id": "fd6240e0",
   "metadata": {},
   "outputs": [
    {
     "name": "stdout",
     "output_type": "stream",
     "text": [
      "returned:  abcdfghjlmnoqtuvwxyz\n",
      "expected:  abcdfghjlmnoqtuvwxyz\n"
     ]
    }
   ],
   "source": [
    "# Test case for get_available_letters\n",
    "letters_guessed = ['e', 'i', 'k', 'p', 'r', 's']\n",
    "print ('returned: ', get_available_letters(letters_guessed))\n",
    "print('expected:  abcdfghjlmnoqtuvwxyz')"
   ]
  },
  {
   "cell_type": "markdown",
   "id": "e50a2601",
   "metadata": {},
   "source": [
    "## Problem 3: The Hangman Game"
   ]
  },
  {
   "cell_type": "code",
   "execution_count": 357,
   "id": "cdb5fb89",
   "metadata": {},
   "outputs": [],
   "source": [
    "def hangman(secret_word):\n",
    "    \"\"\"\n",
    "    Input:  \n",
    "    \n",
    "    secret_word: a string.\n",
    "    This is the word the user should guess.\n",
    "    \n",
    "    Output: None.\n",
    "    There is a print statement that is executed so the user knows the outcome of the game.\n",
    "    \"\"\"\n",
    "    \n",
    "    # ======== Code Here =========\n",
    "    \n",
    "    #============== Block 0\n",
    "    # getting thing started\n",
    "    \n",
    "    # part -1: loading external dependencies\n",
    "    !python support/ps2/hangman.py\n",
    "    \n",
    "    # part 0: initialize parameters\n",
    "    user_guesses = 6\n",
    "    warnings = 3\n",
    "    list_guesses = [] \n",
    "    \n",
    "    # part 1: starting print statements\n",
    "    print()\n",
    "    print('Bienvenido to the Hangman game.')\n",
    "    print('The computer has chosen a word that is {} letters long.'.format(len(secret_word)))\n",
    "    print()\n",
    "    \n",
    "    #============== Block 1 \n",
    "    \n",
    "    # part 2.1: Start user input\n",
    "    # define letter ingest fn\n",
    "    def ingest_letter():\n",
    "        letter_guess = input(\"Guess a letter: \").lower()\n",
    "        is_valid_letter = str.isalpha(letter_guess) \n",
    "        is_previous_guess = letter_guess in list_guesses\n",
    "\n",
    "        return letter_guess, is_valid_letter, is_previous_guess;\n",
    "    \n",
    "    def current_word_status(guess, list_guesses): \n",
    "        print('Current status: ', get_guessed_word(secret_word, list_guesses))\n",
    "        \n",
    "    def check_game_status(user_guesses, secret_word, list_guesses):\n",
    "        \n",
    "        is_word_guessed_ = is_word_guessed(secret_word, list_guesses)\n",
    "\n",
    "        if (is_word_guessed_) :\n",
    "            \n",
    "            unique_letters_secret_word = len(''.join(set(secret_word)))\n",
    "            game_score = user_guesses*unique_letters_secret_word\n",
    "        \n",
    "            print(\"Congratulations! You win the game :). Your score is: {}\".format(game_score))\n",
    "            \n",
    "            #flatten the number of guesses to terminate loops\n",
    "            user_guesses = 0 \n",
    "            \n",
    "        elif (user_guesses == 0) :\n",
    "            print(\"You're all out of guesses :(. The correct word was: {}\".format(secret_word))\n",
    "            \n",
    "        return user_guesses\n",
    "    \n",
    "    # user guesses : \n",
    "    while user_guesses >= 1:\n",
    "        \n",
    "        # part 2.0: display current status\n",
    "        print('You have {} guesses left.'.format(user_guesses))\n",
    "        print('Letters available to guess from: ', get_available_letters(list_guesses))\n",
    "        \n",
    "        letter_guess, is_valid_letter, is_previous_guess=ingest_letter()\n",
    "        \n",
    "        if (not is_valid_letter):\n",
    "            if warnings >= 1 :\n",
    "                warnings += -1\n",
    "                print(\"Not a valid english letter.\")\n",
    "                print(\"You have {} warnings left. \".format(warnings))\n",
    "                \n",
    "            else :\n",
    "                user_guesses += -1\n",
    "                print(\"Not a valid english letter.\")\n",
    "                print(\"You have {} guesses left.\".format(user_guesses))\n",
    "                \n",
    "        elif is_previous_guess:  # if we received a valid letter, check if it's a previous guess\n",
    "            \n",
    "            # don't reset the warnings....\n",
    "            \n",
    "            if warnings >= 1:\n",
    "                warnings += -1\n",
    "                print(\"You've already guessed that letter. Try something else.\")\n",
    "                print(\"You have {} warnings left.\".format(warnings))\n",
    "                \n",
    "            else :\n",
    "                user_guesses += -1\n",
    "                print(\"You've already guessed that letter. Try something else.\")\n",
    "                print(\"You have {} guesses left.\".format(user_guesses)) \n",
    "                \n",
    "        else : # otherwise, it's a valid letter and not a previous guess\n",
    "            \n",
    "            # reset the warnings\n",
    "            warnings = 3\n",
    "            \n",
    "            # append to guess list\n",
    "            list_guesses.append(letter_guess)\n",
    "            \n",
    "            if letter_guess in secret_word:\n",
    "                print(\"Good guess!\")\n",
    "                            \n",
    "            else :\n",
    "                user_guesses += -1\n",
    "                print(\"That letter is not in my secret word!\")\n",
    "        \n",
    "        # print out current status\n",
    "        current_word_status(letter_guess, list_guesses)\n",
    "        \n",
    "        user_guesses = check_game_status(user_guesses, secret_word, list_guesses)\n",
    "                    \n",
    "        print('---------------------------')\n",
    "        # End while loop\n",
    "    \n",
    "    \n",
    "    print(list_guesses)\n",
    "        \n",
    "    # ======== Code Here ========="
   ]
  },
  {
   "cell_type": "code",
   "execution_count": 358,
   "id": "2de20a51",
   "metadata": {},
   "outputs": [
    {
     "name": "stdout",
     "output_type": "stream",
     "text": [
      "Loading word list from file...\n",
      "   55900 words loaded.\n",
      "\n",
      "Bienvenido to the Hangman game.\n",
      "The computer has chosen a word that is 3 letters long.\n",
      "\n",
      "You have 6 guesses left.\n",
      "Letters available to guess from:  abcdefghijklmnopqrstuvwxyz\n",
      "Guess a letter: p\n",
      "Good guess!\n",
      "Current status:  p_ _ \n",
      "---------------------------\n",
      "You have 6 guesses left.\n",
      "Letters available to guess from:  abcdefghijklmnoqrstuvwxyz\n",
      "Guess a letter: i\n",
      "Good guess!\n",
      "Current status:  pi_ \n",
      "---------------------------\n",
      "You have 6 guesses left.\n",
      "Letters available to guess from:  abcdefghjklmnoqrstuvwxyz\n",
      "Guess a letter: e\n",
      "Good guess!\n",
      "Current status:  pie\n",
      "Congratulations! You win the game :). Your score is: 18\n",
      "---------------------------\n",
      "['p', 'i', 'e']\n"
     ]
    }
   ],
   "source": [
    "# Test case for hangman function\n",
    "secret_word = 'pie'\n",
    "hangman(secret_word)"
   ]
  },
  {
   "cell_type": "code",
   "execution_count": null,
   "id": "2197e49b",
   "metadata": {},
   "outputs": [],
   "source": []
  },
  {
   "cell_type": "code",
   "execution_count": null,
   "id": "aac78e2b",
   "metadata": {},
   "outputs": [],
   "source": []
  },
  {
   "cell_type": "code",
   "execution_count": null,
   "id": "088572a2",
   "metadata": {},
   "outputs": [],
   "source": []
  }
 ],
 "metadata": {
  "kernelspec": {
   "display_name": "Python 3",
   "language": "python",
   "name": "python3"
  },
  "language_info": {
   "codemirror_mode": {
    "name": "ipython",
    "version": 3
   },
   "file_extension": ".py",
   "mimetype": "text/x-python",
   "name": "python",
   "nbconvert_exporter": "python",
   "pygments_lexer": "ipython3",
   "version": "3.9.4"
  }
 },
 "nbformat": 4,
 "nbformat_minor": 5
}
