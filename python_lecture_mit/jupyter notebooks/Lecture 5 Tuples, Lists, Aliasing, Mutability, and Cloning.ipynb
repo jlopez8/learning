{
 "cells": [
  {
   "cell_type": "markdown",
   "id": "a3a7476e",
   "metadata": {},
   "source": [
    "# Lecture 5 Tuples, Lists, Aliasing, Mutability, and Cloning"
   ]
  },
  {
   "cell_type": "markdown",
   "id": "0bfe553f",
   "metadata": {},
   "source": [
    "LINK: https://ocw.mit.edu/courses/electrical-engineering-and-computer-science/6-0001-introduction-to-computer-science-and-programming-in-python-fall-2016/lecture-videos/lecture-5-tuples-lists-aliasing-mutability-and-cloning/"
   ]
  },
  {
   "cell_type": "markdown",
   "id": "ce85d20e",
   "metadata": {},
   "source": [
    "- previously achieve abstractions and reusable coding via functions.\n",
    "\n",
    "- compound data types: lists and tuples\n",
    "\n",
    "- **tuples are immutable**\n",
    "    - tuples created with ()\n",
    "    - t = (2, \"mit\", 3)\n",
    "- **tuple operations\n",
    "    - **indexing**: t[0] = 2\n",
    "    - **concat**: (2, \"mit\", 3) + (5,6) -> (2, \"mit\", 3, 5,6)\n",
    "    - **length**: len(t)\n",
    "    \n",
    "- t[1:2] -> slice tuple, evaluates to (\"mit\", ) this comma means that we have a tuple versus just a string\n",
    "- t[1:3] -> slice tuple, evaluates to (\"mit\",3)\n",
    "\n"
   ]
  },
  {
   "cell_type": "code",
   "execution_count": null,
   "id": "1f82fb09",
   "metadata": {},
   "outputs": [],
   "source": []
  }
 ],
 "metadata": {
  "kernelspec": {
   "display_name": "Python 3",
   "language": "python",
   "name": "python3"
  },
  "language_info": {
   "codemirror_mode": {
    "name": "ipython",
    "version": 3
   },
   "file_extension": ".py",
   "mimetype": "text/x-python",
   "name": "python",
   "nbconvert_exporter": "python",
   "pygments_lexer": "ipython3",
   "version": "3.9.4"
  }
 },
 "nbformat": 4,
 "nbformat_minor": 5
}
