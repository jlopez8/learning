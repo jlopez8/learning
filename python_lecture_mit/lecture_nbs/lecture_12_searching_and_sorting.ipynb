{
 "cells": [
  {
   "cell_type": "markdown",
   "id": "168504b4",
   "metadata": {},
   "source": [
    "# Lecture 12: Searching and Sorting"
   ]
  },
  {
   "cell_type": "markdown",
   "id": "ff1caa3d",
   "metadata": {},
   "source": [
    "<img src=\"figures/lecture_12/notes_1.jpg\" width = 600>"
   ]
  },
  {
   "cell_type": "markdown",
   "id": "daa4242f",
   "metadata": {},
   "source": [
    "<img src=\"figures/lecture_12/notes_2.jpg\" width = 600>"
   ]
  },
  {
   "cell_type": "markdown",
   "id": "00e4ea03",
   "metadata": {},
   "source": [
    "## Complexity of Bubble Sort"
   ]
  },
  {
   "cell_type": "markdown",
   "id": "9e2363a5",
   "metadata": {},
   "source": [
    "inner loop is for comparisions.  \n",
    "outer while loop is for doing the multiple passes until there are no more swaps to do."
   ]
  },
  {
   "cell_type": "code",
   "execution_count": 15,
   "id": "568f78bd",
   "metadata": {},
   "outputs": [],
   "source": [
    "def bubble_sort(L):\n",
    "    swap = False\n",
    "    while not swap:\n",
    "        print('bubble sort: ' + str(L))\n",
    "        swap = True\n",
    "        for j in range(1, len(L)):\n",
    "            if L[j-1] > L[j]:\n",
    "                swap = False\n",
    "                temp = L[j]\n",
    "                L[j] = L[j-1]\n",
    "                L[j-1] = temp"
   ]
  },
  {
   "cell_type": "markdown",
   "id": "25eafb49",
   "metadata": {},
   "source": [
    "Now create a test list and check it out."
   ]
  },
  {
   "cell_type": "code",
   "execution_count": 16,
   "id": "b83b27ff",
   "metadata": {},
   "outputs": [],
   "source": [
    "test_list = [1, 3, 5, 7, 2, 6, 25, 18, 13]"
   ]
  },
  {
   "cell_type": "code",
   "execution_count": 17,
   "id": "b91a34e9",
   "metadata": {},
   "outputs": [
    {
     "name": "stdout",
     "output_type": "stream",
     "text": [
      "bubble sort: [1, 3, 5, 7, 2, 6, 25, 18, 13]\n",
      "bubble sort: [1, 3, 5, 2, 6, 7, 18, 13, 25]\n",
      "bubble sort: [1, 3, 2, 5, 6, 7, 13, 18, 25]\n",
      "bubble sort: [1, 2, 3, 5, 6, 7, 13, 18, 25]\n",
      "[1, 2, 3, 5, 6, 7, 13, 18, 25]\n"
     ]
    }
   ],
   "source": [
    "bubble_sort(test_list)\n",
    "print(test_list)\n"
   ]
  },
  {
   "cell_type": "markdown",
   "id": "8186c5b1",
   "metadata": {},
   "source": [
    "### The Complexity"
   ]
  },
  {
   "cell_type": "markdown",
   "id": "d16da9b6",
   "metadata": {},
   "source": [
    "for j in range(1, len(L)) is O(len(L)).  \n",
    "\n",
    "while loop is O(len(L)).  \n",
    "\n",
    "- O(n^2)"
   ]
  },
  {
   "cell_type": "markdown",
   "id": "da9dc26c",
   "metadata": {},
   "source": [
    "## Selection Sort"
   ]
  },
  {
   "cell_type": "markdown",
   "id": "82bfd40c",
   "metadata": {},
   "source": [
    "First step:\n",
    "- extract minimum element\n",
    "- swap it with element at index 0\n",
    "\n",
    "Next:\n",
    "- in remaining sublist, extract minimum element\n",
    "- swap it with the element at index 1\n",
    "\n",
    "Keep the left portion of the list sorted\n",
    "- at ith step, first i elements in list are sorted\n",
    "- all other elements are bigger than first i elements"
   ]
  },
  {
   "cell_type": "markdown",
   "id": "3cd88ec3",
   "metadata": {},
   "source": [
    "### Analyzing Selection Sort"
   ]
  },
  {
   "cell_type": "markdown",
   "id": "bd8f640d",
   "metadata": {},
   "source": [
    "- loop invariant\n",
    "    - given prefix of list L[0:i] adn suffix L[i+1:len(L)] then prefix is sorted and each element in prefix is smaller than suffix.\n",
    "    - there is a proof here but it's not really that interesting\n",
    "    \n",
    "- **Complexity**\n",
    "    - loop len(L) times -> O(len(L))\n",
    "    - len(L) fufixstart times -> O(len(L)) \n",
    "    - so the product means O(n^2)"
   ]
  },
  {
   "cell_type": "code",
   "execution_count": 18,
   "id": "75b02dad",
   "metadata": {},
   "outputs": [],
   "source": [
    "def selection_sort(L):\n",
    "    suffixstart = 0\n",
    "    while suffixstart != len(L):\n",
    "        for i in range(suffixstart, len(L)):\n",
    "            if L[i] < L[suffixstart]:\n",
    "                L[suffixstart], L[i] = L[i], L[suffixstart]\n",
    "        suffixstart += 1"
   ]
  },
  {
   "cell_type": "markdown",
   "id": "be095c55",
   "metadata": {},
   "source": [
    "## Merge Sort"
   ]
  },
  {
   "cell_type": "markdown",
   "id": "9dccab40",
   "metadata": {},
   "source": [
    "divide and conquer\n",
    "- cut large list in half\n",
    "- each half piece cut in half again\n",
    "- continue until have lists of only 0 or 1 elements\n",
    "- pair-wise compare and merge\n",
    "- up one level, and repeat. pair-wise compare and merge\n",
    "- continue to push this up until you are back at level 0\n",
    "- number of comparisons at most number of elements in list"
   ]
  },
  {
   "cell_type": "markdown",
   "id": "21bb8539",
   "metadata": {},
   "source": [
    "Example Merging"
   ]
  },
  {
   "cell_type": "markdown",
   "id": "4b9fb5b9",
   "metadata": {},
   "source": [
    "<img src=\"figures/lecture_12/example_merging.png\" width=400>"
   ]
  },
  {
   "cell_type": "code",
   "execution_count": 21,
   "id": "0ccd9cd1",
   "metadata": {},
   "outputs": [],
   "source": [
    "def merge(left, right):\n",
    "    result = []\n",
    "    i,j = 0,0\n",
    "    while i < len(left) and j < len(right):\n",
    "        if left[i] < right[j]:\n",
    "            result.append(left[i])\n",
    "            i += 1\n",
    "        else:\n",
    "            result.append(right[j])\n",
    "            j += 1\n",
    "    while (i < len(left)):\n",
    "        result.apend(left[i])\n",
    "        i += 1\n",
    "    while (j < len(right)):\n",
    "        result.append(right[j])\n",
    "        j += 1\n",
    "    return result"
   ]
  },
  {
   "cell_type": "markdown",
   "id": "de2c3343",
   "metadata": {},
   "source": [
    "### Complexity of Merging Sublist Step\n",
    "\n",
    "- go through two lists, one pass\n",
    "- compare only smallest elements in each sublist\n",
    "- O(len(left) + len(right)) copied elements\n",
    "- O(len(longer list)) comparisons\n",
    "- linear in lengths of the lists\n",
    "- believe this is O(n log n)"
   ]
  },
  {
   "cell_type": "markdown",
   "id": "d3349571",
   "metadata": {},
   "source": [
    "## Merge Sort Algorithm - - Recursive"
   ]
  },
  {
   "cell_type": "code",
   "execution_count": 22,
   "id": "55add150",
   "metadata": {},
   "outputs": [],
   "source": [
    "def merge_sort(L):\n",
    "    if len(L) < 2:\n",
    "        return L[:]\n",
    "    else:\n",
    "        middle = len(L)//2\n",
    "        left = merge_sort(L[:middle])\n",
    "        right = merge_sort(L[middle:])\n",
    "        return merge(left, right)\n"
   ]
  },
  {
   "cell_type": "markdown",
   "id": "3b2226a8",
   "metadata": {},
   "source": [
    "- divid list successively into halves\n",
    "- depth-first such that conquer smallest pieces down one branch first before moving to larger pieces\n",
    "- see picture for intuition\n",
    "- things get sorted by depth then bubble up in a sorted fashion\n",
    "- "
   ]
  },
  {
   "cell_type": "markdown",
   "id": "acc6cf9b",
   "metadata": {},
   "source": [
    "<p float=\"left\">\n",
    "    <img src = \"figures/lecture_12/merge_sort_recursive.png\" width=300>\n",
    "    <img src = \"figures/lecture_12/merge_sort_recursive_2.png\" width=300>\n",
    "    <img src = \"figures/lecture_12/merge_sort_recursive_3.png\" width=400>\n",
    "    \n",
    "</p>"
   ]
  },
  {
   "cell_type": "markdown",
   "id": "a3960f1c",
   "metadata": {},
   "source": [
    "### Complexity of Merge Sort"
   ]
  },
  {
   "cell_type": "markdown",
   "id": "7f8f9b8c",
   "metadata": {},
   "source": [
    "- at first recursion level\n",
    "    - n/2 elements in list\n",
    "    - O(n) + O(n) = O(n) \n",
    "- at second recursion\n",
    "    - n/4 elements in each list\n",
    "    - two merges -> O(n) where n is len(L)\n",
    "- each recursion level is O(n) \n",
    "- dividing list in half with each recursive call\n",
    "    - O(log(n))\n",
    "- overall complexity is O(n log n) "
   ]
  },
  {
   "cell_type": "markdown",
   "id": "e09ae30e",
   "metadata": {},
   "source": [
    "## Three A's of Computational Thinking\n"
   ]
  },
  {
   "cell_type": "markdown",
   "id": "61d87ca0",
   "metadata": {},
   "source": [
    "1. Abstraction\n",
    "2. Automate\n",
    "3. Algorithm"
   ]
  },
  {
   "cell_type": "markdown",
   "id": "cd16b3f6",
   "metadata": {},
   "source": [
    "<img src = \"figures/lecture_12/notes_3.png\">"
   ]
  },
  {
   "cell_type": "code",
   "execution_count": null,
   "id": "4702e24b",
   "metadata": {},
   "outputs": [],
   "source": []
  }
 ],
 "metadata": {
  "kernelspec": {
   "display_name": "Python 3",
   "language": "python",
   "name": "python3"
  },
  "language_info": {
   "codemirror_mode": {
    "name": "ipython",
    "version": 3
   },
   "file_extension": ".py",
   "mimetype": "text/x-python",
   "name": "python",
   "nbconvert_exporter": "python",
   "pygments_lexer": "ipython3",
   "version": "3.9.4"
  }
 },
 "nbformat": 4,
 "nbformat_minor": 5
}
