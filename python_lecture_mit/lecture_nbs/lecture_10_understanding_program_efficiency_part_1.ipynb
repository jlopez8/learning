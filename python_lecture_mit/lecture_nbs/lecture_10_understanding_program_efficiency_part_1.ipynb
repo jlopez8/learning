{
 "cells": [
  {
   "cell_type": "markdown",
   "id": "6227eb59",
   "metadata": {},
   "source": [
    "# Lecture 10:  Understanding Program Efficiency, Part 1"
   ]
  },
  {
   "cell_type": "markdown",
   "id": "cbe15f97",
   "metadata": {},
   "source": [
    "- how some choices in algo design affect the time they take\n",
    "\n",
    "- are there fund limits how much time it takes to solve a prob\n",
    "\n",
    "- as computers get more efficient at solving problems, the problems become bigger too\n",
    "\n",
    "- data sets are growing very quickly so you still need an efficient solution\n",
    "\n",
    "- sometimes simple solutions are great, many times we need more sophistication \n",
    "\n",
    "- can talk about EFF in terms TIME or SPACE. many times there is a trade-off"
   ]
  },
  {
   "cell_type": "markdown",
   "id": "01c59e9a",
   "metadata": {},
   "source": [
    "## How Eval Efficiency or Progs\n",
    "\n",
    "- measure w timer\n",
    "- count operations\n",
    "- abstract order of growth\n",
    "\n"
   ]
  },
  {
   "cell_type": "markdown",
   "id": "04e10125",
   "metadata": {},
   "source": [
    "### measure w timer\n",
    "\n",
    "- PY provides time module\n",
    "- use start clock\n",
    "- call function\n",
    "- stop clock"
   ]
  },
  {
   "cell_type": "code",
   "execution_count": 9,
   "id": "b3bd18a7",
   "metadata": {},
   "outputs": [
    {
     "name": "stdout",
     "output_type": "stream",
     "text": [
      "t0= 1051.068230108 : 7.429199990838242e-05 s,\n"
     ]
    }
   ],
   "source": [
    "import time\n",
    "    \n",
    "def c_to_f(c):\n",
    "    return c*9/5 + 32\n",
    "\n",
    "t0 = time.perf_counter()\n",
    "c_to_f(100000)\n",
    "t1 = time.perf_counter() - t0\n",
    "print(\"t0=\",t0, \":\", t1, \"s,\")"
   ]
  },
  {
   "cell_type": "markdown",
   "id": "715963ee",
   "metadata": {},
   "source": [
    "### the problem with this timer way is:\n",
    "\n",
    "- the run time varies as func of implementation\n",
    "- we are confounding implementation diff on time w algorithmic difference\n",
    "- timing will depend on the machine it's runnign on\n",
    "- cannot predict what will happen on large size problems bsaed on small sized problems"
   ]
  },
  {
   "cell_type": "markdown",
   "id": "ab178861",
   "metadata": {},
   "source": [
    "### think about counting operations\n",
    "\n",
    "What does the software already do for us? Can we just count these instead to get measure of efficiency?\n",
    "\n",
    "- math operations\n",
    "- comparisions\n",
    "- assignments\n",
    "- access objects in memory\n",
    "\n"
   ]
  },
  {
   "cell_type": "code",
   "execution_count": 10,
   "id": "ec947c44",
   "metadata": {},
   "outputs": [],
   "source": [
    "# example\n",
    "def c_to_f(x):\n",
    "    # 3 ops\n",
    "    return c*9/5 + 32\n",
    "\n",
    "# another example\n",
    "def mysum(x):\n",
    "    # 1 op\n",
    "    total = 0\n",
    "    # loop x times\n",
    "    for i in range(x+1):  # 1 op\n",
    "        total += i #2 op\n",
    "    return total # 1 op\n",
    "    # operations: 2 + 3x"
   ]
  },
  {
   "cell_type": "markdown",
   "id": "4bb215b5",
   "metadata": {},
   "source": [
    "**All still depends on implementation...**\n",
    "\n",
    "what if we change to a while loop? \n",
    "we would get 4x + 1 instead.\n",
    "\n",
    "**one advantage** this is machine independent. the operations don't change from MC to MC."
   ]
  },
  {
   "cell_type": "markdown",
   "id": "60a43435",
   "metadata": {},
   "source": [
    "### counting ops is better but...\n",
    "\n",
    "- count depends on algo (check)\n",
    "- count depens on implemenatios (no :( )\n",
    "- count independent of computers (check)\n",
    "- no clear definition of which operations to count (no :( )\n",
    "- count varies for diff inputs and can find relationship b/w inputs nds counts (check)\n",
    "\n"
   ]
  },
  {
   "cell_type": "markdown",
   "id": "22980deb",
   "metadata": {},
   "source": [
    "## different inputs change prog runs\n",
    "\n",
    "- a function seraches for elements in list\n",
    "\n",
    "- how much time could it take? \n",
    "    - on avg must look through 1/2 of list\n",
    "        - grows lineraly wrt length list\n",
    "    - best case one step (first one)\n",
    "        - is constant wrt to length of list\n",
    "    - worst case it's not in the list and looks through entire list\n",
    "        - we focus on this one\n",
    "        - grows linearly w length of list\n",
    "    \n",
    "**what is that linear relationship?**\n",
    "\n",
    "- put upper bound on growth"
   ]
  },
  {
   "cell_type": "code",
   "execution_count": 11,
   "id": "39b8db3e",
   "metadata": {},
   "outputs": [],
   "source": [
    "def search_for_elmt(L, e):\n",
    "    for i in L:\n",
    "        if i == e:\n",
    "            return True\n",
    "    return False"
   ]
  },
  {
   "cell_type": "markdown",
   "id": "8339c761",
   "metadata": {},
   "source": [
    "## Big O Notation"
   ]
  },
  {
   "cell_type": "markdown",
   "id": "c7b2cdbc",
   "metadata": {},
   "source": [
    "describes worst case as function of inputs.  \n",
    "\n",
    "### Ex with Exact Steps vs O()"
   ]
  },
  {
   "cell_type": "code",
   "execution_count": 12,
   "id": "345eb804",
   "metadata": {},
   "outputs": [],
   "source": [
    "def fact_iter(n):\n",
    "    \"\"\"assumes n and int >= 0\"\"\"\n",
    "    answer = 1 # 1 step\n",
    "    # loop n times\n",
    "    while n > 1: # 1 step\n",
    "        answer *= n # 2 step\n",
    "        n -= 1 # 2 step\n",
    "    return answer\n",
    "# 1 + 5n + 1"
   ]
  },
  {
   "cell_type": "markdown",
   "id": "49a80a99",
   "metadata": {},
   "source": [
    "- computes factorial\n",
    "- number steps: 1 + 5n + 1   or 1 + 6n + 1 if you use  temp variable. \n",
    "    - What captures both of these??\n",
    "- worst cas asymptotic complexity:\n",
    "    - ignore additive constants\n",
    "    - ignore multiplicative constants\n",
    "    \n",
    "- Notice the diffrence between 1 + 5n +1 vs 1 + 6n + 1 the big O is Order n. "
   ]
  },
  {
   "cell_type": "markdown",
   "id": "d5c1e8b4",
   "metadata": {},
   "source": [
    "### Some Big O Examples"
   ]
  },
  {
   "cell_type": "markdown",
   "id": "199aa5dd",
   "metadata": {},
   "source": [
    "- drop constants\n",
    "- focus on **dominant terms**\n",
    "- n^2 + 2n + 2 -> O(n^2)\n",
    "- n^2 + 1000000n + 3^1000 -> O(n^2)\n",
    "- log(n) + n + 4 -> O(n)\n",
    "- 0.0001*n*log(n) + 300n -> O(n*log(n))\n",
    "- 2n^30 + 3^n -> O(3^n)"
   ]
  },
  {
   "cell_type": "markdown",
   "id": "0b9f192f",
   "metadata": {},
   "source": [
    "### Analyzing progs and complexity"
   ]
  },
  {
   "cell_type": "markdown",
   "id": "6d52b6b2",
   "metadata": {},
   "source": [
    "- combine complex clases\n",
    "    - analyzie stmnts inside functions\n",
    "    - apply some rules, focus on dom term\n",
    "- law of addition for O()\n",
    "    - used w sequential stmnts\n",
    "    - O(f(n)) + O(g(n)) is O(f(n) + g(n))\n",
    "    - in example below: O(n) + O(n^2) = O(n+n^2) = O(n^2)\n",
    "- law of multiplication for O():\n",
    "    - used w nested stmnts/loops\n",
    "    - O(f(n)) * O(g(n)) = O(f(n) * g(n))\n",
    "    - in example below: O(n)*O(n) = O(n*n) = O(n^2)"
   ]
  },
  {
   "cell_type": "code",
   "execution_count": 13,
   "id": "c08c0b35",
   "metadata": {},
   "outputs": [
    {
     "ename": "IndentationError",
     "evalue": "expected an indented block (<ipython-input-13-b1a1c228912c>, line 5)",
     "output_type": "error",
     "traceback": [
      "\u001b[0;36m  File \u001b[0;32m\"<ipython-input-13-b1a1c228912c>\"\u001b[0;36m, line \u001b[0;32m5\u001b[0m\n\u001b[0;31m    for j in range(n*n):\u001b[0m\n\u001b[0m    ^\u001b[0m\n\u001b[0;31mIndentationError\u001b[0m\u001b[0;31m:\u001b[0m expected an indented block\n"
     ]
    }
   ],
   "source": [
    "# example:\n",
    "# O(n)\n",
    "for i in range(n):\n",
    "    print('a')\n",
    "    \n",
    "# O(n^2)\n",
    "for j in range(n*n):\n",
    "    print('b')\n",
    "    "
   ]
  },
  {
   "cell_type": "code",
   "execution_count": 14,
   "id": "cbe65700",
   "metadata": {},
   "outputs": [],
   "source": [
    "# example 2:\n",
    "# O(n)\n",
    "for i in range(n):\n",
    "    # O(n)\n",
    "    for j in range(n):\n",
    "        print('a')"
   ]
  },
  {
   "cell_type": "markdown",
   "id": "8fa72b68",
   "metadata": {},
   "source": [
    "\n",
    "<img src=\"figures/lecture_10_1/big_0_chart.png\" width=\"500\" height=\"80\">\n"
   ]
  },
  {
   "cell_type": "markdown",
   "id": "f147ea86",
   "metadata": {},
   "source": [
    "### Ex linear search on unsorted list"
   ]
  },
  {
   "cell_type": "markdown",
   "id": "a320ebc3",
   "metadata": {},
   "source": [
    "this is linear.\n",
    "\n",
    "O(len(L) for loop * O(1) for the test if e == L[i]\n",
    "\n",
    "so O(1+4n+1) = O(n)"
   ]
  },
  {
   "cell_type": "code",
   "execution_count": 15,
   "id": "02a95d7f",
   "metadata": {},
   "outputs": [],
   "source": [
    "def linear_search(L, e):\n",
    "    found = False\n",
    "    # loop n times\n",
    "    for i in range(len(L)): # 1 step\n",
    "        if e == L[i]: # 2 a comparison and call \n",
    "            found = True\n",
    "    return found\n",
    "\n"
   ]
  },
  {
   "cell_type": "markdown",
   "id": "8faeb743",
   "metadata": {},
   "source": [
    "### Constant time list access\n",
    "\n",
    "- we assumed the access was linear.\n",
    "\n",
    "- if list is all ints\n",
    "    - i'th elemt at base + 4*i\n",
    "    - this will in constant time, becuase I don't need to loop through the list, i know exactly where the location is\n",
    "    \n",
    "- if list is heterogeneous\n",
    "    - indirection \n",
    "        - a teqn in heterogneous lists\n",
    "    - reference to other objects"
   ]
  },
  {
   "cell_type": "markdown",
   "id": "0cc17e7b",
   "metadata": {},
   "source": [
    "### Linear Search on Sorted List\n",
    "\n",
    "- must only look until reach a number > e\n",
    "- O(len(L)) for loop * O(1) to test if e==L[i]\n",
    "- overalall complex is O(n) where n = len(L)\n",
    "- note order of growth is same, though run time may vary for two diff methods!"
   ]
  },
  {
   "cell_type": "code",
   "execution_count": 16,
   "id": "9c913ff2",
   "metadata": {},
   "outputs": [],
   "source": [
    "def search (L,e):\n",
    "    for i in range(len(L)):\n",
    "        if L[i] == e:\n",
    "            return True\n",
    "        if L[i] > e:\n",
    "            return False\n",
    "    return False"
   ]
  },
  {
   "cell_type": "markdown",
   "id": "4ff2cab7",
   "metadata": {},
   "source": [
    "### Linear Complexity\n",
    "\n",
    "- search a list in sequence is element is present\n",
    "- add characters of a string, assumed to be compsed of decimal digits  \n",
    "- this example is O(1) + O(len(s)) for loop\n",
    "    - O(1) + O(n)*O(1 + 1 + 1) = O(n)"
   ]
  },
  {
   "cell_type": "code",
   "execution_count": 17,
   "id": "d3e97601",
   "metadata": {},
   "outputs": [],
   "source": [
    "def addDigits(s):\n",
    "    val = 0\n",
    "    for c in s:\n",
    "        val += int(c)\n",
    "    return val "
   ]
  },
  {
   "cell_type": "markdown",
   "id": "2a5b78c2",
   "metadata": {},
   "source": [
    "### Nested Loops Examples"
   ]
  },
  {
   "cell_type": "markdown",
   "id": "637aa9f5",
   "metadata": {},
   "source": [
    "### Quadratic Complexity\n",
    "\n",
    "- determines if one list is subset of second, ie, every elemt in first ppears in second, no duplicates\n",
    "\n",
    "- outer loop len(L1) = n times\n",
    "- inner loop:\n",
    "    - loops up to len(L2) times \n",
    "    \n",
    "- worst case is both lists are equal so you have to loop through every element. \n",
    "- O(n^2). Don't worry about O(n*m) because again, the worst case is still O(n^2)"
   ]
  },
  {
   "cell_type": "code",
   "execution_count": 19,
   "id": "7e167877",
   "metadata": {},
   "outputs": [],
   "source": [
    "def isSubset(L1, L2):\n",
    "    for e1 in L1:\n",
    "        matched = False\n",
    "        for e2 in L2:\n",
    "            if e1 == e2:\n",
    "                matched = True\n",
    "                break\n",
    "            if not matched:\n",
    "                return False\n",
    "    return True"
   ]
  },
  {
   "cell_type": "code",
   "execution_count": null,
   "id": "92481968",
   "metadata": {},
   "outputs": [],
   "source": []
  }
 ],
 "metadata": {
  "kernelspec": {
   "display_name": "Python 3",
   "language": "python",
   "name": "python3"
  },
  "language_info": {
   "codemirror_mode": {
    "name": "ipython",
    "version": 3
   },
   "file_extension": ".py",
   "mimetype": "text/x-python",
   "name": "python",
   "nbconvert_exporter": "python",
   "pygments_lexer": "ipython3",
   "version": "3.9.4"
  }
 },
 "nbformat": 4,
 "nbformat_minor": 5
}
