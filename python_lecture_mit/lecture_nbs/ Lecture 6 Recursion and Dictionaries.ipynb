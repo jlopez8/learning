{
 "cells": [
  {
   "cell_type": "markdown",
   "id": "4d0a074b",
   "metadata": {},
   "source": [
    "# Lecture 6 Recursion and Dictionaries"
   ]
  },
  {
   "cell_type": "markdown",
   "id": "61e3c2ec",
   "metadata": {},
   "source": [
    "**last time:** tuples, lists, aliasing, cloning, mutability side effects"
   ]
  },
  {
   "cell_type": "markdown",
   "id": "16177fe3",
   "metadata": {},
   "source": [
    "## Recursion\n",
    "\n",
    "- process of repeat items in self similar way  \n",
    "\n",
    "- can recall itself. avoid infinite recursion with one or more base cases  "
   ]
  },
  {
   "cell_type": "markdown",
   "id": "58ad50e3",
   "metadata": {},
   "source": [
    "## Example: Multiplication with an iterative solution\n",
    "\n",
    "- **multiplication** is a*b = a + a + a ... + a   b times...\n",
    "\n",
    "- **recursion**: capture **state** by \n",
    "    - an iteration number i starts at b \n",
    "    - i <- i-1 stop when 0\n",
    "    - a current value of computation (result)\n",
    "    - result = 0\n",
    "    - result <- result + a"
   ]
  },
  {
   "cell_type": "markdown",
   "id": "7129d478",
   "metadata": {},
   "source": [
    "## Example: Recursive Function Scope\n",
    "\n",
    "here's a function:\n",
    "\n",
    "def fact(n): \n",
    "    if n == 1:\n",
    "        return 1\n",
    "    else:\n",
    "        return n*fact(n-1)\n",
    "\n",
    "\n",
    "print(fact(4))  # will return 4*3*2*1 = 24\n",
    "\n",
    "- this will create three frames starting w the global scope. Each time fact is called, a new frame is created w the provided parameter.\n",
    "\n",
    "- this is an example of unwinding to a base case (this time n = 1)\n",
    "- each time the function is called, a new frame was reated\n",
    "- natural flow of control. \n",
    "- this can be contrast to a method with iteration.\n"
   ]
  },
  {
   "cell_type": "markdown",
   "id": "eb518f28",
   "metadata": {},
   "source": [
    "## Math Induction\n",
    "\n",
    "- how to we know recusrive code will work? \n",
    "- this tool from math helps us in recursion / recursive code\n",
    "- we are going to show it's true for the base case\n",
    "- then if we have something work for the base case, then we can apply math induction to ensure this works for all values"
   ]
  },
  {
   "cell_type": "markdown",
   "id": "801d53ca",
   "metadata": {},
   "source": [
    "## Tower of Hanoi Example\n",
    "\n",
    "The goal of this game is to move a tower of size n (say weighted disks of decreasing value) over to another stake, disk by disk, in such a way that each move does not result in a smaller disk being under a larger disk. There are three stakes all of which can be used to temporarily store disks. \n",
    "\n",
    "\n",
    "move a tower of size n. To think about this inductively before we write code, assum we can move a stack of size n-1. "
   ]
  },
  {
   "cell_type": "code",
   "execution_count": 9,
   "id": "c7e1a839",
   "metadata": {},
   "outputs": [],
   "source": [
    "def printMove(fr, to):\n",
    "    print('move from ' + str(fr) + ' to ' + str(to))\n",
    "    \n",
    "def Towers(n, fr, to, spare):\n",
    "    if n == 1:\n",
    "        printMove(fr, to)\n",
    "    else: \n",
    "        Towers(n-1, fr, spare, to)\n",
    "        Towers(1, fr, to, spare)\n",
    "        Towers(n-1, spare, to, fr)"
   ]
  },
  {
   "cell_type": "code",
   "execution_count": 10,
   "id": "3a3802df",
   "metadata": {},
   "outputs": [
    {
     "name": "stdout",
     "output_type": "stream",
     "text": [
      "move from 2 to 1\n",
      "move from 2 to 0\n",
      "move from 1 to 0\n",
      "move from 2 to 1\n",
      "move from 0 to 2\n",
      "move from 0 to 1\n",
      "move from 2 to 1\n"
     ]
    }
   ],
   "source": [
    "Towers(3, 2, 1, 0)"
   ]
  },
  {
   "cell_type": "markdown",
   "id": "206e0b33",
   "metadata": {},
   "source": [
    "## Fibonacci Numbers Example\n",
    "\n",
    "Example with multiple base cases\n",
    "\n",
    "Fibonacci numbers:\n",
    "- Rabbits put in pen: 1 male, 1 female\n",
    "- Mate at end 1 month\n",
    "- 1 month gestation\n",
    "- Rabbits never die\n",
    "- each female produces 1 male and 1 female every month from its second month on\n",
    "- How many female rabbits are there at the end of one year"
   ]
  },
  {
   "cell_type": "markdown",
   "id": "ceb11929",
   "metadata": {},
   "source": [
    "Some math\n",
    "\n",
    "- after one month (month) - 1 female\n",
    "- After second month - still 1 female (now pregnant)\n",
    "- After third month - two female, one pregnant one not\n",
    "- In general: females(n) = females(n-1) + females(n-2)\n",
    "    - every female alive at month n-2 will produce one female in month n;\n",
    "    - can be added those alive in month n-1 to get total alive in month n"
   ]
  },
  {
   "cell_type": "code",
   "execution_count": 22,
   "id": "d9ddb643",
   "metadata": {},
   "outputs": [],
   "source": [
    "def fib(x):\n",
    "    \"\"\"\n",
    "    Assumes x an int >= 0\n",
    "    returns Fibonacci of x\n",
    "    \"\"\"\n",
    "    \n",
    "    # base cases\n",
    "    if x == 0 or x == 1:\n",
    "        return 1;\n",
    "    \n",
    "    #recursion\n",
    "    else: \n",
    "        return fib(x-1) + fib(x-2)"
   ]
  },
  {
   "cell_type": "code",
   "execution_count": 23,
   "id": "32dc73ca",
   "metadata": {},
   "outputs": [
    {
     "data": {
      "text/plain": [
       "1"
      ]
     },
     "execution_count": 23,
     "metadata": {},
     "output_type": "execute_result"
    }
   ],
   "source": [
    "fib(0)"
   ]
  },
  {
   "cell_type": "code",
   "execution_count": 24,
   "id": "ea878550",
   "metadata": {},
   "outputs": [
    {
     "data": {
      "text/plain": [
       "1"
      ]
     },
     "execution_count": 24,
     "metadata": {},
     "output_type": "execute_result"
    }
   ],
   "source": [
    "fib(1)"
   ]
  },
  {
   "cell_type": "code",
   "execution_count": 25,
   "id": "0a4c7b62",
   "metadata": {},
   "outputs": [
    {
     "data": {
      "text/plain": [
       "2"
      ]
     },
     "execution_count": 25,
     "metadata": {},
     "output_type": "execute_result"
    }
   ],
   "source": [
    "fib(2)"
   ]
  },
  {
   "cell_type": "code",
   "execution_count": 26,
   "id": "d1a7a40a",
   "metadata": {},
   "outputs": [
    {
     "data": {
      "text/plain": [
       "89"
      ]
     },
     "execution_count": 26,
     "metadata": {},
     "output_type": "execute_result"
    }
   ],
   "source": [
    "fib(10)\n"
   ]
  },
  {
   "cell_type": "markdown",
   "id": "b90a1017",
   "metadata": {},
   "source": [
    "## Recursion on Non Numerics"
   ]
  },
  {
   "cell_type": "markdown",
   "id": "169ef8b2",
   "metadata": {},
   "source": [
    "Solving palindromes recursively.\n",
    "\n",
    "So the palindrome problem can be reduced from somewhat a pain in the ass of having to check every character in a loop to a smaller problem:\n",
    "\n",
    "1. IF we match end characters\n",
    "\n",
    "2. Then go on and check that the middle section is a palindrome"
   ]
  },
  {
   "cell_type": "markdown",
   "id": "fd87305d",
   "metadata": {},
   "source": [
    "## Example\n",
    "\n",
    "'Able was I, ere I saw Elba' -> 'ablewasiereisawelba'\n",
    "\n",
    "isPalindrome('ablewasiereisawelba') is same as\n",
    "'a' == 'a' and isPalindrome('blewasiereisawelb') "
   ]
  },
  {
   "cell_type": "code",
   "execution_count": 41,
   "id": "2c71e5e8",
   "metadata": {},
   "outputs": [],
   "source": [
    "import string # need this for a pre-pop dictionary\n",
    "\n",
    "def isPalindrome(s):\n",
    "    \n",
    "    # define a way to convert to characters\n",
    "    def toChars(s):\n",
    "        s = s.lower() # project to lowercase space\n",
    "        ans = '' # start a results string\n",
    "        for c in s:\n",
    "            # checking this ensures we skip things like ','\n",
    "            if c in string.ascii_lowercase :\n",
    "                \n",
    "                ans = ans + c # concatenate\n",
    "        return ans\n",
    "    \n",
    "    # now define the palindrome checker\n",
    "    def isPal(s):\n",
    "        if len(s) <= 1: # edge case of only 1 letter\n",
    "            return True;\n",
    "        else :\n",
    "            return s[0] == s[-1] and isPal(s[1:-1])\n",
    "    \n",
    "    return isPal(toChars(s))"
   ]
  },
  {
   "cell_type": "code",
   "execution_count": 42,
   "id": "a0370105",
   "metadata": {},
   "outputs": [
    {
     "data": {
      "text/plain": [
       "True"
      ]
     },
     "execution_count": 42,
     "metadata": {},
     "output_type": "execute_result"
    }
   ],
   "source": [
    "isPalindrome('tacocat')"
   ]
  },
  {
   "cell_type": "markdown",
   "id": "708e5adf",
   "metadata": {},
   "source": [
    "## Dictionaries\n",
    "\n",
    "Another data structure \n",
    "\n",
    "- **mutable**\n",
    "\n",
    "- **{}** use {} to create\n",
    "\n",
    "- EX: my_dict{} = {}\n",
    "- EX: grades = {'Ana':'B', 'John':'A+', 'Alejandro':'A', 'Leyenda':'A'}\n",
    "\n",
    "Suppose want to keep track of grades. Then the association is with the index of integers of multiple lists: one for names, one for grades, one for percents. But another way is with dictionaries which is index by a label. \n",
    "\n",
    "- This is similar to indexing into a list.\n",
    "- Looks up the key\n",
    "- returns value assoc. w key\n",
    "- if no key, return error\n",
    "\n"
   ]
  },
  {
   "cell_type": "markdown",
   "id": "ac010c32",
   "metadata": {},
   "source": [
    "## Dictionary Operations\n",
    "\n",
    "- **add entry** : grades['Sylvan'] = 'A'\n",
    "- **delete entry**: del(grades['Ana'])\n",
    "- **check key** : \n",
    "    - 'John' in grades -> returns true\n",
    "    - 'Daniel' in grades -> returns false\n",
    "- **get keys** : grades.keys() -> collection of keys in rnd order\n",
    "- **get values** : grades.values()-> collection of values in rnd order"
   ]
  },
  {
   "cell_type": "markdown",
   "id": "6bffed2e",
   "metadata": {},
   "source": [
    "<img src=\"./images/lecture_5/list_v_dict.png\" alt=\"Kitten\" title=\"A cute kitten\" width=\"600\" height=\"100\" /> "
   ]
  },
  {
   "cell_type": "markdown",
   "id": "a5d9332f",
   "metadata": {},
   "source": [
    "## Creating a dictionary"
   ]
  },
  {
   "cell_type": "code",
   "execution_count": 46,
   "id": "cca42cf6",
   "metadata": {},
   "outputs": [],
   "source": [
    "# count frequency of words in a song\n",
    "def lyrics_to_frequencies(lyrics):\n",
    "    myDict = {} # empty dict\n",
    "    for word in lyrics:\n",
    "        if word in myDict:\n",
    "            myDict[word] += 1 # add value of 1 to key 'word'\n",
    "        else:\n",
    "            myDict[word] = 1 # +1 new word to dict and start count @ 1\n",
    "        \n",
    "    return myDict\n"
   ]
  },
  {
   "cell_type": "code",
   "execution_count": 50,
   "id": "9d55059d",
   "metadata": {},
   "outputs": [],
   "source": [
    "ohio_lyrics = ['hows', 'it', 'been','in','ohio', 'babe','do','you','think','about','me','when','youre','going','home','cuz','ive', 'been','getting','rich','but','everything', 'i', 'love', 'is', 'broke', 'so', 'whats', 'good', 'is','it','me','or','is','it','you']"
   ]
  },
  {
   "cell_type": "code",
   "execution_count": 60,
   "id": "e60dd15f",
   "metadata": {},
   "outputs": [
    {
     "name": "stdout",
     "output_type": "stream",
     "text": [
      "{'hows': 1, 'it': 3, 'been': 2, 'in': 1, 'ohio': 1, 'babe': 1, 'do': 1, 'you': 2, 'think': 1, 'about': 1, 'me': 2, 'when': 1, 'youre': 1, 'going': 1, 'home': 1, 'cuz': 1, 'ive': 1, 'getting': 1, 'rich': 1, 'but': 1, 'everything': 1, 'i': 1, 'love': 1, 'is': 3, 'broke': 1, 'so': 1, 'whats': 1, 'good': 1, 'or': 1}\n",
      "dict_values([1, 3, 2, 1, 1, 1, 1, 2, 1, 1, 2, 1, 1, 1, 1, 1, 1, 1, 1, 1, 1, 1, 1, 3, 1, 1, 1, 1, 1])\n"
     ]
    }
   ],
   "source": [
    "ohio_freq = lyrics_to_frequencies(ohio_lyrics)\n",
    "print(ohio_freq)\n",
    "print(ohio_freq.values())"
   ]
  },
  {
   "cell_type": "markdown",
   "id": "ed999946",
   "metadata": {},
   "source": [
    "## Using the dictionary\n",
    "\n",
    "Let's find the most common words. There is no order to the dictionary above.\n",
    "\n"
   ]
  },
  {
   "cell_type": "code",
   "execution_count": 69,
   "id": "2e25444f",
   "metadata": {},
   "outputs": [
    {
     "data": {
      "text/plain": [
       "(['hows',\n",
       "  'in',\n",
       "  'ohio',\n",
       "  'babe',\n",
       "  'do',\n",
       "  'think',\n",
       "  'about',\n",
       "  'when',\n",
       "  'youre',\n",
       "  'going',\n",
       "  'home',\n",
       "  'cuz',\n",
       "  'ive',\n",
       "  'getting',\n",
       "  'rich',\n",
       "  'but',\n",
       "  'everything',\n",
       "  'i',\n",
       "  'love',\n",
       "  'broke',\n",
       "  'so',\n",
       "  'whats',\n",
       "  'good',\n",
       "  'or'],\n",
       " 1)"
      ]
     },
     "execution_count": 69,
     "metadata": {},
     "output_type": "execute_result"
    }
   ],
   "source": [
    "def most_common_words(freqs):\n",
    "    \n",
    "    # assum you entered a dict freqs\n",
    "    values = freqs.values()\n",
    "    best = max(values) # find the maximum\n",
    "    words = [] # instantiate empty list\n",
    "    \n",
    "    # search the dicts keys and add to word list \n",
    "    # if it is value of best\n",
    "    for key in freqs:\n",
    "        if freqs[key] == best:\n",
    "            words.append(key)\n",
    "    \n",
    "    # return tuple of words and best\n",
    "    # the reason words is a list because there may be multiple maxims\n",
    "    return (words, best)\n",
    "\n",
    "\n",
    "most_common_words(ohio_freq)"
   ]
  },
  {
   "cell_type": "markdown",
   "id": "9fb62f50",
   "metadata": {},
   "source": [
    "Maybe we want to know how often most common words words appear"
   ]
  },
  {
   "cell_type": "code",
   "execution_count": 72,
   "id": "917e1539",
   "metadata": {},
   "outputs": [
    {
     "data": {
      "text/plain": [
       "[(['it', 'is'], 3), (['been', 'you', 'me'], 2)]"
      ]
     },
     "execution_count": 72,
     "metadata": {},
     "output_type": "execute_result"
    }
   ],
   "source": [
    "# should re-apply this, otherwise the dictionary will have already had \n",
    "# deleted key-val pairs!\n",
    "ohio_freq = lyrics_to_frequencies(ohio_lyrics)\n",
    "\n",
    "def words_often(freqs, minTimes):\n",
    "    \n",
    "    result = [] # instantiate empty list\n",
    "    done = False # flag for loop termn.\n",
    "    while not done:\n",
    "        \n",
    "        # define the most common words in current dictionary\n",
    "        temp = most_common_words(freqs)\n",
    "        \n",
    "        # if the freq count meets the minimum criterion\n",
    "        # then append these words to result\n",
    "        # once this is done, delete these words from the \n",
    "        # provided dictionary, that way we can \n",
    "        if temp[1] >= minTimes:\n",
    "            result.append(temp)\n",
    "            for w in temp[0]:\n",
    "                del(freqs[w])\n",
    "        else:\n",
    "            done = True\n",
    "    \n",
    "    return result\n",
    "\n",
    "words_often(ohio_freq, 2)"
   ]
  },
  {
   "cell_type": "markdown",
   "id": "c05adddc",
   "metadata": {},
   "source": [
    "## Solving Fibonacci w Dicts\n",
    "\n",
    "We can do a more efficient method for Fibonacci sequence using dicts which does not recompute values."
   ]
  },
  {
   "cell_type": "code",
   "execution_count": 74,
   "id": "2133f28d",
   "metadata": {},
   "outputs": [],
   "source": [
    "def fib_efficient(n,d):\n",
    "    \n",
    "    # what makes this efficient is we store values computed along \n",
    "    # the way\n",
    "    # must provide two initial states / base cases\n",
    "    \n",
    "    if n in d: # if n is already in the dictionary\n",
    "        return d[n]\n",
    "    else: # if not in dict, perform one fib step\n",
    "        ans = fib_efficient(n-1,d) + fib_efficient(n-2,d)\n",
    "        d[n] = ans\n",
    "        return ans"
   ]
  },
  {
   "cell_type": "code",
   "execution_count": 75,
   "id": "8dc2659d",
   "metadata": {},
   "outputs": [
    {
     "name": "stdout",
     "output_type": "stream",
     "text": [
      "13\n"
     ]
    }
   ],
   "source": [
    "d = {1:1, 2:2}\n",
    "steps = 6\n",
    "print(fib_efficient(steps, d))"
   ]
  },
  {
   "cell_type": "markdown",
   "id": "c39946a3",
   "metadata": {},
   "source": [
    "## Notes about this fib_efficient\n",
    "\n",
    "- using original recursive fib method, if steps = 34, it takes 11Mill calls to fib to find the answer!\n",
    "- using the fib_efficient: 65 calls to fib_Efficient!\n",
    "- perhaps we should have done this when solving the Pascal's pyramid problem"
   ]
  },
  {
   "cell_type": "code",
   "execution_count": null,
   "id": "91307033",
   "metadata": {},
   "outputs": [],
   "source": []
  }
 ],
 "metadata": {
  "kernelspec": {
   "display_name": "Python 3",
   "language": "python",
   "name": "python3"
  },
  "language_info": {
   "codemirror_mode": {
    "name": "ipython",
    "version": 3
   },
   "file_extension": ".py",
   "mimetype": "text/x-python",
   "name": "python",
   "nbconvert_exporter": "python",
   "pygments_lexer": "ipython3",
   "version": "3.9.4"
  }
 },
 "nbformat": 4,
 "nbformat_minor": 5
}
