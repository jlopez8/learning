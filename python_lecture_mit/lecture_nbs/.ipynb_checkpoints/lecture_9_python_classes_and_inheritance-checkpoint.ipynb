{
 "cells": [
  {
   "cell_type": "markdown",
   "id": "d419c1a9",
   "metadata": {},
   "source": [
    "# Lecture 9: Python Classes and Inheritance"
   ]
  },
  {
   "cell_type": "markdown",
   "id": "b17b2f91",
   "metadata": {},
   "source": [
    "## Implementing class vs Using class\n",
    "\n",
    "**implementing**:\n",
    "- implementing a new object type with a class\n",
    "- define the class\n",
    "- define some **data attributes**: what is the object?\n",
    "- define some **methods**: HOW to use the object\n",
    "\n",
    "**Using**:\n",
    "- using the new objec type in code\n",
    "- create **instances** of the object type\n",
    "- do **operations** with them\n"
   ]
  },
  {
   "cell_type": "markdown",
   "id": "b9742119",
   "metadata": {},
   "source": [
    "## Class Definition of Object Type vs Instance of Class\n",
    "\n",
    "**class definition**:\n",
    "- class name is the type\n",
    "- class definied generically \n",
    "    - use `self` to refer to some class instance\n",
    "    - `self` is paramter to methods in the class definition\n",
    "    \n",
    "**instance of class**:\n",
    "- instance is one specific object\n",
    "- data attributes values vary between instances\n",
    "- instance has the structure of the class"
   ]
  },
  {
   "cell_type": "markdown",
   "id": "d170f516",
   "metadata": {},
   "source": [
    "## Getters and Setters Methods  \n",
    "\n",
    "- used outside of class to access and modify object values\n",
    "- allows some values to remain incapsulated inside the class without direct access to them\n",
    "- \\__str\\__ method remember this is so that python knows what to do with printing."
   ]
  },
  {
   "cell_type": "code",
   "execution_count": 1,
   "id": "979b4447",
   "metadata": {},
   "outputs": [],
   "source": [
    "class Animal(object):\n",
    "    def __init__(self, age):\n",
    "        self.age = age\n",
    "        self.name = None\n",
    "    \n",
    "    def get_age(self):\n",
    "        return self.age\n",
    "    \n",
    "    def get_name(self):\n",
    "        return self.name\n",
    "    \n",
    "    def set_age(self, newage):\n",
    "        self.age = newage\n",
    "    \n",
    "    def set_name(self, newname=\"\"):\n",
    "        self.name = newname\n",
    "        \n",
    "    def __str__(self):\n",
    "        return \"animal:\"+str(self.name)+\":\"+str(self.age)"
   ]
  },
  {
   "cell_type": "code",
   "execution_count": 7,
   "id": "8c5309ec",
   "metadata": {},
   "outputs": [
    {
     "name": "stdout",
     "output_type": "stream",
     "text": [
      "3\n",
      "3\n"
     ]
    }
   ],
   "source": [
    "a = Animal(3)\n",
    "\n",
    "# accessing directly\n",
    "print(a.age) \n",
    "\n",
    "# accessing with getters/setters\n",
    "print(a.get_age()) "
   ]
  },
  {
   "cell_type": "markdown",
   "id": "c21ee096",
   "metadata": {},
   "source": [
    "## Information Hiding  \n",
    "\n",
    "- suppose author of class wants to change data attribute variable names\n",
    "- age -> years (we now want to call it years for example)\n",
    "- if you are accessing data attributes outside the class and class definition changes, you may get errors because you are accessing something that has changed\n",
    "- outside of the class, use getters and setters \n",
    "    - good style\n",
    "    - easy to maintain code\n",
    "    - prevent bugs!"
   ]
  },
  {
   "cell_type": "markdown",
   "id": "a5d12ccb",
   "metadata": {},
   "source": [
    "## Python not great at infromation hiding\n",
    "\n",
    "- python allows access data directly outside class definition \n",
    "    - ex: a.age\n",
    "- allows write to data from outside class\n",
    "    - ex: a.age = 'infinite'\n",
    "- allows create data attributes outside class definition\n",
    "    - ex: a.size = \"tiny\" # but a.size was not an original attribute"
   ]
  },
  {
   "cell_type": "markdown",
   "id": "42da2a91",
   "metadata": {},
   "source": [
    "## Default Arguments\n",
    "\n",
    "- default args for formal paras used if no argument is passed\n",
    "    - ex: def set_name(self, newname=\"\")\n",
    "              self.name = newname\n",
    "- so if we try:\n",
    "    - a = Animal(3)\n",
    "    - a.set_name() # empty arg\n",
    "    - print(a.get_name()) # will return \"\""
   ]
  },
  {
   "cell_type": "markdown",
   "id": "7797b70e",
   "metadata": {},
   "source": [
    "## Heirarchies  \n",
    "\n",
    "- parent class (superclass)  \n",
    "- child class (subclass)\n",
    "    - inherits all data and behaviors of parent class\n",
    "    - add more info\n",
    "    - add more behavior\n",
    "    - **override** behavior\n",
    "    "
   ]
  },
  {
   "cell_type": "markdown",
   "id": "6ebc7f30",
   "metadata": {},
   "source": [
    "### Create a subclass of animals\n",
    "\n",
    "- we will add the method `speak`\n",
    "- we override the `__str__` method so it prints something specific for cats\n",
    "- we can leverage code previously written by the superclass methods to not have to rewrite our own...\n",
    "- we will define and cat and a person, both of which are animals\n"
   ]
  },
  {
   "cell_type": "code",
   "execution_count": 11,
   "id": "a7f5e3c1",
   "metadata": {},
   "outputs": [],
   "source": [
    "# use Animal here to know who the parent class is\n",
    "class Cat(Animal): \n",
    "    def speak(self):\n",
    "        print(\"meow\")\n",
    "    def __str__(self):\n",
    "        return \"cat:\"+str(self.name)+\":\"+str(self.largs)"
   ]
  },
  {
   "cell_type": "code",
   "execution_count": 16,
   "id": "a457a4b4",
   "metadata": {},
   "outputs": [],
   "source": [
    "# use Animal class to create person class\n",
    "class Person(Animal):\n",
    "    def __init__(self, name, age):\n",
    "        # we use Animal's init method here, bc it already\n",
    "        # does some of the job we want.\n",
    "        Animal.__init__(self, age)\n",
    "        \n",
    "        # but we also want a thing or two here:\n",
    "        self.set_name(name)\n",
    "        \n",
    "        # create new person data attribute\n",
    "        self.friends = []\n",
    "    \n",
    "    # add a getter\n",
    "    def get_friends(self):\n",
    "        return self.friends\n",
    "    \n",
    "    # add the add_friend method\n",
    "    def add_friend(self, fname):\n",
    "        self.friends.append(fname)\n",
    "     \n",
    "    # add speak method\n",
    "    def speak(self):\n",
    "        print(\"hello\")\n",
    "       \n",
    "    # add age_diff method\n",
    "    def age_diff(self, other):\n",
    "        diff = self.age - other.age\n",
    "        print(abs(diff), \"year difference\")\n",
    "    \n",
    "    # override __str__\n",
    "    def __str__(self):\n",
    "        return \"person:\"+str(self.name)+\":\"+str(self.age)\n",
    "        \n",
    "        "
   ]
  },
  {
   "cell_type": "markdown",
   "id": "20e95a2e",
   "metadata": {},
   "source": [
    "### Use the code here"
   ]
  },
  {
   "cell_type": "code",
   "execution_count": 17,
   "id": "87fded97",
   "metadata": {},
   "outputs": [
    {
     "name": "stdout",
     "output_type": "stream",
     "text": [
      "Xavier\n",
      "30\n",
      "Viridiana\n",
      "22\n",
      "person:Xavier:30\n",
      "hello\n",
      "8 year difference\n"
     ]
    }
   ],
   "source": [
    "p1 = Person(\"Xavier\", 30)\n",
    "p2 = Person(\"Viridiana\", 22)\n",
    "\n",
    "print(p1.get_name())\n",
    "print(p1.get_age())\n",
    "print(p2.get_name())\n",
    "print(p2.get_age())\n",
    "\n",
    "print(p1)\n",
    "p1.speak()\n",
    "p1.age_diff(p2)"
   ]
  },
  {
   "cell_type": "markdown",
   "id": "1de2c451",
   "metadata": {},
   "source": [
    "### We add another class, a SUBclass of person"
   ]
  },
  {
   "cell_type": "code",
   "execution_count": 21,
   "id": "c7c346d2",
   "metadata": {},
   "outputs": [],
   "source": [
    "import random\n",
    "\n",
    "# inherits from Person\n",
    "class Student(Person):\n",
    "    \n",
    "    def __init__(self, name, age, major=None):\n",
    "        Person.__init__(self, name, age)\n",
    "        self.major = major\n",
    "        \n",
    "    def change_major(self, major):\n",
    "        self.major = major\n",
    "        \n",
    "    def speak(self):\n",
    "        # choose rnd float b/w [0,1)\n",
    "        r = random.random() \n",
    "        \n",
    "        if r < 0.25:\n",
    "            print(\"i have homework\")\n",
    "        elif 0.25 <= r < 0.5:\n",
    "            print(\"i need sleep\")\n",
    "        elif 0.5 <= r < 0.75:\n",
    "            print(\"i should eat\")\n",
    "        else:\n",
    "            print(\"i am watching tv\")\n",
    "    \n",
    "    def __str__(self):\n",
    "        return \"student:\"+str(self.name)+\":\"+str(self.age)+\":\"+str(self.major)"
   ]
  },
  {
   "cell_type": "markdown",
   "id": "75a0d5e0",
   "metadata": {},
   "source": [
    "### Use the student class here"
   ]
  },
  {
   "cell_type": "code",
   "execution_count": 34,
   "id": "6fdb0841",
   "metadata": {},
   "outputs": [
    {
     "name": "stdout",
     "output_type": "stream",
     "text": [
      "student:Alicia:20:CS\n",
      "student:Amor:18:None\n",
      "\n",
      "Alicia says: i should eat\n",
      "Amor says: i need sleep\n"
     ]
    }
   ],
   "source": [
    "s1 = Student('Alicia', 20, \"CS\")\n",
    "s2 = Student('Amor', 18) # no major passed\n",
    "\n",
    "print(s1)\n",
    "print(s2)\n",
    "print()\n",
    "print(s1.get_name(),\"says:\", end=\" \")\n",
    "s1.speak()\n",
    "print(s2.get_name(),\"says:\", end=\" \")\n",
    "s2.speak()"
   ]
  },
  {
   "cell_type": "markdown",
   "id": "1b636e85",
   "metadata": {},
   "source": [
    "## Class Variables\n",
    "\n",
    "- class variabls and their values are **shared** between all instances of a class\n",
    "\n",
    "- if one instance of class modifies this variable, then it's modified for all instances of the class. In JAVA these are 'static' fields.\n",
    "\n",
    "-  We call the class variable using the class name\n",
    "        self.rid = Rabbit.tag \n",
    "        \n",
    "- The + operator between two rabbit instances\n",
    "    - creates a new rabbit "
   ]
  },
  {
   "cell_type": "code",
   "execution_count": 60,
   "id": "36ea09c4",
   "metadata": {},
   "outputs": [],
   "source": [
    "class Rabbit(Animal):\n",
    "    \n",
    "    # class variable 'tab'\n",
    "    tag = 1\n",
    "    \n",
    "    def __init__(self, age, parent1=None, parent2=None):\n",
    "        Animal.__init__(self, age)\n",
    "        self.parent1 = parent1\n",
    "        self.parent2 = parent2\n",
    "        # We call the class variable using the class name\n",
    "        self.rid = Rabbit.tag \n",
    "        # each time a rabbit is instantiated, \n",
    "        # we update the tag by 1\n",
    "        Rabbit.tag += 1\n",
    "        \n",
    "    # get the rabbit id\n",
    "    def get_rid(self):\n",
    "        # zfill pads zeros if I see a naked number\n",
    "        # 1 to 001 for 3 digits filled\n",
    "        return str(self.rid).zfill(3)\n",
    "    \n",
    "    def get_parent1(self):\n",
    "        return self.parent1\n",
    "    \n",
    "    def get_parent2(self):\n",
    "        return self.parent2\n",
    "    \n",
    "    # define what happens when add two rabbits together\n",
    "    def __add__(self, other):\n",
    "        # return a new rabbit object\n",
    "        # age 0, parent 1 is self, parent 2 is other\n",
    "        return Rabbit(0, self, other)\n",
    "    \n",
    "    def __str__(self):\n",
    "        return \"rabbit:\"+self.get_rid()\n",
    "    \n",
    "    def __eq__(self, other):\n",
    "        parents_same = self.parent1.rid == other.parent1.rid \\\n",
    "        and self.parent2.rid == other.parent2.rid\n",
    "    \n",
    "        parents_opposite = self.parent2.rid == other.parent1.rid \\\n",
    "        and self.parent1.rid == other.parent2.rid\n",
    "    \n",
    "        return parents_same or parents_opposite"
   ]
  },
  {
   "cell_type": "markdown",
   "id": "ca945fd0",
   "metadata": {},
   "source": [
    "### Use the rabbit subclass"
   ]
  },
  {
   "cell_type": "code",
   "execution_count": 47,
   "id": "aeb9dda0",
   "metadata": {},
   "outputs": [
    {
     "name": "stdout",
     "output_type": "stream",
     "text": [
      "r1: rabbit:005\n",
      "r2: rabbit:006\n",
      "r3: rabbit:007\n",
      "r1 parent1:  None\n",
      "r2 parent2:  None\n",
      "---- testing rabbit addition \n",
      "r1: rabbit:005\n",
      "r2: rabbit:006\n",
      "r4: rabbit:008\n",
      "r4 parent1: rabbit:005\n",
      "r4 parent2: rabbit:006\n"
     ]
    }
   ],
   "source": [
    "r1 = Rabbit(3)\n",
    "r2 = Rabbit(4)\n",
    "r3 = Rabbit(5)\n",
    "\n",
    "print(\"r1:\", r1)\n",
    "print(\"r2:\", r2)\n",
    "print(\"r3:\", r3)\n",
    "\n",
    "print(\"r1 parent1: \", r1.get_parent1())\n",
    "print(\"r2 parent2: \", r2.get_parent2())\n",
    "\n",
    "print(\"---- testing rabbit addition \")\n",
    "\n",
    "r4 = r1 + r2\n",
    "\n",
    "print(\"r1:\", r1)\n",
    "print(\"r2:\", r2)\n",
    "print(\"r4:\", r4)\n",
    "print(\"r4 parent1:\", r4.get_parent1())\n",
    "print(\"r4 parent2:\", r4.get_parent2())"
   ]
  },
  {
   "cell_type": "markdown",
   "id": "2aafac19",
   "metadata": {},
   "source": [
    "## Special Method to compare two rabbits\n",
    "\n",
    "- decide if that two rabbits are equal if they hav ethe same two parents\n",
    "\n",
    "- compare ids of parents since ids are unique (since they are a class var)\n",
    "- note that you can't compare two objects directly\n",
    "    - self.parent1==other.parent1\n",
    "    - this will call the `__eq__` method over and over until you call it on `None` and will return an error"
   ]
  },
  {
   "cell_type": "code",
   "execution_count": 48,
   "id": "d3a3a406",
   "metadata": {},
   "outputs": [
    {
     "ename": "SyntaxError",
     "evalue": "unexpected character after line continuation character (<ipython-input-48-aa438d71db65>, line 4)",
     "output_type": "error",
     "traceback": [
      "\u001b[0;36m  File \u001b[0;32m\"<ipython-input-48-aa438d71db65>\"\u001b[0;36m, line \u001b[0;32m4\u001b[0m\n\u001b[0;31m    parents_same = self.parent1.rid == other.parent1.rid \\\u001b[0m\n\u001b[0m                                                          ^\u001b[0m\n\u001b[0;31mSyntaxError\u001b[0m\u001b[0;31m:\u001b[0m unexpected character after line continuation character\n"
     ]
    }
   ],
   "source": [
    "# code to insert above ^^\n",
    "\n",
    "def __eq__(self, other):\n",
    "    parents_same = self.parent1.rid == other.parent1.rid \\ \n",
    "                   and self.parent2.rid == other.parent2.rid\n",
    "    \n",
    "    parents_opposite = self.parent2.rid == other.parent1.rid \\ \n",
    "                   and self.parent1.rid == other.parent2.rid\n",
    "    \n",
    "    return parents_same or parents_opposite"
   ]
  },
  {
   "cell_type": "markdown",
   "id": "fcb3a3f0",
   "metadata": {},
   "source": [
    "### Use the equal method for subclass Rabbit"
   ]
  },
  {
   "cell_type": "code",
   "execution_count": 62,
   "id": "66f944b5",
   "metadata": {},
   "outputs": [
    {
     "name": "stdout",
     "output_type": "stream",
     "text": [
      "r3: rabbit:009\n",
      "r4: rabbit:010\n",
      "r5: rabbit:011\n",
      "r6: rabbit:012\n",
      "r5 parent1: rabbit:009\n",
      "r5 parent2: rabbit:010\n",
      "r6 parent1: rabbit:010\n",
      "r6 parent2: rabbit:009\n",
      "r5 and r6 have same parents? True\n",
      "r4 and r6 have same parents? False\n"
     ]
    }
   ],
   "source": [
    "r1 = Rabbit(3)\n",
    "r2 = Rabbit(4)\n",
    "r3 = Rabbit(5)\n",
    "r4 = r1 + r2\n",
    "\n",
    "r5 = r3 + r4\n",
    "r6 = r4 + r3\n",
    "\n",
    "print(\"r3:\", r3)\n",
    "print(\"r4:\", r4)\n",
    "print(\"r5:\", r5)\n",
    "print(\"r6:\", r6)\n",
    "\n",
    "print(\"r5 parent1:\", r5.get_parent1())\n",
    "print(\"r5 parent2:\", r5.get_parent2())\n",
    "print(\"r6 parent1:\", r6.get_parent1())\n",
    "print(\"r6 parent2:\", r6.get_parent2())\n",
    "print(\"r5 and r6 have same parents?\", r5==r6)\n",
    "print(\"r4 and r6 have same parents?\", r6==r4)\n"
   ]
  },
  {
   "cell_type": "code",
   "execution_count": null,
   "id": "20cd4361",
   "metadata": {},
   "outputs": [],
   "source": []
  }
 ],
 "metadata": {
  "kernelspec": {
   "display_name": "Python 3",
   "language": "python",
   "name": "python3"
  },
  "language_info": {
   "codemirror_mode": {
    "name": "ipython",
    "version": 3
   },
   "file_extension": ".py",
   "mimetype": "text/x-python",
   "name": "python",
   "nbconvert_exporter": "python",
   "pygments_lexer": "ipython3",
   "version": "3.9.4"
  }
 },
 "nbformat": 4,
 "nbformat_minor": 5
}
