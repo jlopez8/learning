{
 "cells": [
  {
   "cell_type": "markdown",
   "id": "71ea921c",
   "metadata": {},
   "source": [
    "# Understanding Program Efficiency Part 2"
   ]
  },
  {
   "cell_type": "markdown",
   "id": "8e684f15",
   "metadata": {},
   "source": [
    "Talk about various types of growth\n",
    "1. O(1) - constant run time\n",
    "2. O(log n) - log run time\n",
    "3. O(n) - linear run time\n",
    "4. O(n log n) - log linear run time\n",
    "5. O(n^c) - polynomial run time\n",
    "6. O(c^n) - exponential run time"
   ]
  },
  {
   "cell_type": "markdown",
   "id": "859f5cb3",
   "metadata": {},
   "source": [
    "We have examples filling in the chart that he shows."
   ]
  },
  {
   "cell_type": "markdown",
   "id": "0ce065c3",
   "metadata": {},
   "source": [
    "## Constant Complexity"
   ]
  },
  {
   "cell_type": "markdown",
   "id": "b54db2a6",
   "metadata": {},
   "source": [
    "- independent of inputs\n",
    "- few interesting algorithms in this class, but can often have pices that fit this class\n",
    "- can have loops or recursive calls, but only if number of itereations or calls independent of size of input."
   ]
  },
  {
   "cell_type": "markdown",
   "id": "33abdf69",
   "metadata": {},
   "source": [
    "## Revisit Bisection Search"
   ]
  },
  {
   "cell_type": "markdown",
   "id": "71d31df6",
   "metadata": {},
   "source": [
    "0. Given sortd list\n",
    "1. pick index\n",
    "2. if element is here, done\n",
    "3. else, ask if element to find is larger or smaller than current?\n",
    "    1. choose which half to look through\n",
    "    2. The problem is now reduced \n",
    "4. continue to repeat, throwing away the half you don't care about.\n",
    "5. worst case, is you have to look through the list until you end up making a comparision with just one element. At this point, however, you will not have had to compare every element possible to find this out.\n",
    "6. The complexity is 'log'."
   ]
  },
  {
   "cell_type": "markdown",
   "id": "2f623b7c",
   "metadata": {},
   "source": [
    "They then go to implement and review code, but we do not need to do that necessarily. They notice that even in an innocent-looking operation, it can be more complex because of hidden costs **copying** a list is actually of higher complexity which increased the cost of our original process."
   ]
  },
  {
   "cell_type": "markdown",
   "id": "0a06caa7",
   "metadata": {},
   "source": [
    "### Complexity of First Bisection Search Method"
   ]
  },
  {
   "cell_type": "markdown",
   "id": "36d4363d",
   "metadata": {},
   "source": [
    "**implementation 1 - bisect_search1**"
   ]
  },
  {
   "cell_type": "markdown",
   "id": "9020d30b",
   "metadata": {},
   "source": [
    "O(log n) bisection search calls  \n",
    "- on each recursive call, size of range is cut in half\n",
    "- if original range is size n, worst case down to range of size 1, where n/(2^k) = 1: or when k = log n  \n",
    "\n",
    "O(n) for each bisection search call to copy list\n",
    "- this is the cost set up each call, so this this for each level of recursion\n",
    "\n",
    "O(log n) * O(n) -> O(n log n)\n",
    "- if we are really careful, note that length of list to be copied is also halved on each recursive call\n",
    "    - turns out total cost to copy is O(n) and this dominates the log n cost due to recursive calls\n",
    "    - One thing to note is as you advance the list, you don't actually need the entire list. This is done in implementation 2\n",
    "    \n",
    "In the following case, we present how the implementation can affect the speed and performance of the algo."
   ]
  },
  {
   "cell_type": "markdown",
   "id": "39106ade",
   "metadata": {},
   "source": [
    "**implementation 2 - bisect_search2**"
   ]
  },
  {
   "cell_type": "code",
   "execution_count": 4,
   "id": "ccc6d2fa",
   "metadata": {},
   "outputs": [],
   "source": [
    "def bisect_search2(L,e):\n",
    "    def bisect_search_helper(L, e, low, high):\n",
    "        # if you are down to one element, return true if\n",
    "        # this value equals value you're trying to find.\n",
    "        if high == low:\n",
    "            return L[low] == e\n",
    "        \n",
    "        # set the midpoint\n",
    "        mid = (low + high)//2\n",
    "        \n",
    "        # if the mid value is exactly e, we're done\n",
    "        # otherwise see which half of the interval from\n",
    "        # low to hi may have this value\n",
    "        \n",
    "        if L[mid] == e:\n",
    "            return True\n",
    "        \n",
    "        elif L[mid] > e:\n",
    "            if low == mid: \n",
    "                # we've run out of search space\n",
    "                return False\n",
    "            # rerun the helper with the new parameters\n",
    "            # on the lower half.\n",
    "            # this is now a recursive call\n",
    "            else:\n",
    "                return bisect_search_helper(L, e, low, mid - 1)\n",
    "        else:\n",
    "            # otherwise do the recursive call on the lower half \n",
    "            return bisect_search_helper(L, e, mid + 1, high)\n",
    "    \n",
    "    # This is the start of the actual call. If the length is 0\n",
    "    # no items in list, so can't find anything return False.\n",
    "    # otherwise, run the iterative bisect_search_helper algo\n",
    "    # with a lower limit of 0 to start.\n",
    "    if len(L) == 0:\n",
    "        return False\n",
    "    else:\n",
    "        return bisect_search_helper(L, e, 0,len(L)-1)"
   ]
  },
  {
   "cell_type": "markdown",
   "id": "8102ecaf",
   "metadata": {},
   "source": [
    "## Logarithmic Complexity Example"
   ]
  },
  {
   "cell_type": "markdown",
   "id": "a18f78f5",
   "metadata": {},
   "source": [
    "Things that reduce problem size by 1 at each step are linear.  \n",
    "\n",
    "Things that reduce problem size by half (or any other portions, 1/3, 1/4...) at each step are logarithmic.  \n",
    "\n",
    "In this example, in the loop, there are a constant number of steps (do no increase with larger input).   \n",
    "\n",
    "The loop itself iterates how many times?\n",
    "That depends on how many times we can divide an integer by 10. \n",
    "\n",
    "$i/10^k = x \\rightarrow log_{10}(i/x) = k$\n",
    "\n",
    "so this is a $log(i)$ operation. Intuitively, if we increase a number from i to i+1, we still will only need to divide i+1 by 10 to the same power (a probability which increases as i grows).  \n",
    "\n",
    "For example:\n",
    "\n",
    "$11 \\rightarrow 12$ still only needs 2 divisions by 10.  \n",
    "\n",
    "$7000 \\rightarrow 7001$ still only needs 4 divisions by 10.  \n",
    "\n",
    "As i increases, the range of which that power to divide by 10 persists even longer.  \n",
    "\n",
    "For example:\n",
    "\n",
    "$0 - 9$ needs $k=1$ division by 10, and it applies to 10 numbers.  \n",
    "$10 - 99$ needs $k=2$ divisions by 10, and it applies to 90 numbers.  \n",
    "$100 - 1000$ needs $k=3$ divisiosn by 10, and it applies to 901 numbers.\n"
   ]
  },
  {
   "cell_type": "code",
   "execution_count": 8,
   "id": "26080928",
   "metadata": {},
   "outputs": [],
   "source": [
    "def intToStr(i):\n",
    "    digits = '0123456789'\n",
    "    if i == 0:\n",
    "        return '0'\n",
    "    result = ''\n",
    "    while i > 0:\n",
    "        # filter through each \"digit\" in a number\n",
    "        # by powers of 10.\n",
    "        result = digits[i%10] + result\n",
    "        i = i//10\n",
    "    return result"
   ]
  },
  {
   "cell_type": "markdown",
   "id": "840dd3e3",
   "metadata": {},
   "source": [
    "### Iterative factorial O()"
   ]
  },
  {
   "cell_type": "markdown",
   "id": "3ba277d0",
   "metadata": {},
   "source": [
    "complexity can depend on number of iterative calls.  \n",
    "\n",
    "This is an O(n) algo."
   ]
  },
  {
   "cell_type": "code",
   "execution_count": 9,
   "id": "31a79f78",
   "metadata": {},
   "outputs": [],
   "source": [
    "def fact_iter(n):\n",
    "    prod = 1\n",
    "    for i in range(1, n+1):\n",
    "        prod *= i\n",
    "    return prod"
   ]
  },
  {
   "cell_type": "markdown",
   "id": "e2efd834",
   "metadata": {},
   "source": [
    "What if we try recursive?  \n",
    "\n",
    "May run a bit slower considering the startup of the frame for the recursive call.  \n",
    "\n",
    "The loop is called once per n so this is linear.  \n",
    "\n",
    "This is example where both implementations produce same order."
   ]
  },
  {
   "cell_type": "code",
   "execution_count": 11,
   "id": "e5bed816",
   "metadata": {},
   "outputs": [],
   "source": [
    "def fact_recur(n):\n",
    "    \"\"\"Assume n >= 0.\n",
    "    :param n: Integer for factorial.\n",
    "    :type n: int.\n",
    "    \"\"\"\n",
    "    \n",
    "    if n<= 1:\n",
    "        return 1\n",
    "    else: \n",
    "        return n*fact_recur(n-1)"
   ]
  },
  {
   "cell_type": "markdown",
   "id": "c5c280ab",
   "metadata": {},
   "source": [
    "## Log-linear Complexity"
   ]
  },
  {
   "cell_type": "markdown",
   "id": "5bf32069",
   "metadata": {},
   "source": [
    "- many practical algos ar log-linear\n",
    "- commonly used log-linear algo is merge sort\n",
    "- this will come back to in the next lecture."
   ]
  },
  {
   "cell_type": "markdown",
   "id": "373ab3d1",
   "metadata": {},
   "source": [
    "## Polynomial Complexity"
   ]
  },
  {
   "cell_type": "markdown",
   "id": "8cd901e0",
   "metadata": {},
   "source": [
    "- most common poly algos are quadratic\n",
    "- commonly occurs with **nested loops**"
   ]
  },
  {
   "cell_type": "markdown",
   "id": "18c4cf19",
   "metadata": {},
   "source": [
    "## Exponential"
   ]
  },
  {
   "cell_type": "markdown",
   "id": "55c88d15",
   "metadata": {},
   "source": [
    "- try to stay away, but sometimes can't\n",
    "- happens when we have recursive functions have **more than one recursive call**\n",
    "    - **towers of hanoi**"
   ]
  },
  {
   "cell_type": "markdown",
   "id": "309ab3f3",
   "metadata": {},
   "source": [
    "#### Complexity of Towers of Hanoi (Expo Example)"
   ]
  },
  {
   "cell_type": "markdown",
   "id": "37370603",
   "metadata": {},
   "source": [
    "- let t_n = time to solve tower of size n\n",
    "- t_n = 2*t_n-1 + 1\n",
    "    - move a stack of size 1 less on the spare peg\n",
    "    - then 1 to move the bottom thing over\n",
    "    - then whatever it takes to move a stack of size n-1 over to that peg\n",
    "    \n",
    "- now....unravel\n",
    "- t_n = 2*t_n-1 + 1\n",
    "    - = 2*(2*t_n-2+1) + 1 = 4*t_n-2 + 2 + 1\n",
    "    - = 4*(2*t_n-3+1) + 2 + 1 = 8*t_n-2 + 4 + 2 + 1  \n",
    "    \n",
    "each time i reduce, i add another power of 2, and multiply by a power of 2  \n",
    "\n",
    "- t_n = 2^k*t_n-k + 2^(k-1) + ... + 4 + 2 + 1..\n",
    "- t_n = 2^(n-1) + 2^(n-2) + ... + 4 + 2 + 1\n",
    "this is an infinite geometric series\n",
    "- t_n = 2^n - 1\n",
    "\n",
    "so order of growth is **exponential**  "
   ]
  },
  {
   "cell_type": "markdown",
   "id": "c5446461",
   "metadata": {},
   "source": [
    "## The Power Set"
   ]
  },
  {
   "cell_type": "markdown",
   "id": "a57c5395",
   "metadata": {},
   "source": [
    "I'd like to generate collection of all possible subsets - called the power set, given a set of integers.\n",
    "\n",
    "You could write a big iterative loop. A bunch of nested loops. But there is a **nice recursive solution**.  \n",
    "\n",
    "Assum we can generate power set of integers from 1 to n-1.  \n",
    "\n",
    "Then all of these subsets belong to bigger power set (without n). and all of those subsets with n added to each of them belong to the power set."
   ]
  },
  {
   "cell_type": "markdown",
   "id": "3755bde8",
   "metadata": {},
   "source": [
    "<img src = \"figures/lecture_10_2/power_set.png\" width = 500>"
   ]
  },
  {
   "cell_type": "code",
   "execution_count": null,
   "id": "5a61b06d",
   "metadata": {},
   "outputs": [],
   "source": [
    "def genSubsets(L):\n",
    "    if len(L) == 0:\n",
    "        return [[]] # return the empty set if given empty set\n",
    "    # recursive: feed all elements up to the penultimate one\n",
    "    # the program is going to do this until it reaches the empty set.\n",
    "    smaller = genSubsets(L[:-1])\n",
    "    \n",
    "    # create list of just the last element\n",
    "    extra = L[-1:]\n",
    "    new = []\n",
    "    \n",
    "    # for each el in smaller/subset\n",
    "    for small in smaller:\n",
    "        # append the final value to it.\n",
    "        new.append(small+extra)\n",
    "    \n",
    "    # take all of these sets and add them into the newest set\n",
    "    return smaller + new"
   ]
  },
  {
   "cell_type": "code",
   "execution_count": null,
   "id": "e8c37e57",
   "metadata": {},
   "outputs": [],
   "source": []
  }
 ],
 "metadata": {
  "kernelspec": {
   "display_name": "Python 3",
   "language": "python",
   "name": "python3"
  },
  "language_info": {
   "codemirror_mode": {
    "name": "ipython",
    "version": 3
   },
   "file_extension": ".py",
   "mimetype": "text/x-python",
   "name": "python",
   "nbconvert_exporter": "python",
   "pygments_lexer": "ipython3",
   "version": "3.9.4"
  }
 },
 "nbformat": 4,
 "nbformat_minor": 5
}
