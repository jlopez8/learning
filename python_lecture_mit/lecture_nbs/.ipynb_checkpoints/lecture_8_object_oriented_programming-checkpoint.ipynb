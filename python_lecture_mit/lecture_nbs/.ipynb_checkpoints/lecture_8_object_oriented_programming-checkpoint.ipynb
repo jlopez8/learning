{
 "cells": [
  {
   "cell_type": "markdown",
   "id": "f9c62ce5",
   "metadata": {},
   "source": [
    "# Lecture 8: Object Oriented Programming"
   ]
  },
  {
   "cell_type": "markdown",
   "id": "1d30abb8",
   "metadata": {},
   "source": [
    "- there are many different kinds of objects\n",
    "- Ex: 1234   3.14159    \"Hello\"    [1, 5, 13] \n",
    "- each is an **object**\n",
    "    - object has a **type** some way that it is represented in Python.\n",
    "- **everything in python is an object** and has type\n",
    "- can create new objects of some type\n",
    "- can manipulate objects\n",
    "- can destroy objects\n",
    "    - explicitly w del or \"forget\" about them\n",
    "    - python will reclaim destroed or inaccessible objects in a process called garbage collection"
   ]
  },
  {
   "cell_type": "markdown",
   "id": "ccd42d25",
   "metadata": {},
   "source": [
    "### What are objects?\n",
    "\n",
    "- objects = **data abstractions**\n",
    "- you can interface with an object through methods\n",
    "- representations internally don't matter. "
   ]
  },
  {
   "cell_type": "markdown",
   "id": "3a67273f",
   "metadata": {},
   "source": [
    "### Example using lists\n",
    "\n",
    "[1,2,3,4] is object of type 'list'.\n",
    "\n",
    "- lists = linked list of cells\n",
    "    - L = 1-> 2-> 3-> 4->\n",
    "- how to **manipulate** lists\n",
    "    - L[i], L[i:j], \n",
    "    - len(), min(), max(), and many more\n",
    "    - internal representation should be private\n",
    "    - correct behavior compromized if you manip internal representation directly\n",
    "    \n",
    "- representations are private of these objects.\n",
    "- bundle internal representation and ways to ineract w the program\n",
    "- you don't know internally how the implementation is done and you don't need to!"
   ]
  },
  {
   "cell_type": "markdown",
   "id": "a2a859a9",
   "metadata": {},
   "source": [
    "## Create and use own object types with classes\n",
    "\n",
    "- make a distiction between creating a class and using an instance of the class\n",
    "\n",
    "- **creating** the clss involveds\n",
    "    - defining the class name\n",
    "    - defining class attributes\n",
    "    - ex: someone had to write the code to implement the list class\n",
    "    \n",
    "- using a class means\n",
    "    - creating new object instances\n",
    "    - doing operations on instances\n",
    "    - for example: L = [1,2] and len(L)\n",
    "    \n",
    "- when you create a new instance of a class, you are instantiating a new object of type \"name of your class\""
   ]
  },
  {
   "cell_type": "markdown",
   "id": "5fbba386",
   "metadata": {},
   "source": [
    "## Example: The coordinate class\n",
    "\n",
    "- use 'class' keyword to define a new type\n",
    "- similar to 'def' indennted code sets which statements are part of class definition\n",
    "- word 'object' means 'Coordinate' is a Python object and inherits all its attributes\n",
    "    - means 'Coordinate' is a subclass of object\n",
    "    - object is superclass of 'Coordinate'\n",
    "\n",
    "- class \"name/type\" (\"class parent\"): \n"
   ]
  },
  {
   "cell_type": "code",
   "execution_count": 9,
   "id": "3fdf23d9",
   "metadata": {},
   "outputs": [
    {
     "ename": "IndentationError",
     "evalue": "expected an indented block (<ipython-input-9-50fd3f185223>, line 2)",
     "output_type": "error",
     "traceback": [
      "\u001b[0;36m  File \u001b[0;32m\"<ipython-input-9-50fd3f185223>\"\u001b[0;36m, line \u001b[0;32m2\u001b[0m\n\u001b[0;31m    #define some attributes\u001b[0m\n\u001b[0m                           ^\u001b[0m\n\u001b[0;31mIndentationError\u001b[0m\u001b[0;31m:\u001b[0m expected an indented block\n"
     ]
    }
   ],
   "source": [
    " \n",
    "class Coordinate(object):\n",
    " #define some attributes"
   ]
  },
  {
   "cell_type": "markdown",
   "id": "92a66a0e",
   "metadata": {},
   "source": [
    "## What are attributes?\n",
    "\n",
    "- data and procedures belong to the class\n",
    "- data attributes:\n",
    "    - think of data as other objects that make up the class\n",
    "    - for example: coordinate is made up of two numbers\n",
    "- methods(procedural attributes):\n",
    "    - think of methods as functions that only work inside the class\n",
    "    - how to interact w the object\n",
    "    "
   ]
  },
  {
   "cell_type": "markdown",
   "id": "d0e7d42e",
   "metadata": {},
   "source": [
    "## Defining how to create an instance of a class\n",
    "\n",
    "- first have to create instance of object\n",
    "- use special method called '\\__ init \\__' to initialize some data structures. this is v sim to a constructor  \n",
    "\n",
    "- for methods that belong to the class, you always pass in 'self' as the first param. you don't have to use this name, but that's by convention. "
   ]
  },
  {
   "cell_type": "code",
   "execution_count": 4,
   "id": "4e486886",
   "metadata": {},
   "outputs": [],
   "source": [
    "class Coordinate(object):  \n",
    "    def __init__ (self, x, y):\n",
    "        self.x = x  \n",
    "        self.y = y"
   ]
  },
  {
   "cell_type": "markdown",
   "id": "a9a1399a",
   "metadata": {},
   "source": [
    "## Creating instance of this class..\n",
    "\n",
    "- when creating object here, we only give 2 params, eve if init method has 3 params\n",
    "- implicitly, self is the object c, and python knows that.\n",
    "- data attributes of an instance are called instance variables\n",
    "- don't provide argument for 'self'"
   ]
  },
  {
   "cell_type": "code",
   "execution_count": 12,
   "id": "82113455",
   "metadata": {},
   "outputs": [
    {
     "name": "stdout",
     "output_type": "stream",
     "text": [
      "3\n",
      "0\n"
     ]
    }
   ],
   "source": [
    "c = Coordinate(3,4)\n",
    "origin = Coordinate(0,0)\n",
    "print(c.x)\n",
    "print(origin.x)"
   ]
  },
  {
   "cell_type": "markdown",
   "id": "4040a5b7",
   "metadata": {},
   "source": [
    "## Let's define a method for the coordinate class\n",
    "\n",
    "- thinking about classes, always think about whose data attribute you have to access: self.x, other.x, etc etc."
   ]
  },
  {
   "cell_type": "code",
   "execution_count": 28,
   "id": "fb0be0e0",
   "metadata": {},
   "outputs": [],
   "source": [
    "class Coordinate(object):  \n",
    "    def __init__ (self, x, y):\n",
    "        self.x = x  \n",
    "        self.y = y\n",
    "        \n",
    "    def distance(self, other):\n",
    "        x_diff_sq = (self.x - other.x)**2\n",
    "        y_diff_sq = (self.y - other.y)**2\n",
    "        sum_sq_rt = (x_diff_sq + y_diff_sq)**0.5\n",
    "        return sum_sq_rt"
   ]
  },
  {
   "cell_type": "code",
   "execution_count": 29,
   "id": "06e30dfe",
   "metadata": {},
   "outputs": [
    {
     "name": "stdout",
     "output_type": "stream",
     "text": [
      "5.0\n",
      "5.0\n"
     ]
    }
   ],
   "source": [
    "c = Coordinate(3,4)\n",
    "zero = Coordinate(0,0)\n",
    "# call method from instance of class\n",
    "print(c.distance(zero))\n",
    "# OR\n",
    "# call method from class itself\n",
    "print(Coordinate.distance(c,zero))\n"
   ]
  },
  {
   "cell_type": "markdown",
   "id": "bb6316d4",
   "metadata": {},
   "source": [
    "## Printing an object\n",
    "\n",
    "if you print an object, the result is not informative.  \n",
    "it's better to define '\\__ str \\__' method for a class.  \n",
    "python will know to use this method when you do call print."
   ]
  },
  {
   "cell_type": "code",
   "execution_count": 30,
   "id": "eea80bc3",
   "metadata": {},
   "outputs": [
    {
     "name": "stdout",
     "output_type": "stream",
     "text": [
      "<__main__.Coordinate object at 0x10f14dd00>\n"
     ]
    }
   ],
   "source": [
    "c = Coordinate(3,4)\n",
    "print(c)"
   ]
  },
  {
   "cell_type": "code",
   "execution_count": 31,
   "id": "54d6952d",
   "metadata": {},
   "outputs": [],
   "source": [
    "class Coordinate(object):  \n",
    "    def __init__ (self, x, y):\n",
    "        self.x = x  \n",
    "        self.y = y\n",
    "        \n",
    "    def __str__(self):\n",
    "        # this method must return a string\n",
    "        return \"<\"+str(self.x)+\", \"+str(self.y)+\">\"\n",
    "        \n",
    "    def distance(self, other):\n",
    "        x_diff_sq = (self.x - other.x)**2\n",
    "        y_diff_sq = (self.y - other.y)**2\n",
    "        sum_sq_rt = (x_diff_sq + y_diff_sq)**0.5\n",
    "        return sum_sq_rt"
   ]
  },
  {
   "cell_type": "code",
   "execution_count": 32,
   "id": "e6f4dfa2",
   "metadata": {},
   "outputs": [
    {
     "name": "stdout",
     "output_type": "stream",
     "text": [
      "<__main__.Coordinate object at 0x10f14dd00>\n"
     ]
    }
   ],
   "source": [
    "print(c)"
   ]
  },
  {
   "cell_type": "code",
   "execution_count": 33,
   "id": "b83ba833",
   "metadata": {},
   "outputs": [
    {
     "name": "stdout",
     "output_type": "stream",
     "text": [
      "<3, 1>\n"
     ]
    }
   ],
   "source": [
    "c = Coordinate(3,1)\n",
    "print(c)"
   ]
  },
  {
   "cell_type": "code",
   "execution_count": null,
   "id": "e0e169ef",
   "metadata": {},
   "outputs": [],
   "source": []
  }
 ],
 "metadata": {
  "kernelspec": {
   "display_name": "Python 3",
   "language": "python",
   "name": "python3"
  },
  "language_info": {
   "codemirror_mode": {
    "name": "ipython",
    "version": 3
   },
   "file_extension": ".py",
   "mimetype": "text/x-python",
   "name": "python",
   "nbconvert_exporter": "python",
   "pygments_lexer": "ipython3",
   "version": "3.9.4"
  }
 },
 "nbformat": 4,
 "nbformat_minor": 5
}
