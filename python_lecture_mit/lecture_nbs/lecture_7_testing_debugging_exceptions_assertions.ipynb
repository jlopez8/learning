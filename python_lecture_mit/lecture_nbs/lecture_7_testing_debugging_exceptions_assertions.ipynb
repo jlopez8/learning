{
 "cells": [
  {
   "cell_type": "markdown",
   "id": "f9c62ce5",
   "metadata": {},
   "source": [
    "# Lecture 7: Testing, Debugging, Exceptions, and Assertions "
   ]
  },
  {
   "cell_type": "markdown",
   "id": "1d30abb8",
   "metadata": {},
   "source": [
    "https://www.youtube.com/watch?v=9H6muyZjms0"
   ]
  },
  {
   "cell_type": "markdown",
   "id": "7c0f5ffe",
   "metadata": {},
   "source": [
    "**defensive programming** \n",
    "- write specs for functions\n",
    "- modularize programs\n",
    "- check condits on inputs/outputs (assertions)\n",
    "\n",
    "\n",
    "**testing** coming up with inputs and expected answers and \n",
    "- compare input/output pairs specificiations\n",
    "- how can you break your program?\n",
    "\n",
    "\n",
    "**debugging** \n",
    "- study events leading up to error\n",
    "- why is it not working?\n",
    "- how can I fix it?"
   ]
  },
  {
   "cell_type": "markdown",
   "id": "ce41c000",
   "metadata": {},
   "source": [
    "## Classes of Tests\n",
    "\n",
    "**Unit Testing**\n",
    "- validate each piece of program\n",
    "- testing each func seperately\n",
    "\n",
    "**Regression Testing**\n",
    "- add test for bugs as you find them\n",
    "- catch reintroduced errors previously fixed\n",
    "\n",
    "**Integration Testing**\n",
    "- does overall program work?\n",
    "- tend to rush to do this\n",
    "\n",
    "**unit testing** and **regression testing** tend to work back and fort until finally ready to do integration testing."
   ]
  },
  {
   "cell_type": "markdown",
   "id": "95d4225e",
   "metadata": {},
   "source": [
    "## Testing approaches\n",
    "\n",
    "- intuition about natural boundaries behind problem\n",
    "\n",
    "- if no natural partitions, might do **random testing**\n",
    "\n",
    "- **black box testing:** \n",
    "    - explore paths through specification\n",
    "    - all you're looking at is the doc string and coming up with test cases\n",
    "\n",
    "- **glass box testing:** explore paths through code \n",
    "    - have code itself, come up with test cases, hit upon all possible paths through code"
   ]
  },
  {
   "cell_type": "markdown",
   "id": "12ae76df",
   "metadata": {},
   "source": [
    "### Black box testing\n",
    "\n",
    "def sqrt(x, eps):\n",
    "    \"\"\" Assumes x, eps floats, x >= 0, eps > 0\n",
    "    Returns res such that x-eps <= res*res <= x + eps \"\"\"\n",
    "    \n",
    "- doesn't actually look at code\n",
    "- done by someone otar than implementer to avoid some implementer bias\n",
    "- testing can be RESUSED if implementation changes\n",
    "- Paths through specification\n",
    "    - build test cases in different natural space partitions\n",
    "    - compare boundary conditions. "
   ]
  },
  {
   "cell_type": "markdown",
   "id": "5f86469f",
   "metadata": {},
   "source": [
    "### Glass box testing\n",
    "\n",
    "- use code to directly guide design test cases\n",
    "- called ***path-complete*** if every potential path through code is tested at least once\n",
    "- drawbacks: \n",
    "    - can go through loops arbitrarily many times\n",
    "    - missing paths\n",
    "    \n",
    "- guides:\n",
    "    - branches: exercise all parts of conditional\n",
    "    - for loops: lop not returned\n",
    "    - while loops\n",
    "    - make sure to go through boundary conditions\n",
    "    - can use bisection method to fix/find bigs in your code"
   ]
  },
  {
   "cell_type": "markdown",
   "id": "5af326dd",
   "metadata": {},
   "source": [
    "## Debugging Steps\n",
    "\n",
    "- **study program code**\n",
    "    - don't ask what is wrong\n",
    "    - ask how did i get the unexpect result\n",
    "    - is it part of a family?\n",
    "    \n",
    "- **scientific method**\n",
    "    - study available data\n",
    "    - form hypotehsis\n",
    "    - repeatable experiments\n",
    "    - pick simplest input to test with"
   ]
  },
  {
   "cell_type": "markdown",
   "id": "c82b67aa",
   "metadata": {},
   "source": [
    "## Do's and Don'ts of Debug and testing\n",
    "\n",
    "**Don't**\n",
    "- write entire program\n",
    "- test entire program\n",
    "- debug entire program\n",
    "\n",
    "- just change your code\n",
    "- remember where the bug was\n",
    "- test code\n",
    "- forget where bug was,                                               \n",
    "\n",
    "**Do**\n",
    "- unit testing\n",
    "- write a function\n",
    "- test func, debug the func\n",
    "- repeat:\n",
    "- write a func\n",
    "- test func, debug func\n",
    "- then do integration testing\n",
    "- back up your code.\n",
    "- change code\n",
    "- write down potential bug in commenct\n",
    "- test code\n",
    "- comepare new and old code versions\n"
   ]
  },
  {
   "cell_type": "markdown",
   "id": "8cc2921c",
   "metadata": {},
   "source": [
    "## dealing with exceptions\n",
    "\n",
    "in python can have handler for exceptions\n",
    "\n",
    "- use a **try** block. \n",
    "- couple with **except** statement. this handles the error.\n",
    "- see example below"
   ]
  },
  {
   "cell_type": "code",
   "execution_count": 4,
   "id": "82be59d9",
   "metadata": {},
   "outputs": [
    {
     "name": "stdout",
     "output_type": "stream",
     "text": [
      "tell me one number: a\n",
      "bug in user input.\n"
     ]
    }
   ],
   "source": [
    "try: \n",
    "    a = int(input(\"tell me one number: \"))\n",
    "    b = int(input(\"tell me another number: \"))\n",
    "\n",
    "    print(\"a/b = \", a/b)\n",
    "    print(\"a+b = \", a+b)\n",
    "\n",
    "except:\n",
    "    print(\"bug in user input.\")"
   ]
  },
  {
   "cell_type": "markdown",
   "id": "8a10fc4d",
   "metadata": {},
   "source": [
    "## Handling specific exceptions\n",
    "\n",
    "- have sepearate **except** clauses for particular exceptions"
   ]
  },
  {
   "cell_type": "code",
   "execution_count": 5,
   "id": "80156f90",
   "metadata": {},
   "outputs": [
    {
     "name": "stdout",
     "output_type": "stream",
     "text": [
      "tell me one number: 3\n",
      "tell me another number: 0\n",
      "Can't divide by zero.\n"
     ]
    }
   ],
   "source": [
    "try: \n",
    "    a = int(input(\"tell me one number: \"))\n",
    "    b = int(input(\"tell me another number: \"))\n",
    "\n",
    "    print(\"a/b = \", a/b)\n",
    "    print(\"a+b = \", a+b)\n",
    "\n",
    "except ValueError:\n",
    "    print(\"Could not convert to a number.\")\n",
    "except ZeroDivisionError:\n",
    "    print(\"Can't divide by zero.\")\n",
    "except:\n",
    "    print(\"Something went wrong. \")"
   ]
  },
  {
   "cell_type": "markdown",
   "id": "a7538738",
   "metadata": {},
   "source": [
    "## Other exception\n",
    "\n",
    "- else: \n",
    "    - body of this is executed when execution of associated try body completes with **no exceptions**\n",
    "    \n",
    "- finally:\n",
    "    - body is always executed after try, else and except clauses, even if this too will raise an error, continue and return\n",
    "    \n",
    "    - useful for clean-up code that should be run no matter what else happend ie such as cloning a file.\n",
    "  "
   ]
  },
  {
   "cell_type": "markdown",
   "id": "7be0d0d7",
   "metadata": {},
   "source": [
    "## What to do with exceptions?\n",
    "\n",
    "- **fail silently**\n",
    "    - sub default values or just continue\n",
    "    - bad idea! user gets no warning\n",
    "- return an error value\n",
    "    - what value to choose\n",
    "    - complicates code having to check for a special value\n",
    "- Stop execution, signal error condition\n",
    "    - in python: raise an exception\n",
    "    - raise Exception(\"descriptive string\")"
   ]
  },
  {
   "cell_type": "markdown",
   "id": "00e9323e",
   "metadata": {},
   "source": [
    "## Ex: raising an exception"
   ]
  },
  {
   "cell_type": "code",
   "execution_count": 1,
   "id": "28de6a69",
   "metadata": {},
   "outputs": [],
   "source": [
    "def get_ratios(L1, L2):\n",
    "    \"\"\" Assumes: L1 , L2 are lists of equal length of numbers.\n",
    "        Returns: a list containing L1[i]/L[2]\"\"\"\n",
    "    ratios = []\n",
    "    for index in range(len(L1)):\n",
    "        try:\n",
    "            reatios.append(L1[index]/L2[index])\n",
    "        except ZeroDivisionError:\n",
    "            ratios.append(float('nan')) # nan appended as float\n",
    "        except: \n",
    "            raise ValueError('get_ratios called w bad arg.')\n",
    "    \n",
    "    return ratios"
   ]
  },
  {
   "cell_type": "markdown",
   "id": "63583273",
   "metadata": {},
   "source": [
    "Given a class list for each subject, create a new class list with name, grades and average.\n",
    "\n"
   ]
  },
  {
   "cell_type": "code",
   "execution_count": 2,
   "id": "2350d52b",
   "metadata": {},
   "outputs": [],
   "source": [
    "test_grades = [[['peter', 'parker'],[80.0, 70.0, 85,0]],[['bruce', 'wayne'],[100.0, 80.0, 74.0]]]"
   ]
  },
  {
   "cell_type": "code",
   "execution_count": 5,
   "id": "3ef8e84c",
   "metadata": {},
   "outputs": [],
   "source": [
    "def get_stats(class_list):\n",
    "    new_stats = []\n",
    "    for elt in class_list:\n",
    "        new_stats.append([elt[0], elt[1], avg(elt[1])])\n",
    "        # remember elt[1] is the nested list of homeworks grades\n",
    "    return new_stats\n",
    "\n",
    "def avg(grades):\n",
    "    return sum(grades)/len(grades)"
   ]
  },
  {
   "cell_type": "markdown",
   "id": "d97b0151",
   "metadata": {},
   "source": [
    "## Potential errors in this work flow\n",
    "\n",
    "- if one or more students don't have grades you get an error\n",
    "\n",
    "test_grades = [...,[['deadpool'],[]]]\n",
    "\n",
    "- get **ZeroDivisionError:** float division by zero because len(grades) = 0 and we are trying to divide by this\n",
    "\n",
    "**how to fix?**"
   ]
  },
  {
   "cell_type": "markdown",
   "id": "d3d93baa",
   "metadata": {},
   "source": [
    "### Option 1: flag error with print message\n",
    "\n",
    "- desice to notify something went wrong "
   ]
  },
  {
   "cell_type": "code",
   "execution_count": 6,
   "id": "f76e3a29",
   "metadata": {},
   "outputs": [],
   "source": [
    "def avg(grades):\n",
    "    try:\n",
    "        return sum(grades)/len(grades)\n",
    "    except ZeroDivisionError:\n",
    "        print('warning: no grades data')"
   ]
  },
  {
   "cell_type": "code",
   "execution_count": 7,
   "id": "54a1deaa",
   "metadata": {},
   "outputs": [
    {
     "data": {
      "text/plain": [
       "[[['peter', 'parker'], [80.0, 70.0, 85, 0], 58.75],\n",
       " [['bruce', 'wayne'], [100.0, 80.0, 74.0], 84.66666666666667]]"
      ]
     },
     "execution_count": 7,
     "metadata": {},
     "output_type": "execute_result"
    }
   ],
   "source": [
    "get_stats(test_grades)"
   ]
  },
  {
   "cell_type": "code",
   "execution_count": 8,
   "id": "4b3a1b72",
   "metadata": {},
   "outputs": [],
   "source": [
    "test_grades_2 = [[['peter', 'parker'],[80.0, 70.0, 85,0]],[['bruce', 'wayne'],[]]]"
   ]
  },
  {
   "cell_type": "code",
   "execution_count": 9,
   "id": "da03f032",
   "metadata": {},
   "outputs": [
    {
     "name": "stdout",
     "output_type": "stream",
     "text": [
      "warning: no grades data\n"
     ]
    },
    {
     "data": {
      "text/plain": [
       "[[['peter', 'parker'], [80.0, 70.0, 85, 0], 58.75],\n",
       " [['bruce', 'wayne'], [], None]]"
      ]
     },
     "execution_count": 9,
     "metadata": {},
     "output_type": "execute_result"
    }
   ],
   "source": [
    "get_stats(test_grades_2) # trips exception. finds AVG as None."
   ]
  },
  {
   "cell_type": "markdown",
   "id": "02cd2991",
   "metadata": {},
   "source": [
    "### Option 2: change the policy\n",
    "- decide that a student w no grade gets a zero"
   ]
  },
  {
   "cell_type": "code",
   "execution_count": 10,
   "id": "ea4109bb",
   "metadata": {},
   "outputs": [],
   "source": [
    "def avg(grades):\n",
    "    try:\n",
    "        return sum(grades)/len(grades)\n",
    "    except ZeroDivisionError:\n",
    "        print('warning: no grades data')\n",
    "        return 0.0"
   ]
  },
  {
   "cell_type": "code",
   "execution_count": 11,
   "id": "6f0e9da0",
   "metadata": {},
   "outputs": [],
   "source": [
    "test_grades_2 = [[['peter', 'parker'],[80.0, 70.0, 85,0]],[['bruce', 'wayne'],[]]]"
   ]
  },
  {
   "cell_type": "code",
   "execution_count": 13,
   "id": "0a744a47",
   "metadata": {},
   "outputs": [
    {
     "name": "stdout",
     "output_type": "stream",
     "text": [
      "warning: no grades data\n"
     ]
    },
    {
     "data": {
      "text/plain": [
       "[[['peter', 'parker'], [80.0, 70.0, 85, 0], 58.75],\n",
       " [['bruce', 'wayne'], [], 0.0]]"
      ]
     },
     "execution_count": 13,
     "metadata": {},
     "output_type": "execute_result"
    }
   ],
   "source": [
    "get_stats(test_grades_2) # trips exception. finds average is 0, reflecting new policy."
   ]
  },
  {
   "cell_type": "markdown",
   "id": "2eada773",
   "metadata": {},
   "source": [
    "## Assertions\n",
    "\n",
    "assert, condition, residual\n",
    "\n",
    "- as soon as assert is false, function terminates\n",
    "- prevents program from propagating bad values"
   ]
  },
  {
   "cell_type": "markdown",
   "id": "98ab6a55",
   "metadata": {},
   "source": [
    "### Example of using assert to validate function inputs\n"
   ]
  },
  {
   "cell_type": "code",
   "execution_count": 14,
   "id": "fc5fa18b",
   "metadata": {},
   "outputs": [],
   "source": [
    "def avg(grades):\n",
    "    # this second part is what happens when we do have a 0 length\n",
    "    # if \n",
    "    assert not len(grades) == 0, 'no grades data'\n",
    "    "
   ]
  },
  {
   "cell_type": "markdown",
   "id": "2a371944",
   "metadata": {},
   "source": [
    "## Where to use assertions\n",
    "\n",
    "- goal is spot bugs as sono as introduced make clear where happened\n",
    "- use as a  **supplement** to testing\n",
    "- raise **exceptions** if users supplies bad data input\n",
    "- use **assertions** to \n",
    "    - check types of arguements or values\n",
    "    - check invariants on data structures are met\n",
    "    - check constraints on return values\n",
    "    - check violations of constraings on procedue (no duplicates in a list)"
   ]
  },
  {
   "cell_type": "code",
   "execution_count": null,
   "id": "ec964c2a",
   "metadata": {},
   "outputs": [],
   "source": []
  }
 ],
 "metadata": {
  "kernelspec": {
   "display_name": "Python 3",
   "language": "python",
   "name": "python3"
  },
  "language_info": {
   "codemirror_mode": {
    "name": "ipython",
    "version": 3
   },
   "file_extension": ".py",
   "mimetype": "text/x-python",
   "name": "python",
   "nbconvert_exporter": "python",
   "pygments_lexer": "ipython3",
   "version": "3.9.4"
  }
 },
 "nbformat": 4,
 "nbformat_minor": 5
}
