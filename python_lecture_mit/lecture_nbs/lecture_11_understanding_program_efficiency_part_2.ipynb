{
 "cells": [
  {
   "cell_type": "markdown",
   "id": "792a65c9",
   "metadata": {},
   "source": [
    "# Understanding Program Efficiency Part 2"
   ]
  },
  {
   "cell_type": "markdown",
   "id": "246713ae",
   "metadata": {},
   "source": [
    "Talk about various types of growth\n",
    "1. O(1) - constant run time\n",
    "2. O(log n) - log run time\n",
    "3. O(n) - linear run time\n",
    "4. O(n log n) - log linear run time\n",
    "5. O(n^c) - polynomial run time\n",
    "6. O(c^n) - exponential run time"
   ]
  },
  {
   "cell_type": "markdown",
   "id": "d101e389",
   "metadata": {},
   "source": [
    "We have examples filling in the chart that he shows."
   ]
  },
  {
   "cell_type": "markdown",
   "id": "b7826b27",
   "metadata": {},
   "source": [
    "## Constant Complexity"
   ]
  },
  {
   "cell_type": "markdown",
   "id": "2cdd47d1",
   "metadata": {},
   "source": [
    "- independent of inputs\n",
    "- few interesting algorithms in this class, but can often have pices that fit this class\n",
    "- can have loops or recursive calls, but only if number of itereations or calls independent of size of input."
   ]
  },
  {
   "cell_type": "markdown",
   "id": "d6575b3b",
   "metadata": {},
   "source": [
    "## Revisit Bisection Search"
   ]
  },
  {
   "cell_type": "markdown",
   "id": "38f398d3",
   "metadata": {},
   "source": [
    "0. Given sortd list\n",
    "1. pick index\n",
    "2. if element is here, done\n",
    "3. else, ask if element to find is larger or smaller than current?\n",
    "    1. choose which half to look through\n",
    "    2. The problem is now reduced \n",
    "4. continue to repeat, throwing away the half you don't care about.\n",
    "5. worst case, is you have to look through the list until you end up making a comparision with just one element. At this point, however, you will not have had to compare every element possible to find this out.\n",
    "6. The complexity is 'log'."
   ]
  },
  {
   "cell_type": "markdown",
   "id": "d2bacae3",
   "metadata": {},
   "source": [
    "They then go to implement and review code, but we do not need to do that necessarily. They notice that even in an innocent-looking operation, it can be more complex because of hidden costs **copying** a list is actually of higher complexity which increased the cost of our original process."
   ]
  },
  {
   "cell_type": "markdown",
   "id": "e3964234",
   "metadata": {},
   "source": [
    "### Complexity of First Bisection Search Method"
   ]
  },
  {
   "cell_type": "markdown",
   "id": "689191f6",
   "metadata": {},
   "source": [
    "**implementation 1 - bisect_search1**"
   ]
  },
  {
   "cell_type": "markdown",
   "id": "66e9987b",
   "metadata": {},
   "source": [
    "O(log n) bisection search calls  \n",
    "- on each recursive call, size of range is cut in half\n",
    "- if original range is size n, worst case down to range of size 1, where n/(2^k) = 1: or when k = log n  \n",
    "\n",
    "O(n) for each bisection search call to copy list\n",
    "- this is the cost set up each call, so this this for each level of recursion\n",
    "\n",
    "O(log n) * O(n) -> O(n log n)\n",
    "- if we are really careful, note that length of list to be copied is also halved on each recursive call\n",
    "    - turns out total cost to copy is O(n) and this dominates the log n cost due to recursive calls\n",
    "    - One thing to note is as you advance the list, you don't actually need the entire list. This is done in implementation 2\n",
    "    \n",
    "In the following case, we present how the implementation can affect the speed and performance of the algo."
   ]
  },
  {
   "cell_type": "markdown",
   "id": "334354cb",
   "metadata": {},
   "source": [
    "**implementation 2 - bisect_search2**"
   ]
  },
  {
   "cell_type": "code",
   "execution_count": 4,
   "id": "3c1dd8af",
   "metadata": {},
   "outputs": [],
   "source": [
    "def bisect_search2(L,e):\n",
    "    def bisect_search_helper(L, e, low, high):\n",
    "        # if you are down to one element, return true if\n",
    "        # this value equals value you're trying to find.\n",
    "        if high == low:\n",
    "            return L[low] == e\n",
    "        \n",
    "        # set the midpoint\n",
    "        mid = (low + high)//2\n",
    "        \n",
    "        # if the mid value is exactly e, we're done\n",
    "        # otherwise see which half of the interval from\n",
    "        # low to hi may have this value\n",
    "        \n",
    "        if L[mid] == e:\n",
    "            return True\n",
    "        \n",
    "        elif L[mid] > e:\n",
    "            if low == mid: \n",
    "                # we've run out of search space\n",
    "                return False\n",
    "            # rerun the helper with the new parameters\n",
    "            # on the lower half.\n",
    "            # this is now a recursive call\n",
    "            else:\n",
    "                return bisect_search_helper(L, e, low, mid - 1)\n",
    "        else:\n",
    "            # otherwise do the recursive call on the lower half \n",
    "            return bisect_search_helper(L, e, mid + 1, high)\n",
    "    \n",
    "    # This is the start of the actual call. If the length is 0\n",
    "    # no items in list, so can't find anything return False.\n",
    "    # otherwise, run the iterative bisect_search_helper algo\n",
    "    # with a lower limit of 0 to start.\n",
    "    if len(L) == 0:\n",
    "        return False\n",
    "    else:\n",
    "        return bisect_search_helper(L, e, 0,len(L)-1)"
   ]
  },
  {
   "cell_type": "markdown",
   "id": "3e1fbdb1",
   "metadata": {},
   "source": [
    "## Logarithmic Complexity Example"
   ]
  },
  {
   "cell_type": "markdown",
   "id": "eac50c5e",
   "metadata": {},
   "source": [
    "Things that reduce problem size by 1 at each step are linear.  \n",
    "\n",
    "Things that reduce problem size by half (or any other portions, 1/3, 1/4...) at each step are logarithmic.  \n",
    "\n",
    "In this example, in the loop, there are a constant number of steps (do no increase with larger input).   \n",
    "\n",
    "The loop itself iterates how many times?\n",
    "That depends on how many times we can divide an integer by 10. \n",
    "\n",
    "$i/10^k = x \\rightarrow log_{10}(i/x) = k$\n",
    "\n",
    "so this is a $log(i)$ operation. Intuitively, if we increase a number from i to i+1, we still will only need to divide i+1 by 10 to the same power (a probability which increases as i grows).  \n",
    "\n",
    "For example:\n",
    "\n",
    "$11 \\rightarrow 12$ still only needs 2 divisions by 10.  \n",
    "\n",
    "$7000 \\rightarrow 7001$ still only needs 4 divisions by 10.  \n",
    "\n",
    "As i increases, the range of which that power to divide by 10 persists even longer.  \n",
    "\n",
    "For example:\n",
    "\n",
    "$0 - 9$ needs $k=1$ division by 10, and it applies to 10 numbers.  \n",
    "$10 - 99$ needs $k=2$ divisions by 10, and it applies to 90 numbers.  \n",
    "$100 - 1000$ needs $k=3$ divisiosn by 10, and it applies to 901 numbers.\n"
   ]
  },
  {
   "cell_type": "code",
   "execution_count": 8,
   "id": "7ea8c384",
   "metadata": {},
   "outputs": [],
   "source": [
    "def intToStr(i):\n",
    "    digits = '0123456789'\n",
    "    if i == 0:\n",
    "        return '0'\n",
    "    result = ''\n",
    "    while i > 0:\n",
    "        # filter through each \"digit\" in a number\n",
    "        # by powers of 10.\n",
    "        result = digits[i%10] + result\n",
    "        i = i//10\n",
    "    return result"
   ]
  },
  {
   "cell_type": "markdown",
   "id": "82286a0b",
   "metadata": {},
   "source": [
    "### Iterative factorial O()"
   ]
  },
  {
   "cell_type": "markdown",
   "id": "0060fc96",
   "metadata": {},
   "source": [
    "complexity can depend on number of iterative calls.  \n",
    "\n",
    "This is an O(n) algo."
   ]
  },
  {
   "cell_type": "code",
   "execution_count": 9,
   "id": "d611da57",
   "metadata": {},
   "outputs": [],
   "source": [
    "def fact_iter(n):\n",
    "    prod = 1\n",
    "    for i in range(1, n+1):\n",
    "        prod *= i\n",
    "    return prod"
   ]
  },
  {
   "cell_type": "markdown",
   "id": "57693dbb",
   "metadata": {},
   "source": [
    "What if we try recursive?  \n",
    "\n",
    "May run a bit slower considering the startup of the frame for the recursive call.  \n",
    "\n",
    "The loop is called once per n so this is linear.  \n",
    "\n",
    "This is example where both implementations produce same order."
   ]
  },
  {
   "cell_type": "code",
   "execution_count": 11,
   "id": "907eb73a",
   "metadata": {},
   "outputs": [],
   "source": [
    "def fact_recur(n):\n",
    "    \"\"\"Assume n >= 0.\n",
    "    :param n: Integer for factorial.\n",
    "    :type n: int.\n",
    "    \"\"\"\n",
    "    \n",
    "    if n<= 1:\n",
    "        return 1\n",
    "    else: \n",
    "        return n*fact_recur(n-1)"
   ]
  },
  {
   "cell_type": "markdown",
   "id": "c85344ea",
   "metadata": {},
   "source": [
    "## Log-linear Complexity"
   ]
  },
  {
   "cell_type": "markdown",
   "id": "58b098cf",
   "metadata": {},
   "source": [
    "- many practical algos ar log-linear\n",
    "- commonly used log-linear algo is merge sort\n",
    "- this will come back to in the next lecture."
   ]
  },
  {
   "cell_type": "markdown",
   "id": "9cc566a9",
   "metadata": {},
   "source": [
    "## Polynomial Complexity"
   ]
  },
  {
   "cell_type": "markdown",
   "id": "6325dab9",
   "metadata": {},
   "source": [
    "- most common poly algos are quadratic\n",
    "- commonly occurs with **nested loops**"
   ]
  },
  {
   "cell_type": "markdown",
   "id": "51b3fde7",
   "metadata": {},
   "source": [
    "## Exponential"
   ]
  },
  {
   "cell_type": "markdown",
   "id": "9567a9d7",
   "metadata": {},
   "source": [
    "- try to stay away, but sometimes can't\n",
    "- happens when we have recursive functions have **more than one recursive call**\n",
    "    - **towers of hanoi**"
   ]
  },
  {
   "cell_type": "markdown",
   "id": "31ee5d05",
   "metadata": {},
   "source": [
    "#### Complexity of Towers of Hanoi (Expo Example)"
   ]
  },
  {
   "cell_type": "markdown",
   "id": "6e0624c7",
   "metadata": {},
   "source": [
    "- let t_n = time to solve tower of size n\n",
    "- t_n = 2*t_n-1 + 1\n",
    "    - move a stack of size 1 less on the spare peg\n",
    "    - then 1 to move the bottom thing over\n",
    "    - then whatever it takes to move a stack of size n-1 over to that peg\n",
    "    \n",
    "- now....unravel\n",
    "- t_n = 2*t_n-1 + 1\n",
    "    - = 2*(2*t_n-2+1) + 1 = 4*t_n-2 + 2 + 1\n",
    "    - = 4*(2*t_n-3+1) + 2 + 1 = 8*t_n-2 + 4 + 2 + 1  \n",
    "    \n",
    "each time i reduce, i add another power of 2, and multiply by a power of 2  \n",
    "\n",
    "- t_n = 2^k*t_n-k + 2^(k-1) + ... + 4 + 2 + 1..\n",
    "- t_n = 2^(n-1) + 2^(n-2) + ... + 4 + 2 + 1\n",
    "this is an infinite geometric series\n",
    "- t_n = 2^n - 1\n",
    "\n",
    "so order of growth is **exponential**  "
   ]
  },
  {
   "cell_type": "markdown",
   "id": "26660ff6",
   "metadata": {},
   "source": [
    "## The Power Set"
   ]
  },
  {
   "cell_type": "markdown",
   "id": "a429143e",
   "metadata": {},
   "source": [
    "I'd like to generate collection of all possible subsets - called the power set, given a set of integers.\n",
    "\n",
    "You could write a big iterative loop. A bunch of nested loops. But there is a **nice recursive solution**.  \n",
    "\n",
    "Assum we can generate power set of integers from 1 to n-1.  \n",
    "\n",
    "Then all of these subsets belong to bigger power set (without n). and all of those subsets with n added to each of them belong to the power set."
   ]
  },
  {
   "cell_type": "markdown",
   "id": "791e9cf5",
   "metadata": {},
   "source": [
    "<img src = \"figures/lecture_10_2/power_set.png\" width = 500>"
   ]
  },
  {
   "cell_type": "code",
   "execution_count": null,
   "id": "fdb29cc9",
   "metadata": {},
   "outputs": [],
   "source": [
    "def genSubsets(L):\n",
    "    if len(L) == 0:\n",
    "        return [[]] # return the empty set if given empty set\n",
    "    # recursive: feed all elements up to the penultimate one\n",
    "    # the program is going to do this until it reaches the empty set.\n",
    "    smaller = genSubsets(L[:-1])\n",
    "    \n",
    "    # create list of just the last element\n",
    "    extra = L[-1:]\n",
    "    new = []\n",
    "    \n",
    "    # for each el in smaller/subset\n",
    "    for small in smaller:\n",
    "        # append the final value to it.\n",
    "        new.append(small+extra)\n",
    "    \n",
    "    # take all of these sets and add them into the newest set\n",
    "    return smaller + new"
   ]
  },
  {
   "cell_type": "markdown",
   "id": "127c83a8",
   "metadata": {},
   "source": [
    "Let's break down the code for cost:"
   ]
  },
  {
   "cell_type": "markdown",
   "id": "4cbed0a9",
   "metadata": {},
   "source": [
    "**constant**"
   ]
  },
  {
   "cell_type": "code",
   "execution_count": null,
   "id": "602cd2e8",
   "metadata": {},
   "outputs": [],
   "source": [
    "def genSubsets(L):\n",
    "    if len(L) == 0:\n",
    "        return [[]] "
   ]
  },
  {
   "cell_type": "markdown",
   "id": "7b3bd1b1",
   "metadata": {},
   "source": [
    "**recursive call n times**, each stage reduces size of problem by 1. \n",
    "\n",
    "- time includs time to solve smaller problem plus time needed to make copy of all elements in smaller problem."
   ]
  },
  {
   "cell_type": "code",
   "execution_count": null,
   "id": "5b4d338a",
   "metadata": {},
   "outputs": [],
   "source": [
    "smaller = genSubsets(L[:-1])"
   ]
  },
  {
   "cell_type": "markdown",
   "id": "9865b7a5",
   "metadata": {},
   "source": [
    "What's the cost of this?\n",
    "- append is linear\n",
    "- but we have to think about the time it takes  to solve the smaller problem.\n",
    "- each recursive call increases the size of the set.\n",
    "- for a set of siz k there are 2^k cases. "
   ]
  },
  {
   "cell_type": "code",
   "execution_count": 13,
   "id": "db23d2a0",
   "metadata": {},
   "outputs": [
    {
     "ename": "IndentationError",
     "evalue": "unindent does not match any outer indentation level (<tokenize>, line 6)",
     "output_type": "error",
     "traceback": [
      "\u001b[0;36m  File \u001b[0;32m\"<tokenize>\"\u001b[0;36m, line \u001b[0;32m6\u001b[0m\n\u001b[0;31m    return smaller + new\u001b[0m\n\u001b[0m    ^\u001b[0m\n\u001b[0;31mIndentationError\u001b[0m\u001b[0;31m:\u001b[0m unindent does not match any outer indentation level\n"
     ]
    }
   ],
   "source": [
    "for small in smaller:\n",
    "        # append the final value to it.\n",
    "        new.append(small+extra)\n",
    "    \n",
    "    # take all of these sets and add them into the newest set\n",
    "    return smaller + new"
   ]
  },
  {
   "cell_type": "markdown",
   "id": "7a35934c",
   "metadata": {},
   "source": [
    "**what's the overall complexity?**\n",
    "\n",
    "- t_n for total time to solve probm size n\n",
    "- s_n size of solution for problem size n\n",
    "- t_n = t_n-1 + s_n-1 + c  \n",
    "\n",
    "- t_n = t_n-1 + 2^(n-1) + c\n",
    "- t_n = t_n-2 + 2^(n-2) + c + 2^(n-1) + c\n",
    "- ...\n",
    "- t_n = t_0 + 2^(0) + ... + 2^(n-1) + n*c\n",
    "- t_n = 1 + 2^n + n*c  \n",
    "\n",
    "Which is order $O(2^n)$ exponential."
   ]
  },
  {
   "cell_type": "markdown",
   "id": "4933f0ec",
   "metadata": {},
   "source": [
    "### Complexity of Iterative Fibonacci"
   ]
  },
  {
   "cell_type": "markdown",
   "id": "316b4765",
   "metadata": {},
   "source": [
    "Complexity:\n",
    "- constant + constant + linear + constant = O(n) linear"
   ]
  },
  {
   "cell_type": "code",
   "execution_count": 14,
   "id": "999ecde7",
   "metadata": {},
   "outputs": [],
   "source": [
    "def fib_iter(n):\n",
    "    if n == 0:\n",
    "        return 0\n",
    "    elif n == 1:\n",
    "        return 1\n",
    "    else:\n",
    "        fib_i = 0\n",
    "        fib_ii = 1\n",
    "        for i in range(n-1):\n",
    "            tmp = fib_i\n",
    "            fib_i = fib_ii\n",
    "            fib_ii = tmp + fib_ii\n",
    "        return fib_ii"
   ]
  },
  {
   "cell_type": "markdown",
   "id": "9d4ae293",
   "metadata": {},
   "source": [
    "### Complexity of Recursive Fibonacci"
   ]
  },
  {
   "cell_type": "markdown",
   "id": "089f9d02",
   "metadata": {},
   "source": [
    "Complexity:\n",
    "- note: 2 recursive calls inside of this call\n",
    "- O(2^n)\n",
    "- the reality is even if we can reduce by remembering some of the calls, it still grows exponentially. this base is actually **golden ratio**"
   ]
  },
  {
   "cell_type": "code",
   "execution_count": 15,
   "id": "1f0c5f6b",
   "metadata": {},
   "outputs": [],
   "source": [
    "def fib_recur(n):\n",
    "    \"\"\"assumes n an int >= 0\"\"\"\n",
    "    if n == 0:\n",
    "        return 0\n",
    "    elif n == 1:\n",
    "        return 1\n",
    "    else: \n",
    "        return fib_recur(n-1) + fib_recur(n-2)"
   ]
  },
  {
   "cell_type": "markdown",
   "id": "65ae16a3",
   "metadata": {},
   "source": [
    "<img src = \"figures/lecture_10_2/complexity_python_fns.png\" width = 600>"
   ]
  },
  {
   "cell_type": "code",
   "execution_count": null,
   "id": "62d59049",
   "metadata": {},
   "outputs": [],
   "source": []
  }
 ],
 "metadata": {
  "kernelspec": {
   "display_name": "Python 3",
   "language": "python",
   "name": "python3"
  },
  "language_info": {
   "codemirror_mode": {
    "name": "ipython",
    "version": 3
   },
   "file_extension": ".py",
   "mimetype": "text/x-python",
   "name": "python",
   "nbconvert_exporter": "python",
   "pygments_lexer": "ipython3",
   "version": "3.9.4"
  }
 },
 "nbformat": 4,
 "nbformat_minor": 5
}
