{
 "cells": [
  {
   "cell_type": "markdown",
   "metadata": {},
   "source": [
    "# Problem Set 3 \n",
    "\n",
    "\n",
    "In this problem set, you'll implement a version of the 6.0001 word game!"
   ]
  },
  {
   "cell_type": "markdown",
   "metadata": {},
   "source": [
    "## Notes\n",
    "\n",
    "- 80% Complete. Went through problem 4 and stopped at problem 5. \n",
    "- Did not incoporate any of the pre-existing testing schemes, but did build and pass my own unit tests throughout development."
   ]
  },
  {
   "cell_type": "markdown",
   "metadata": {},
   "source": [
    "## Dealing\n",
    "\n",
    "* player is deatlh hand of `HAND_SIZE` letters of alphabet, @random. Possible to receive multiple instances of same letter (draw w replacement).\n",
    "\n",
    "* Player arranges hand into as many words they want, but can only use each letter at most once.\n",
    "\n",
    "* Some letters remain unused, "
   ]
  },
  {
   "cell_type": "markdown",
   "metadata": {},
   "source": [
    "## Scoring\n",
    "\n",
    "* The score for hand is sum of score for each word formed.\n",
    "\n",
    "* Score for word is **product** of:\n",
    "    * the sum of points for letters in the word\n",
    "    * maximum( [7\\*word_length -3\\*(n - word_length)], 1).\n",
    "        * word_lenght = number letters used in word\n",
    "        * n = number of letters avail in current hand\n",
    "        \n",
    "* Letters scored like scrabble: A = 1, B = 3, C = 3, D = 2, E = 1 and so on. there is a pre-defined map `SCRABBLE_LETTER_VALUES` that defines how much each letter is worth.\n",
    "\n",
    "* Example:\n",
    "    * n = 6 and hand includes 1 'w', 2 'e's, 1 'd' (and to other letters), playing the word 'weed' would be worth:\n",
    "        * sum of points for letters in weed: (4 + 1 + 1 + 2) = 8\n",
    "        * word_length = 4\n",
    "        * n = total letters = 6:\n",
    "        * max(7*4 - 3*(6-4), 1) = max(22,1) = 22\n",
    "        * 22*8 = 176."
   ]
  },
  {
   "cell_type": "markdown",
   "metadata": {},
   "source": [
    "# Importing necessary code\n",
    "\n",
    "File ps3.py includes code to implement this solution. We are going to piece-by-piece import it into this notebook.\n",
    "\n",
    "The **test_ps3.py** code is a separate file we can use to test our code along the way. It was provided by the homework makers."
   ]
  },
  {
   "cell_type": "code",
   "execution_count": 1,
   "metadata": {},
   "outputs": [],
   "source": [
    "# 6.0001 Problem Set 3\n",
    "#\n",
    "# The 6.0001 Word Game\n",
    "# Created by: Kevin Luu <luuk> and Jenna Wiens <jwiens>\n",
    "#\n",
    "# Name          : Jaime Lopez-Merizalde\n",
    "# Collaborators : <your collaborators>\n",
    "# Time spent    : <total time>\n",
    "\n",
    "# imports\n",
    "import math\n",
    "import random\n",
    "import string\n",
    "\n",
    "# constants\n",
    "VOWELS = 'aeiou'\n",
    "CONSONANTS = 'bcdfghjklmnpqrstvwxyz'\n",
    "HAND_SIZE = 7\n",
    "\n",
    "SCRABBLE_LETTER_VALUES = {\n",
    "    'a': 1, 'b': 3, 'c': 3, 'd': 2, 'e': 1, 'f': 4, 'g': 2, 'h': 4, 'i': 1, 'j': 8, 'k': 5, 'l': 1, 'm': 3, 'n': 1, 'o': 1, 'p': 3, 'q': 10, 'r': 1, 's': 1, 't': 1, 'u': 1, 'v': 4, 'w': 4, 'x': 8, 'y': 4, 'z': 10\n",
    "}\n",
    "\n",
    "WORDLIST_FILENAME = \"words.txt\""
   ]
  },
  {
   "cell_type": "markdown",
   "metadata": {},
   "source": [
    "## Some Helper Code"
   ]
  },
  {
   "cell_type": "code",
   "execution_count": 63,
   "id": "aaf98796",
   "metadata": {},
   "outputs": [],
   "source": [
    "def load_words():\n",
    "    \"\"\"\n",
    "    Returns a list of valid words. Words are strings of lowercase letters.\n",
    "    \n",
    "    Depending on the size of the word list, this function may\n",
    "    take a while to finish.\n",
    "    \"\"\"\n",
    "    \n",
    "    print(\"Loading word list from file...\")\n",
    "    # inFile: file\n",
    "    inFile = open(WORDLIST_FILENAME, 'r')\n",
    "    # wordlist: list of strings\n",
    "    wordlist = []\n",
    "    for line in inFile:\n",
    "        wordlist.append(line.strip().lower())\n",
    "    print(\"  \", len(wordlist), \"words loaded.\")\n",
    "    return wordlist"
   ]
  },
  {
   "cell_type": "code",
   "execution_count": 64,
   "id": "6aabb2c4",
   "metadata": {},
   "outputs": [
    {
     "name": "stdout",
     "output_type": "stream",
     "text": [
      "Loading word list from file...\n",
      "   83667 words loaded.\n",
      "words returned:  83667\n",
      "words expected:  83667\n",
      "PASSED\n"
     ]
    }
   ],
   "source": [
    "# unit test load_words\n",
    "returned = len(load_words())\n",
    "expected = 83667\n",
    "print(\"words returned: \",returned)\n",
    "print(\"words expected: \", expected)\n",
    "\n",
    "if (returned == expected):\n",
    "    print(\"PASSED\")\n",
    "else: \n",
    "    print(\"FAILED\")"
   ]
  },
  {
   "cell_type": "code",
   "execution_count": 4,
   "metadata": {},
   "outputs": [],
   "source": [
    "def get_frequency_dict(sequence):\n",
    "    \"\"\"\n",
    "    Returns a dictionary where the keys are elements of the sequence\n",
    "    and the values are integer counts, for the number of times that\n",
    "    an element is repeated in the sequence.\n",
    "\n",
    "    sequence: string or list\n",
    "    return: dictionary\n",
    "    \"\"\"\n",
    "    \n",
    "    # freqs: dictionary (element_type -> int)\n",
    "    freq = {}\n",
    "    for x in sequence:\n",
    "        freq[x] = freq.get(x,0) + 1\n",
    "    return freq\n",
    "\t"
   ]
  },
  {
   "cell_type": "code",
   "execution_count": 54,
   "metadata": {},
   "outputs": [
    {
     "name": "stdout",
     "output_type": "stream",
     "text": [
      "returned_dict {'s': 3, 't': 3, 'a': 1, 'i': 2, 'c': 1}\n",
      "expected_dict {'s': 3, 't': 3, 'a': 1, 'i': 2, 'c': 1}\n",
      "PASSED\n",
      "returned_dict {'s': 3, 't': 3, 'a': 1, 'i': 2, 'c': 1}\n",
      "expected_dict {'s': 3, 't': 3, 'a': 1, 'i': 2, 'c': 1}\n",
      "PASSED\n"
     ]
    }
   ],
   "source": [
    "# unit test get_frequency_dict\n",
    "\n",
    "def unit_test(expected_dict, returned_dict):\n",
    "    \n",
    "    print(\"returned_dict\", returned_dict)\n",
    "    print(\"expected_dict\", expected_dict)\n",
    "    \n",
    "    pass_flag = False\n",
    "    for key in expected_dict:\n",
    "        if (key in returned_dict and expected_dict[key]==returned_dict[key]):\n",
    "            pass_flag = True\n",
    "        else: \n",
    "            print(\"FAILED\")\n",
    "            break\n",
    "        \n",
    "    if pass_flag:\n",
    "        print(\"PASSED\")\n",
    "        \n",
    "test_string = \"statistics\"\n",
    "expected_dict = {'s': 3, 't': 3, 'a': 1, 'i': 2, 'c': 1}\n",
    "returned_dict = get_frequency_dict(test_string)\n",
    "unit_test(expected_dict, returned_dict)\n",
    "        \n",
    "test_string = ['s','t','a','t','i','s','t','i','c','s']\n",
    "expected_dict = {'s': 3, 't': 3, 'a': 1, 'i': 2, 'c': 1}\n",
    "returned_dict = get_frequency_dict(test_string)\n",
    "unit_test(expected_dict, returned_dict)"
   ]
  },
  {
   "cell_type": "markdown",
   "metadata": {},
   "source": [
    "## Problem 1: Scoring a word"
   ]
  },
  {
   "cell_type": "code",
   "execution_count": 5,
   "metadata": {},
   "outputs": [],
   "source": [
    "def get_word_score(word, n):\n",
    "    \"\"\"\n",
    "    Returns the score for a word. Assumes the word is a\n",
    "    valid word.\n",
    "\n",
    "    You may assume that the input word is always either a string of letters, \n",
    "    or the empty string \"\". You may not assume that the string will only contain \n",
    "    lowercase letters, so you will have to handle uppercase and mixed case strings \n",
    "    appropriately. \n",
    "\n",
    "\tThe score for a word is the product of two components:\n",
    "\n",
    "\tThe first component is the sum of the points for letters in the word.\n",
    "\tThe second component is the larger of:\n",
    "            1, or\n",
    "            7*wordlen - 3*(n-wordlen), where wordlen is the length of the word\n",
    "            and n is the hand length when the word was played\n",
    "\n",
    "\tLetters are scored as in Scrabble; A is worth 1, B is\n",
    "\tworth 3, C is worth 3, D is worth 2, E is worth 1, and so on.\n",
    "\n",
    "    word: string\n",
    "    n: int >= 0\n",
    "    returns: int >= 0\n",
    "    \"\"\"\n",
    "    \n",
    "    #==========CODE===========\n",
    "    \n",
    "    # string to lower case\n",
    "    word=word.lower()\n",
    "    \n",
    "    # factor 1: sum of points for letters in word\n",
    "    letter_freq=get_frequency_dict(word) \n",
    "    \n",
    "    # map to values:\n",
    "    dict_freq.keys()\n",
    "\n",
    "    factor_1 = sum([SCRABBLE_LETTER_VALUES[k]*letter_freq[k] for k in letter_freq])\n",
    "    \n",
    "    # factor 2: max( 1, 7*wordlen - 3(n - wordlen))\n",
    "    wordlen=len(word)\n",
    "    factor_2=max(1, 7 * wordlen - 3 * (n - wordlen))\n",
    "    \n",
    "    score=factor_1 * factor_2\n",
    "    \n",
    "    return score\n",
    "    \n",
    "    #==========CODE==========="
   ]
  },
  {
   "cell_type": "code",
   "execution_count": 56,
   "id": "c0721c1f",
   "metadata": {},
   "outputs": [
    {
     "name": "stdout",
     "output_type": "stream",
     "text": [
      "score:  180\n",
      "returned 2\n",
      "expected 2\n",
      "PASSED\n"
     ]
    }
   ],
   "source": [
    "def unit_test(expected, returned):\n",
    "    \n",
    "    print(\"returned\", returned)\n",
    "    print(\"expected\", expected)\n",
    "    \n",
    "    pass_flag = False\n",
    "    \n",
    "    if (expected==returned):\n",
    "        pass_flag = True\n",
    "    else: \n",
    "        print(\"FAILED\")\n",
    "        \n",
    "    if pass_flag:\n",
    "        print(\"PASSED\")\n",
    "        \n",
    "#====pre-work=====\n",
    "dict_freq={'a':1, 'p':2, 'l':1, 'e':1}\n",
    "dict_value={'a':1, 'p': 3, 'l':1, 'e':1}\n",
    "\n",
    "factor_1=sum([dict_value[k]*dict_freq[k] for k in dict_freq])\n",
    "wordlen=5\n",
    "n=10 #cards\n",
    "factor_2=max(1, 7 * wordlen - 3 * (n - wordlen))\n",
    "#max(1,7*5-3*(10-5)) = max(1, 35-15) = max(1,20) = 20\n",
    "score=factor_1 * factor_2\n",
    "print('score: ', score)\n",
    "#====pre-work=====\n",
    "\n",
    "# words = {(\"\", 7):0, (\"it\", 7):2, (\"was\", 7):54, (\"weed\", 6):176,\n",
    "#              (\"scored\", 7):351, (\"WaYbILl\", 7):735, (\"Outgnaw\", 7):539,\n",
    "#              (\"fork\", 7):209, (\"FORK\", 4):308}\n",
    "                    \n",
    "test = \"it\"\n",
    "n = 7\n",
    "expected = 2\n",
    "returned = get_word_score(test,n)\n",
    "unit_test(expected, returned)"
   ]
  },
  {
   "cell_type": "code",
   "execution_count": 8,
   "id": "553ee942",
   "metadata": {},
   "outputs": [],
   "source": [
    "#\n",
    "# Make sure you understand how this function works and what it does!\n",
    "#\n",
    "def display_hand(hand):\n",
    "    \"\"\"\n",
    "    Displays the letters currently in the hand.\n",
    "\n",
    "    For example:\n",
    "       display_hand({'a':1, 'x':2, 'l':3, 'e':1})\n",
    "    Should print out something like:\n",
    "       a x x l l l e\n",
    "    The order of the letters is unimportant.\n",
    "\n",
    "    hand: dictionary (string -> int)\n",
    "    \"\"\"\n",
    "    \n",
    "    # JL: for each letter in the keys of the hand (which is a freq map of the letters avail)\n",
    "    for letter in hand.keys():\n",
    "        # JL: take j = 0 to freq_of_letter-1 \n",
    "        for j in range(hand[letter]):\n",
    "            # JL: print that letter, then add a space before printing again\n",
    "             print(letter, end=' ')      # print all on the same line\n",
    "    print()                              # print an empty line\n"
   ]
  },
  {
   "cell_type": "markdown",
   "id": "4b413096",
   "metadata": {},
   "source": [
    "### Unit test: display_hand\n",
    "\n",
    "You can put a unit test here for the function above. I'm going to skip that part."
   ]
  },
  {
   "cell_type": "code",
   "execution_count": 9,
   "id": "848fc904",
   "metadata": {},
   "outputs": [],
   "source": [
    "#\n",
    "# Make sure you understand how this function works and what it does!\n",
    "# You will need to modify this for Problem #4.\n",
    "#\n",
    "def deal_hand(n):\n",
    "    \"\"\"\n",
    "    Returns a random hand containing n lowercase letters.\n",
    "    ceil(n/3) letters in the hand should be VOWELS (note,\n",
    "    ceil(n/3) means the smallest integer not less than n/3).\n",
    "\n",
    "    Hands are represented as dictionaries. The keys are\n",
    "    letters and the values are the number of times the\n",
    "    particular letter is repeated in that hand.\n",
    "\n",
    "    n: int >= 0\n",
    "    returns: dictionary (string -> int)\n",
    "    \"\"\"\n",
    "    # JL: start an empty dict for the hand to be filled in later by random.\n",
    "    # JL: this func determines what you are DEALT at the beg of the game!\n",
    "    hand={}\n",
    "    # JL: one requirement is how many vowels there should be. It's the ceil of 1/3 \n",
    "    # letters passed out in any hand.\n",
    "    num_vowels = int(math.ceil(n / 3))\n",
    "\n",
    "    # for each vowel-draw\n",
    "    for i in range(num_vowels):\n",
    "        # select a random one from the pre-pop list of vowels above\n",
    "        x = random.choice(VOWELS)\n",
    "        # set the dictionary key-val pair: x->what value is \n",
    "        # there (if nothing return 0, that's what hand.get(x,0) does) and +1 to it.\n",
    "        hand[x] = hand.get(x, 0) + 1\n",
    "    \n",
    "    # for each value left in the hand (n - num_vowels)\n",
    "    for i in range(num_vowels, n):   \n",
    "        # select a random one from the pre-pop list of consonants above \n",
    "        x = random.choice(CONSONANTS)\n",
    "        # set the dictionary key-val pair: x->what value is \n",
    "        # there (if nothing return 0, that's what hand.get(x,0) does) and +1 to it. \n",
    "        hand[x] = hand.get(x, 0) + 1\n",
    "    \n",
    "    return hand"
   ]
  },
  {
   "cell_type": "markdown",
   "id": "895a2ce0",
   "metadata": {},
   "source": [
    "### Unit test: deal_hand(n)"
   ]
  },
  {
   "cell_type": "code",
   "execution_count": 10,
   "id": "58496503",
   "metadata": {},
   "outputs": [
    {
     "name": "stdout",
     "output_type": "stream",
     "text": [
      "returned {'a': 1, 'u': 2, 'e': 1, 'p': 1, 'j': 3, 'l': 1, 't': 1}\n",
      "expected [4, 6]\n",
      "FAILED\n"
     ]
    }
   ],
   "source": [
    "def unit_test(expected, returned):\n",
    "    \n",
    "    print(\"returned\", returned)\n",
    "    print(\"expected\", expected)\n",
    "    \n",
    "    pass_flag = False\n",
    "    \n",
    "    if (expected==returned):\n",
    "        pass_flag = True\n",
    "    else: \n",
    "        print(\"FAILED\")\n",
    "        \n",
    "    if pass_flag:\n",
    "        print(\"PASSED\")\n",
    "        \n",
    "#====pre-work=====\n",
    "#====pre-work=====\n",
    "\n",
    "# note: this unit test requires only printing that the deal hand contains only nearly a 1/3 of values as RND vwls\n",
    "# and 2/3 as RND consonants\n",
    "test = 10\n",
    "expected = [int(math.ceil(test/3)), int(math.floor(2*test/3))]\n",
    "returned = deal_hand(test)\n",
    "unit_test(expected, returned)"
   ]
  },
  {
   "cell_type": "markdown",
   "metadata": {},
   "source": [
    "## Problem 2: Update hand by removing letters"
   ]
  },
  {
   "cell_type": "code",
   "execution_count": 47,
   "metadata": {},
   "outputs": [],
   "source": [
    "def update_hand(hand, word):\n",
    "    \"\"\"\n",
    "    Does NOT assume that hand contains every letter in word at least as\n",
    "    many times as the letter appears in word. Letters in word that don't\n",
    "    appear in hand should be ignored. Letters that appear in word more times\n",
    "    than in hand should never result in a negative count; instead, set the\n",
    "    count in the returned hand to 0 (or remove the letter from the\n",
    "    dictionary, depending on how your code is structured). \n",
    "\n",
    "    Updates the hand: uses up the letters in the given word\n",
    "    and returns the new hand, without those letters in it.\n",
    "\n",
    "    Has no side effects: does not modify hand.\n",
    "\n",
    "    word: string\n",
    "    hand: dictionary (string -> int)    \n",
    "    returns: dictionary (string -> int)\n",
    "    \"\"\"\n",
    "\n",
    "    #==========CODE===========\n",
    "    \n",
    "    # get the frequency of the letters in word\n",
    "    word_freq=get_frequency_dict(word)\n",
    "    \n",
    "    # begin walking through word_freq and removing \n",
    "    # the detailed quantity from 'hand' \n",
    "    # a copy has to be made, because dictionaries have a global scope\n",
    "    # anything passed down and chnaged here is \n",
    "    hand_copy=hand.copy()\n",
    "    for char in word_freq.keys():\n",
    "        hand_copy[char]=max(0, hand_copy.get(char, 0) - word_freq[char])\n",
    "        \n",
    "    \n",
    "    # note: this should be max(0, hand@character - word_freq@character)\n",
    "    # if the latter is negative, representing that there are too many letters, \n",
    "    # it simply takes them all away as a punishment, \n",
    "    # note: if the letter is NOT in hand, then do nothing! \n",
    "    \n",
    "    return hand_copy\n",
    "    #==========CODE==========="
   ]
  },
  {
   "cell_type": "markdown",
   "metadata": {},
   "source": [
    "### Unit Test: update_hand(hand, word)\n",
    "\n",
    "Follow the testing example given in the pdf."
   ]
  },
  {
   "cell_type": "code",
   "execution_count": 11,
   "metadata": {},
   "outputs": [
    {
     "name": "stdout",
     "output_type": "stream",
     "text": [
      "a q l l m u i \n",
      "l m \n",
      "a q l l m u i \n",
      "\n",
      "returned {'a': 0, 'q': 0, 'l': 1, 'm': 1, 'u': 0, 'i': 0}\n",
      "expected {'a': 0, 'q': 0, 'l': 1, 'm': 1, 'u': 0, 'i': 0}\n",
      "PASSED\n"
     ]
    }
   ],
   "source": [
    "def unit_test(expected, returned):\n",
    "    \n",
    "    print(\"returned\", returned)\n",
    "    print(\"expected\", expected)\n",
    "    \n",
    "    pass_flag = False\n",
    "    \n",
    "    if (expected==returned):\n",
    "        pass_flag = True\n",
    "    else: \n",
    "        print(\"FAILED\")\n",
    "        \n",
    "    if pass_flag:\n",
    "        print(\"PASSED\")\n",
    "        \n",
    "#====pre-work=====\n",
    "hand={'a':1, 'q':1, 'l':2, 'm':1, 'u':1, 'i':1}\n",
    "display_hand(hand)\n",
    "\n",
    "new_hand=update_hand(hand, 'quail')\n",
    "display_hand(new_hand)\n",
    "\n",
    "display_hand(hand)\n",
    "print()\n",
    "#====pre-work=====\n",
    "\n",
    "expected = {'a':0, 'q':0, 'l':1, 'm':1, 'u':0, 'i':0}\n",
    "returned = new_hand\n",
    "unit_test(expected, returned)"
   ]
  },
  {
   "cell_type": "markdown",
   "metadata": {},
   "source": [
    "## Problem 3: Test word validity"
   ]
  },
  {
   "cell_type": "code",
   "execution_count": 38,
   "metadata": {},
   "outputs": [],
   "source": [
    "#\n",
    "# Problem #3: Test word validity\n",
    "#\n",
    "def is_valid_word(word, hand, word_list):\n",
    "    \"\"\"\n",
    "    Returns True if word is in the word_list and is entirely\n",
    "    composed of letters in the hand. Otherwise, returns False.\n",
    "    Does not mutate hand or word_list.\n",
    "   \n",
    "    word: string\n",
    "    hand: dictionary (string -> int)\n",
    "    word_list: list of lowercase strings\n",
    "    returns: boolean\n",
    "    \"\"\"\n",
    "    \n",
    "    #==========CODE===========\n",
    "    \n",
    "    # current status\n",
    "    is_valid_word_ = False\n",
    "    \n",
    "    # to lower case\n",
    "    word=word.lower()\n",
    "    \n",
    "    # get frequency dict of the word\n",
    "    word_freq = get_frequency_dict(word)\n",
    "    \n",
    "    # check if in word_list\n",
    "    if (not word in word_list):\n",
    "        return False\n",
    "    \n",
    "    else :\n",
    "        # loop through letters in word and decide if there are enough\n",
    "        # in the hand to support it. \n",
    "        # return false as soon as we can't support this word.\n",
    "        for k in word_freq.keys():\n",
    "            if (word_freq[k] > hand[k]):\n",
    "                return False\n",
    "        \n",
    "        \n",
    "    #==========CODE===========\n",
    "    # code reaches this return statement if it passes the previous checks. \n",
    "    return True"
   ]
  },
  {
   "cell_type": "markdown",
   "metadata": {},
   "source": [
    "### Unit Test: is_valid_word(word, hand, word_list)\n",
    "\n",
    " "
   ]
  },
  {
   "cell_type": "code",
   "execution_count": 13,
   "metadata": {},
   "outputs": [
    {
     "name": "stdout",
     "output_type": "stream",
     "text": [
      "Loading word list from file...\n",
      "   83667 words loaded.\n",
      "expected True\n",
      "returned True\n",
      "PASSED\n"
     ]
    }
   ],
   "source": [
    "def unit_test(expected, returned):\n",
    "    \n",
    "    print(\"expected\", expected)\n",
    "    print(\"returned\", returned)\n",
    "      \n",
    "    pass_flag = False\n",
    "    \n",
    "    if (expected==returned):\n",
    "        pass_flag = True\n",
    "    else: \n",
    "        print(\"FAILED\")\n",
    "        \n",
    "    if pass_flag:\n",
    "        print(\"PASSED\")\n",
    "        \n",
    "#====pre-work=====\n",
    "word = \"bird\"\n",
    "wordlist = load_words()\n",
    "hand = {'b':1, 'i':1, 'r':1, 'd':1}\n",
    "#====pre-work=====\n",
    "\n",
    "expected = True\n",
    "returned = is_valid_word(word, hand, wordlist)\n",
    "unit_test(expected, returned)"
   ]
  },
  {
   "cell_type": "markdown",
   "metadata": {},
   "source": [
    "### Unit Test: is_valide_word(...)\n",
    "\n",
    "Could make more unit test to see when words are not in the dictionary, but for the sake of time, I'm passing over this."
   ]
  },
  {
   "cell_type": "code",
   "execution_count": 14,
   "metadata": {},
   "outputs": [
    {
     "name": "stdout",
     "output_type": "stream",
     "text": [
      "Loading word list from file...\n",
      "   83667 words loaded.\n"
     ]
    }
   ],
   "source": [
    "wordlist = load_words()"
   ]
  },
  {
   "cell_type": "markdown",
   "metadata": {},
   "source": [
    "## Problem 4: Playing a hand"
   ]
  },
  {
   "cell_type": "code",
   "execution_count": 55,
   "metadata": {},
   "outputs": [],
   "source": [
    "#\n",
    "# Problem #4: Playing a hand\n",
    "#\n",
    "def calculate_handlen(hand):\n",
    "    \"\"\" \n",
    "    Returns the length (number of letters) in the current hand.\n",
    "    \n",
    "    hand: dictionary (string-> int)\n",
    "    returns: integer\n",
    "    \"\"\"\n",
    "    \n",
    "    #====Code=====\n",
    "    handlength=0\n",
    "    \n",
    "    for k in hand.keys() :\n",
    "        handlength+=hand[k]\n",
    "\n",
    "    return handlength\n",
    "    #====Code====="
   ]
  },
  {
   "cell_type": "markdown",
   "metadata": {},
   "source": [
    "## Unit Test: calculate_handlen(hand):"
   ]
  },
  {
   "cell_type": "code",
   "execution_count": 58,
   "metadata": {},
   "outputs": [
    {
     "name": "stdout",
     "output_type": "stream",
     "text": [
      "expected 4\n",
      "returned 0\n",
      "FAILED\n"
     ]
    }
   ],
   "source": [
    "def unit_test(expected, returned):\n",
    "    \n",
    "    print(\"expected\", expected)\n",
    "    print(\"returned\", returned)\n",
    "      \n",
    "    pass_flag = False\n",
    "    \n",
    "    if (expected==returned):\n",
    "        pass_flag = True\n",
    "    else: \n",
    "        print(\"FAILED\")\n",
    "        \n",
    "    if pass_flag:\n",
    "        print(\"PASSED\")\n",
    "        \n",
    "#====pre-work=====\n",
    "# word = \"bird\"\n",
    "# wordlist = load_words()\n",
    "hand = {'b':1, 'i':1, 'r':1, 'd':1}\n",
    "hand = {'b':0, 'i':0, 'r':0, 'd':0}\n",
    "#====pre-work=====\n",
    "\n",
    "expected = 4\n",
    "returned = calculate_handlen(hand)\n",
    "unit_test(expected, returned)"
   ]
  },
  {
   "cell_type": "code",
   "execution_count": 61,
   "metadata": {},
   "outputs": [],
   "source": [
    "def play_hand(hand, word_list):\n",
    "    \"\"\"\n",
    "    Allows the user to play the given hand, as follows:\n",
    "\n",
    "    * The hand is displayed.\n",
    "    \n",
    "    * The user may input a word.\n",
    "\n",
    "    * When any word is entered (valid or invalid), it uses up letters\n",
    "      from the hand.\n",
    "\n",
    "    * An invalid word is rejected, and a message is displayed asking\n",
    "      the user to choose another word.\n",
    "\n",
    "    * After every valid word: the score for that word is displayed,\n",
    "      the remaining letters in the hand are displayed, and the user\n",
    "      is asked to input another word.\n",
    "\n",
    "    * The sum of the word scores is displayed when the hand finishes.\n",
    "\n",
    "    * The hand finishes when there are no more unused letters.\n",
    "      The user can also finish playing the hand by inputing two \n",
    "      exclamation points (the string '!!') instead of a word.\n",
    "\n",
    "      hand: dictionary (string -> int)\n",
    "      word_list: list of lowercase strings\n",
    "      returns: the total score for the hand\n",
    "      \n",
    "    \"\"\"\n",
    "    \n",
    "    # BEGIN PSEUDOCODE <-- Remove this comment when you implement this function\n",
    "    # Keep track of the total score\n",
    "    total_score = 0\n",
    "    \n",
    "    # As long as there are still letters left in the hand:\n",
    "    while calculate_handlen(hand)>0:\n",
    "        \n",
    "        # Display the hand\n",
    "        print()\n",
    "        print(\"Current Hand\")\n",
    "        display_hand(hand)\n",
    "        \n",
    "        # Ask user for input\n",
    "        word = input(\"Enter a word for your letters: \")\n",
    "        \n",
    "        # If the input is two exclamation points:\n",
    "        if (word==\"!!\"):\n",
    "            break\n",
    "            # End the game (break out of the loop)\n",
    "\n",
    "            \n",
    "        # Otherwise (the input is not two exclamation points):\n",
    "        else:\n",
    "            # If the word is valid:\n",
    "            if (is_valid_word(word, hand, word_list)):\n",
    "                \n",
    "                # Tell the user how many points the word earned,\n",
    "                # and the updated total score\n",
    "                points_earned=get_word_score(word, HAND_SIZE)\n",
    "                total_score+=points_earned\n",
    "                print(\"Your word earned: \", points_earned)\n",
    "                print(\"The total score is now: \", total_score)\n",
    "                    \n",
    "            # Otherwise (the word is not valid):\n",
    "            else :\n",
    "                print(\"Invalid word! Do something else.\")\n",
    "                # Reject invalid word (print a message)\n",
    "                \n",
    "            # update the user's hand by removing the letters of their inputted word\n",
    "            hand = update_hand(hand, word)\n",
    "\n",
    "    # Game is over (user entered '!!' or ran out of letters),\n",
    "    # so tell user the total score\n",
    "    print(\"Game Over. Your total score was: \", total_score)\n",
    "\n",
    "    # Return the total score as result of function\n",
    "    return total_score\n"
   ]
  },
  {
   "cell_type": "markdown",
   "metadata": {},
   "source": [
    "## Unit Test: play_hand(hand, word_list):"
   ]
  },
  {
   "cell_type": "code",
   "execution_count": 1,
   "metadata": {},
   "outputs": [
    {
     "ename": "NameError",
     "evalue": "name 'load_words' is not defined",
     "output_type": "error",
     "traceback": [
      "\u001b[0;31m--------------------------------------------------------------------\u001b[0m",
      "\u001b[0;31mNameError\u001b[0m                          Traceback (most recent call last)",
      "\u001b[0;32m<ipython-input-1-ede35be27b0f>\u001b[0m in \u001b[0;36m<module>\u001b[0;34m\u001b[0m\n\u001b[1;32m     16\u001b[0m \u001b[0;31m#====pre-work=====\u001b[0m\u001b[0;34m\u001b[0m\u001b[0;34m\u001b[0m\u001b[0;34m\u001b[0m\u001b[0m\n\u001b[1;32m     17\u001b[0m \u001b[0;31m# word = \"bird\"\u001b[0m\u001b[0;34m\u001b[0m\u001b[0;34m\u001b[0m\u001b[0;34m\u001b[0m\u001b[0m\n\u001b[0;32m---> 18\u001b[0;31m \u001b[0mwordlist\u001b[0m \u001b[0;34m=\u001b[0m \u001b[0mload_words\u001b[0m\u001b[0;34m(\u001b[0m\u001b[0;34m)\u001b[0m\u001b[0;34m\u001b[0m\u001b[0;34m\u001b[0m\u001b[0m\n\u001b[0m\u001b[1;32m     19\u001b[0m \u001b[0mhand\u001b[0m \u001b[0;34m=\u001b[0m \u001b[0;34m{\u001b[0m\u001b[0;34m'b'\u001b[0m\u001b[0;34m:\u001b[0m\u001b[0;36m1\u001b[0m\u001b[0;34m,\u001b[0m \u001b[0;34m'i'\u001b[0m\u001b[0;34m:\u001b[0m\u001b[0;36m2\u001b[0m\u001b[0;34m,\u001b[0m \u001b[0;34m'r'\u001b[0m\u001b[0;34m:\u001b[0m\u001b[0;36m2\u001b[0m\u001b[0;34m,\u001b[0m \u001b[0;34m'd'\u001b[0m\u001b[0;34m:\u001b[0m\u001b[0;36m2\u001b[0m\u001b[0;34m,\u001b[0m \u001b[0;34m't'\u001b[0m\u001b[0;34m:\u001b[0m\u001b[0;36m1\u001b[0m\u001b[0;34m}\u001b[0m\u001b[0;34m\u001b[0m\u001b[0;34m\u001b[0m\u001b[0m\n\u001b[1;32m     20\u001b[0m \u001b[0;31m#====pre-work=====\u001b[0m\u001b[0;34m\u001b[0m\u001b[0;34m\u001b[0m\u001b[0;34m\u001b[0m\u001b[0m\n",
      "\u001b[0;31mNameError\u001b[0m: name 'load_words' is not defined"
     ]
    }
   ],
   "source": [
    "def unit_test(expected, returned):\n",
    "    \n",
    "    print(\"expected\", expected)\n",
    "    print(\"returned\", returned)\n",
    "      \n",
    "    pass_flag = False\n",
    "    \n",
    "    if (expected==returned):\n",
    "        pass_flag = True\n",
    "    else: \n",
    "        print(\"FAILED\")\n",
    "        \n",
    "    if pass_flag:\n",
    "        print(\"PASSED\")\n",
    "\n",
    "#====pre-work=====\n",
    "# word = \"bird\"\n",
    "wordlist = load_words()\n",
    "hand = {'b':1, 'i':2, 'r':2, 'd':2, 't':1}\n",
    "#====pre-work=====\n",
    "expected=228 # this is not verified independently \n",
    "returned=play_hand(hand, wordlist)\n",
    "unit_test(expected, returned) "
   ]
  },
  {
   "cell_type": "markdown",
   "metadata": {},
   "source": [
    "## Problem 5: Playing a game"
   ]
  },
  {
   "cell_type": "code",
   "execution_count": 11,
   "metadata": {},
   "outputs": [],
   "source": [
    "#\n",
    "# procedure you will use to substitute a letter in a hand\n",
    "#\n",
    "\n",
    "def substitute_hand(hand, letter):\n",
    "    \"\"\" \n",
    "    Allow the user to replace all copies of one letter in the hand (chosen by user)\n",
    "    with a new letter chosen from the VOWELS and CONSONANTS at random. The new letter\n",
    "    should be different from user's choice, and should not be any of the letters\n",
    "    already in the hand.\n",
    "\n",
    "    If user provide a letter not in the hand, the hand should be the same.\n",
    "\n",
    "    Has no side effects: does not mutate hand.\n",
    "\n",
    "    For example:\n",
    "        substitute_hand({'h':1, 'e':1, 'l':2, 'o':1}, 'l')\n",
    "    might return:\n",
    "        {'h':1, 'e':1, 'o':1, 'x':2} -> if the new letter is 'x'\n",
    "    The new letter should not be 'h', 'e', 'l', or 'o' since those letters were\n",
    "    already in the hand.\n",
    "    \n",
    "    hand: dictionary (string -> int)\n",
    "    letter: string\n",
    "    returns: dictionary (string -> int)\n",
    "    \"\"\"\n",
    "    \n",
    "    pass  # TO DO... Remove this line when you implement this function\n"
   ]
  },
  {
   "cell_type": "code",
   "execution_count": 12,
   "metadata": {},
   "outputs": [],
   "source": [
    "def play_game(word_list):\n",
    "    \"\"\"\n",
    "    Allow the user to play a series of hands\n",
    "\n",
    "    * Asks the user to input a total number of hands\n",
    "\n",
    "    * Accumulates the score for each hand into a total score for the \n",
    "      entire series\n",
    " \n",
    "    * For each hand, before playing, ask the user if they want to substitute\n",
    "      one letter for another. If the user inputs 'yes', prompt them for their\n",
    "      desired letter. This can only be done once during the game. Once the\n",
    "      substitue option is used, the user should not be asked if they want to\n",
    "      substitute letters in the future.\n",
    "\n",
    "    * For each hand, ask the user if they would like to replay the hand.\n",
    "      If the user inputs 'yes', they will replay the hand and keep \n",
    "      the better of the two scores for that hand.  This can only be done once \n",
    "      during the game. Once the replay option is used, the user should not\n",
    "      be asked if they want to replay future hands. Replaying the hand does\n",
    "      not count as one of the total number of hands the user initially\n",
    "      wanted to play.\n",
    "\n",
    "            * Note: if you replay a hand, you do not get the option to substitute\n",
    "                    a letter - you must play whatever hand you just had.\n",
    "      \n",
    "    * Returns the total score for the series of hands\n",
    "\n",
    "    word_list: list of lowercase strings\n",
    "    \"\"\"\n",
    "    \n",
    "    print(\"play_game not implemented.\") # TO DO... Remove this line when you implement this function\n",
    "    \n"
   ]
  },
  {
   "cell_type": "code",
   "execution_count": 14,
   "metadata": {},
   "outputs": [
    {
     "name": "stdout",
     "output_type": "stream",
     "text": [
      "Loading word list from file...\n",
      "   83667 words loaded.\n",
      "play_game not implemented.\n"
     ]
    }
   ],
   "source": [
    "#\n",
    "# Build data structures used for entire session and play game\n",
    "# Do not remove the \"if __name__ == '__main__':\" line - this code is executed\n",
    "# when the program is run directly, instead of through an import statement\n",
    "#\n",
    "if __name__ == '__main__':\n",
    "    word_list = load_words()\n",
    "    play_game(word_list)"
   ]
  },
  {
   "cell_type": "markdown",
   "metadata": {},
   "source": [
    "## Test code\n",
    "This import willl call tye **test_ps3.py** file which includes many pre-written tests for the work. As we progress, this file will pass tests until we can play games successfully. It is useful for making sure we are progressing during the development process."
   ]
  },
  {
   "cell_type": "code",
   "execution_count": 185,
   "metadata": {},
   "outputs": [
    {
     "name": "stdout",
     "output_type": "stream",
     "text": [
      "Loading word list from file...\n",
      "   83667 words loaded.\n",
      "----------------------------------------------------------------------\n",
      "Testing get_word_score...\n",
      "FAILURE: test_get_word_score()\n",
      "\tExpected 0 points but got 'None' for word '', n=7\n",
      "FAILURE: test_get_word_score()\n",
      "\tExpected 2 points but got 'None' for word 'it', n=7\n",
      "FAILURE: test_get_word_score()\n",
      "\tExpected 54 points but got 'None' for word 'was', n=7\n",
      "FAILURE: test_get_word_score()\n",
      "\tExpected 176 points but got 'None' for word 'weed', n=6\n",
      "FAILURE: test_get_word_score()\n",
      "\tExpected 351 points but got 'None' for word 'scored', n=7\n",
      "FAILURE: test_get_word_score()\n",
      "\tExpected 735 points but got 'None' for word 'WaYbILl', n=7\n",
      "FAILURE: test_get_word_score()\n",
      "\tExpected 539 points but got 'None' for word 'Outgnaw', n=7\n",
      "FAILURE: test_get_word_score()\n",
      "\tExpected 209 points but got 'None' for word 'fork', n=7\n",
      "FAILURE: test_get_word_score()\n",
      "\tExpected 308 points but got 'None' for word 'FORK', n=4\n",
      "----------------------------------------------------------------------\n",
      "Testing update_hand...\n",
      "FAILURE: test_update_hand('quail', {'a': 1, 'q': 1, 'l': 2, 'm': 1, 'u': 1, 'i': 1})\n",
      "\tReturned:  None \n",
      "\t-- but expected: {'l': 1, 'm': 1} or {'a': 0, 'q': 0, 'l': 1, 'm': 1, 'u': 0, 'i': 0}\n",
      "----------------------------------------------------------------------\n",
      "Testing is_valid_word...\n",
      "FAILURE: test_is_valid_word()\n",
      "\tExpected True, but got False for word: 'hello' and hand: {'h': 1, 'e': 1, 'l': 2, 'o': 1}\n",
      "FAILURE: test_is_valid_word()\n",
      "\tTesting word hello for a second time - have you modified word_list?\n",
      "The word hello should be in word_list - is it? True\n",
      "\tExpected True, but got False for word: 'hello' and hand: {'h': 1, 'e': 1, 'l': 2, 'o': 1}\n",
      "FAILURE: test_is_valid_word()\n",
      "\tExpected True, but got False for word: 'honey' and hand: {'n': 1, 'h': 1, 'o': 1, 'y': 1, 'd': 1, 'w': 1, 'e': 2}\n",
      "FAILURE: test_is_valid_word()\n",
      "\tExpected True, but got False for word: 'EVIL' and hand: {'e': 1, 'v': 2, 'n': 1, 'i': 1, 'l': 2}\n",
      "----------------------------------------------------------------------\n",
      "Testing wildcards...\n",
      "FAILURE: test_is_valid_word() with wildcards\n",
      "\tExpected True, but got False for word: 'h*ney' and hand: {'n': 1, 'h': 1, '*': 1, 'y': 1, 'd': 1, 'w': 1, 'e': 2}\n",
      "FAILURE: test_get_word_score() with wildcards\n",
      "\tExpected 290 points but got 'None' for word 'h*ney', n=7\n",
      "FAILURE: test_get_word_score() with wildcards\n",
      "\tExpected 176 points but got 'None' for word 'c*ws', n=6\n",
      "FAILURE: test_get_word_score() with wildcards\n",
      "\tExpected 203 points but got 'None' for word 'wa*ls', n=7\n",
      "All done!\n"
     ]
    }
   ],
   "source": [
    "# Comment out this code so it does not run along with your work.\n",
    "import test_ps3\n",
    "exec(open('test_ps3.py').read())"
   ]
  },
  {
   "cell_type": "code",
   "execution_count": null,
   "metadata": {},
   "outputs": [],
   "source": []
  }
 ],
 "metadata": {
  "kernelspec": {
   "display_name": "Python 3",
   "language": "python",
   "name": "python3"
  },
  "language_info": {
   "codemirror_mode": {
    "name": "ipython",
    "version": 3
   },
   "file_extension": ".py",
   "mimetype": "text/x-python",
   "name": "python",
   "nbconvert_exporter": "python",
   "pygments_lexer": "ipython3",
   "version": "3.8.5"
  }
 },
 "nbformat": 4,
 "nbformat_minor": 5
}
