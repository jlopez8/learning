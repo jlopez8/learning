{
 "cells": [
  {
   "cell_type": "markdown",
   "id": "65f4a0c1",
   "metadata": {},
   "source": [
    "# Problem Set 3 \n",
    "\n",
    "\n",
    "In this problem set, you'll implement a version of the 6.0001 word game!"
   ]
  },
  {
   "cell_type": "markdown",
   "id": "103eb85f",
   "metadata": {},
   "source": [
    "## Dealing\n",
    "\n",
    "* player is deatlh hand of `HAND_SIZE` letters of alphabet, @random. Possible to receive multiple instances of same letter (draw w replacement).\n",
    "\n",
    "* Player arranges hand into as many words they want, but can only use each letter at most once.\n",
    "\n",
    "* Some letters remain unused, "
   ]
  },
  {
   "cell_type": "markdown",
   "id": "0be9ca33",
   "metadata": {},
   "source": [
    "## Scoring\n",
    "\n",
    "* The score for hand is sum of score for each word formed.\n",
    "\n",
    "* Score for word is **product** of:\n",
    "    * the sum of points for letters in the word\n",
    "    * maximum( [7\\*word_length -3\\*(n - word_length)], 1).\n",
    "        * word_lenght = number letters used in word\n",
    "        * n = number of letters avail in current hand\n",
    "        \n",
    "* Letters scored like scrabble: A = 1, B = 3, C = 3, D = 2, E = 1 and so on. there is a pre-defined map `SCRABBLE_LETTER_VALUES` that defines how much each letter is worth.\n",
    "\n",
    "* Example:\n",
    "    * n = 6 and hand includes 1 'w', 2 'e's, 1 'd' (and to other letters), playing the word 'weed' would be worth:\n",
    "        * sum of points for letters in weed: (4 + 1 + 1 + 2) = 8\n",
    "        * word_length = 4\n",
    "        * n = total letters = 6:\n",
    "        * max(7*4 - 3*(6-4), 1) = max(22,1) = 22\n",
    "        * 22*8 = 176."
   ]
  },
  {
   "cell_type": "markdown",
   "id": "2807ef09",
   "metadata": {},
   "source": [
    "# Importing necessary code\n",
    "\n",
    "File ps3.py includes code to implement this solution. We are going to piece-by-piece import it into this notebook.\n",
    "\n",
    "The **test_ps3.py** code is a separate file we can use to test our code along the way. It was provided by the homework makers."
   ]
  },
  {
   "cell_type": "code",
   "execution_count": 63,
   "id": "f8a152b1",
   "metadata": {},
   "outputs": [],
   "source": [
    "# 6.0001 Problem Set 3\n",
    "#\n",
    "# The 6.0001 Word Game\n",
    "# Created by: Kevin Luu <luuk> and Jenna Wiens <jwiens>\n",
    "#\n",
    "# Name          : Jaime Lopez-Merizalde\n",
    "# Collaborators : <your collaborators>\n",
    "# Time spent    : <total time>\n",
    "\n",
    "# imports\n",
    "import math\n",
    "import random\n",
    "import string\n",
    "\n",
    "# constants\n",
    "VOWELS = 'aeiou'\n",
    "CONSONANTS = 'bcdfghjklmnpqrstvwxyz'\n",
    "HAND_SIZE = 7\n",
    "\n",
    "SCRABBLE_LETTER_VALUES = {\n",
    "    'a': 1, 'b': 3, 'c': 3, 'd': 2, 'e': 1, 'f': 4, 'g': 2, 'h': 4, 'i': 1, 'j': 8, 'k': 5, 'l': 1, 'm': 3, 'n': 1, 'o': 1, 'p': 3, 'q': 10, 'r': 1, 's': 1, 't': 1, 'u': 1, 'v': 4, 'w': 4, 'x': 8, 'y': 4, 'z': 10\n",
    "}\n",
    "\n",
    "WORDLIST_FILENAME = \"words.txt\""
   ]
  },
  {
   "cell_type": "markdown",
   "id": "388f226c",
   "metadata": {},
   "source": [
    "## Some Helper Code"
   ]
  },
  {
   "cell_type": "markdown",
   "id": "6a5c11ba",
   "metadata": {},
   "source": [
    "## Test code\n",
    "This import willl call tye **test_ps3.py** file which includes many pre-written tests for the work. As we progress, this file will pass tests until we can play games successfully. It is useful for making sure we are progressing during the development process."
   ]
  },
  {
   "cell_type": "code",
   "execution_count": 22,
   "id": "2775beac",
   "metadata": {},
   "outputs": [],
   "source": [
    "# Comment out this code so it does not run along with your work.\n",
    "# import test_ps3"
   ]
  },
  {
   "cell_type": "code",
   "execution_count": 58,
   "id": "aaf98796",
   "metadata": {},
   "outputs": [],
   "source": [
    "def load_words():\n",
    "    \"\"\"\n",
    "    Returns a list of valid words. Words are strings of lowercase letters.\n",
    "    \n",
    "    Depending on the size of the word list, this function may\n",
    "    take a while to finish.\n",
    "    \"\"\"\n",
    "    \n",
    "    print(\"Loading word list from file...\")\n",
    "    # inFile: file\n",
    "    inFile = open(WORDLIST_FILENAME, 'r')\n",
    "    # wordlist: list of strings\n",
    "    wordlist = []\n",
    "    for line in inFile:\n",
    "        wordlist.append(line.strip().lower())\n",
    "    print(\"  \", len(wordlist), \"words loaded.\")\n",
    "    return wordlist"
   ]
  },
  {
   "cell_type": "code",
   "execution_count": 59,
   "id": "6aabb2c4",
   "metadata": {},
   "outputs": [
    {
     "name": "stdout",
     "output_type": "stream",
     "text": [
      "Loading word list from file...\n",
      "   83667 words loaded.\n",
      "words returned:  83667\n",
      "words expected:  83667\n",
      "PASSED\n"
     ]
    }
   ],
   "source": [
    "# unit test load_words\n",
    "returned = len(load_words())\n",
    "expected = 83667\n",
    "print(\"words returned: \",returned)\n",
    "print(\"words expected: \", expected)\n",
    "\n",
    "if (returned == expected):\n",
    "    print(\"PASSED\")\n",
    "else: \n",
    "    print(\"FAILED\")"
   ]
  },
  {
   "cell_type": "code",
   "execution_count": 60,
   "id": "461996c4",
   "metadata": {},
   "outputs": [],
   "source": [
    "def get_frequency_dict(sequence):\n",
    "    \"\"\"\n",
    "    Returns a dictionary where the keys are elements of the sequence\n",
    "    and the values are integer counts, for the number of times that\n",
    "    an element is repeated in the sequence.\n",
    "\n",
    "    sequence: string or list\n",
    "    return: dictionary\n",
    "    \"\"\"\n",
    "    \n",
    "    # freqs: dictionary (element_type -> int)\n",
    "    freq = {}\n",
    "    for x in sequence:\n",
    "        freq[x] = freq.get(x,0) + 1\n",
    "    return freq\n",
    "\t"
   ]
  },
  {
   "cell_type": "code",
   "execution_count": 57,
   "id": "073c00c5",
   "metadata": {},
   "outputs": [
    {
     "name": "stdout",
     "output_type": "stream",
     "text": [
      "returned_dict {'s': 3, 't': 3, 'a': 1, 'i': 2, 'c': 1}\n",
      "expected_dict {'s': 3, 't': 3, 'a': 1, 'i': 2, 'c': 1}\n",
      "PASSED\n",
      "returned_dict {'s': 3, 't': 3, 'a': 1, 'i': 2, 'c': 1}\n",
      "expected_dict {'s': 3, 't': 3, 'a': 1, 'i': 2, 'c': 1}\n",
      "PASSED\n"
     ]
    }
   ],
   "source": [
    "# unit test get_frequency_dict\n",
    "\n",
    "def unit_test(expected_dict, returned_dict):\n",
    "    \n",
    "    print(\"returned_dict\", returned_dict)\n",
    "    print(\"expected_dict\", expected_dict)\n",
    "    \n",
    "    pass_flag = False\n",
    "    for key in expected_dict:\n",
    "        if (key in returned_dict and expected_dict[key]==returned_dict[key]):\n",
    "            pass_flag = True\n",
    "        else: \n",
    "            print(\"FAILED\")\n",
    "            break\n",
    "        \n",
    "    if pass_flag:\n",
    "        print(\"PASSED\")\n",
    "        \n",
    "test_string = \"statistics\"\n",
    "expected_dict = {'s': 3, 't': 3, 'a': 1, 'i': 2, 'c': 1}\n",
    "returned_dict = get_frequency_dict(test_string)\n",
    "unit_test(expected_dict, returned_dict)\n",
    "        \n",
    "test_string = ['s','t','a','t','i','s','t','i','c','s']\n",
    "expected_dict = {'s': 3, 't': 3, 'a': 1, 'i': 2, 'c': 1}\n",
    "returned_dict = get_frequency_dict(test_string)\n",
    "unit_test(expected_dict, returned_dict)"
   ]
  },
  {
   "cell_type": "markdown",
   "id": "c2e819e0",
   "metadata": {},
   "source": [
    "## Problem 1: Scoring a word"
   ]
  },
  {
   "cell_type": "code",
   "execution_count": 93,
   "id": "748603b5",
   "metadata": {},
   "outputs": [],
   "source": [
    "def get_word_score(word, n):\n",
    "    \"\"\"\n",
    "    Returns the score for a word. Assumes the word is a\n",
    "    valid word.\n",
    "\n",
    "    You may assume that the input word is always either a string of letters, \n",
    "    or the empty string \"\". You may not assume that the string will only contain \n",
    "    lowercase letters, so you will have to handle uppercase and mixed case strings \n",
    "    appropriately. \n",
    "\n",
    "\tThe score for a word is the product of two components:\n",
    "\n",
    "\tThe first component is the sum of the points for letters in the word.\n",
    "\tThe second component is the larger of:\n",
    "            1, or\n",
    "            7*wordlen - 3*(n-wordlen), where wordlen is the length of the word\n",
    "            and n is the hand length when the word was played\n",
    "\n",
    "\tLetters are scored as in Scrabble; A is worth 1, B is\n",
    "\tworth 3, C is worth 3, D is worth 2, E is worth 1, and so on.\n",
    "\n",
    "    word: string\n",
    "    n: int >= 0\n",
    "    returns: int >= 0\n",
    "    \"\"\"\n",
    "    \n",
    "    #YAH\n",
    "    #==========CODE===========\n",
    "    \n",
    "    # string to lower case\n",
    "    \n",
    "    word=word.lower()\n",
    "    \n",
    "    # factor 1: sum of points for letters in word\n",
    "    letter_freq=get_frequency_dict(word) \n",
    "    \n",
    "    # map to values:\n",
    "    dict_freq.keys()\n",
    "\n",
    "    factor_1 = sum([SCRABBLE_LETTER_VALUES[k]*letter_freq[k] for k in letter_freq])\n",
    "    \n",
    "    # factor 2: max( 1, 7*wordlen - 3(n - wordlen))\n",
    "    \n",
    "    return factor_1\n",
    "    \n",
    "    #==========CODE===========\n",
    "    \n",
    "    #pass  # TO DO... Remove this line when you implement this function\n"
   ]
  },
  {
   "cell_type": "code",
   "execution_count": 98,
   "id": "2d2e07fe",
   "metadata": {},
   "outputs": [
    {
     "name": "stdout",
     "output_type": "stream",
     "text": [
      "returned 9\n",
      "expected 9\n",
      "PASSED\n"
     ]
    }
   ],
   "source": [
    "def unit_test(expected, returned):\n",
    "    \n",
    "    print(\"returned\", returned)\n",
    "    print(\"expected\", expected)\n",
    "    \n",
    "    pass_flag = False\n",
    "    \n",
    "    if (expected==returned):\n",
    "        pass_flag = True\n",
    "    else: \n",
    "        print(\"FAILED\")\n",
    "        \n",
    "    if pass_flag:\n",
    "        print(\"PASSED\")\n",
    "\n",
    "\n",
    "test = \"aPPle\"\n",
    "expected = 9\n",
    "returned = get_word_score(test,0)\n",
    "unit_test(expected, returned)"
   ]
  },
  {
   "cell_type": "code",
   "execution_count": 62,
   "id": "553ee942",
   "metadata": {},
   "outputs": [],
   "source": [
    "#\n",
    "# Make sure you understand how this function works and what it does!\n",
    "#\n",
    "def display_hand(hand):\n",
    "    \"\"\"\n",
    "    Displays the letters currently in the hand.\n",
    "\n",
    "    For example:\n",
    "       display_hand({'a':1, 'x':2, 'l':3, 'e':1})\n",
    "    Should print out something like:\n",
    "       a x x l l l e\n",
    "    The order of the letters is unimportant.\n",
    "\n",
    "    hand: dictionary (string -> int)\n",
    "    \"\"\"\n",
    "    \n",
    "    for letter in hand.keys():\n",
    "        for j in range(hand[letter]):\n",
    "             print(letter, end=' ')      # print all on the same line\n",
    "    print()                              # print an empty line\n"
   ]
  },
  {
   "cell_type": "code",
   "execution_count": 6,
   "id": "848fc904",
   "metadata": {},
   "outputs": [],
   "source": [
    "#\n",
    "# Make sure you understand how this function works and what it does!\n",
    "# You will need to modify this for Problem #4.\n",
    "#\n",
    "def deal_hand(n):\n",
    "    \"\"\"\n",
    "    Returns a random hand containing n lowercase letters.\n",
    "    ceil(n/3) letters in the hand should be VOWELS (note,\n",
    "    ceil(n/3) means the smallest integer not less than n/3).\n",
    "\n",
    "    Hands are represented as dictionaries. The keys are\n",
    "    letters and the values are the number of times the\n",
    "    particular letter is repeated in that hand.\n",
    "\n",
    "    n: int >= 0\n",
    "    returns: dictionary (string -> int)\n",
    "    \"\"\"\n",
    "    \n",
    "    hand={}\n",
    "    num_vowels = int(math.ceil(n / 3))\n",
    "\n",
    "    for i in range(num_vowels):\n",
    "        x = random.choice(VOWELS)\n",
    "        hand[x] = hand.get(x, 0) + 1\n",
    "    \n",
    "    for i in range(num_vowels, n):    \n",
    "        x = random.choice(CONSONANTS)\n",
    "        hand[x] = hand.get(x, 0) + 1\n",
    "    \n",
    "    return hand\n"
   ]
  },
  {
   "cell_type": "markdown",
   "id": "5c87843f",
   "metadata": {},
   "source": [
    "## Problem 2: Update hand by removing letters"
   ]
  },
  {
   "cell_type": "code",
   "execution_count": 7,
   "id": "7238a161",
   "metadata": {},
   "outputs": [],
   "source": [
    "def update_hand(hand, word):\n",
    "    \"\"\"\n",
    "    Does NOT assume that hand contains every letter in word at least as\n",
    "    many times as the letter appears in word. Letters in word that don't\n",
    "    appear in hand should be ignored. Letters that appear in word more times\n",
    "    than in hand should never result in a negative count; instead, set the\n",
    "    count in the returned hand to 0 (or remove the letter from the\n",
    "    dictionary, depending on how your code is structured). \n",
    "\n",
    "    Updates the hand: uses up the letters in the given word\n",
    "    and returns the new hand, without those letters in it.\n",
    "\n",
    "    Has no side effects: does not modify hand.\n",
    "\n",
    "    word: string\n",
    "    hand: dictionary (string -> int)    \n",
    "    returns: dictionary (string -> int)\n",
    "    \"\"\"\n",
    "\n",
    "    pass  # TO DO... Remove this line when you implement this function"
   ]
  },
  {
   "cell_type": "markdown",
   "id": "be54fa14",
   "metadata": {},
   "source": [
    "## Problem 3: Test word validity"
   ]
  },
  {
   "cell_type": "code",
   "execution_count": 8,
   "id": "7aa48a1a",
   "metadata": {},
   "outputs": [],
   "source": [
    "#\n",
    "# Problem #3: Test word validity\n",
    "#\n",
    "def is_valid_word(word, hand, word_list):\n",
    "    \"\"\"\n",
    "    Returns True if word is in the word_list and is entirely\n",
    "    composed of letters in the hand. Otherwise, returns False.\n",
    "    Does not mutate hand or word_list.\n",
    "   \n",
    "    word: string\n",
    "    hand: dictionary (string -> int)\n",
    "    word_list: list of lowercase strings\n",
    "    returns: boolean\n",
    "    \"\"\"\n",
    "\n",
    "    pass  # TO DO... Remove this line when you implement this function"
   ]
  },
  {
   "cell_type": "markdown",
   "id": "3e1b1d55",
   "metadata": {},
   "source": [
    "## Problem 4: Playing a hand"
   ]
  },
  {
   "cell_type": "code",
   "execution_count": 9,
   "id": "984a11d7",
   "metadata": {},
   "outputs": [],
   "source": [
    "#\n",
    "# Problem #4: Playing a hand\n",
    "#\n",
    "def calculate_handlen(hand):\n",
    "    \"\"\" \n",
    "    Returns the length (number of letters) in the current hand.\n",
    "    \n",
    "    hand: dictionary (string-> int)\n",
    "    returns: integer\n",
    "    \"\"\"\n",
    "    \n",
    "    pass  # TO DO... Remove this line when you implement this function\n",
    "\n"
   ]
  },
  {
   "cell_type": "code",
   "execution_count": 10,
   "id": "90e00c0f",
   "metadata": {},
   "outputs": [],
   "source": [
    "def play_hand(hand, word_list):\n",
    "\n",
    "    \"\"\"\n",
    "    Allows the user to play the given hand, as follows:\n",
    "\n",
    "    * The hand is displayed.\n",
    "    \n",
    "    * The user may input a word.\n",
    "\n",
    "    * When any word is entered (valid or invalid), it uses up letters\n",
    "      from the hand.\n",
    "\n",
    "    * An invalid word is rejected, and a message is displayed asking\n",
    "      the user to choose another word.\n",
    "\n",
    "    * After every valid word: the score for that word is displayed,\n",
    "      the remaining letters in the hand are displayed, and the user\n",
    "      is asked to input another word.\n",
    "\n",
    "    * The sum of the word scores is displayed when the hand finishes.\n",
    "\n",
    "    * The hand finishes when there are no more unused letters.\n",
    "      The user can also finish playing the hand by inputing two \n",
    "      exclamation points (the string '!!') instead of a word.\n",
    "\n",
    "      hand: dictionary (string -> int)\n",
    "      word_list: list of lowercase strings\n",
    "      returns: the total score for the hand\n",
    "      \n",
    "    \"\"\"\n",
    "    \n",
    "    # BEGIN PSEUDOCODE <-- Remove this comment when you implement this function\n",
    "    # Keep track of the total score\n",
    "    \n",
    "    # As long as there are still letters left in the hand:\n",
    "    \n",
    "        # Display the hand\n",
    "        \n",
    "        # Ask user for input\n",
    "        \n",
    "        # If the input is two exclamation points:\n",
    "        \n",
    "            # End the game (break out of the loop)\n",
    "\n",
    "            \n",
    "        # Otherwise (the input is not two exclamation points):\n",
    "\n",
    "            # If the word is valid:\n",
    "\n",
    "                # Tell the user how many points the word earned,\n",
    "                # and the updated total score\n",
    "\n",
    "            # Otherwise (the word is not valid):\n",
    "                # Reject invalid word (print a message)\n",
    "                \n",
    "            # update the user's hand by removing the letters of their inputted word\n",
    "            \n",
    "\n",
    "    # Game is over (user entered '!!' or ran out of letters),\n",
    "    # so tell user the total score\n",
    "\n",
    "    # Return the total score as result of function\n"
   ]
  },
  {
   "cell_type": "markdown",
   "id": "2519d161",
   "metadata": {},
   "source": [
    "## Problem 5: Playing a game"
   ]
  },
  {
   "cell_type": "code",
   "execution_count": 11,
   "id": "a2b3a6c2",
   "metadata": {},
   "outputs": [],
   "source": [
    "#\n",
    "# procedure you will use to substitute a letter in a hand\n",
    "#\n",
    "\n",
    "def substitute_hand(hand, letter):\n",
    "    \"\"\" \n",
    "    Allow the user to replace all copies of one letter in the hand (chosen by user)\n",
    "    with a new letter chosen from the VOWELS and CONSONANTS at random. The new letter\n",
    "    should be different from user's choice, and should not be any of the letters\n",
    "    already in the hand.\n",
    "\n",
    "    If user provide a letter not in the hand, the hand should be the same.\n",
    "\n",
    "    Has no side effects: does not mutate hand.\n",
    "\n",
    "    For example:\n",
    "        substitute_hand({'h':1, 'e':1, 'l':2, 'o':1}, 'l')\n",
    "    might return:\n",
    "        {'h':1, 'e':1, 'o':1, 'x':2} -> if the new letter is 'x'\n",
    "    The new letter should not be 'h', 'e', 'l', or 'o' since those letters were\n",
    "    already in the hand.\n",
    "    \n",
    "    hand: dictionary (string -> int)\n",
    "    letter: string\n",
    "    returns: dictionary (string -> int)\n",
    "    \"\"\"\n",
    "    \n",
    "    pass  # TO DO... Remove this line when you implement this function\n"
   ]
  },
  {
   "cell_type": "code",
   "execution_count": 12,
   "id": "7ee8326b",
   "metadata": {},
   "outputs": [],
   "source": [
    "def play_game(word_list):\n",
    "    \"\"\"\n",
    "    Allow the user to play a series of hands\n",
    "\n",
    "    * Asks the user to input a total number of hands\n",
    "\n",
    "    * Accumulates the score for each hand into a total score for the \n",
    "      entire series\n",
    " \n",
    "    * For each hand, before playing, ask the user if they want to substitute\n",
    "      one letter for another. If the user inputs 'yes', prompt them for their\n",
    "      desired letter. This can only be done once during the game. Once the\n",
    "      substitue option is used, the user should not be asked if they want to\n",
    "      substitute letters in the future.\n",
    "\n",
    "    * For each hand, ask the user if they would like to replay the hand.\n",
    "      If the user inputs 'yes', they will replay the hand and keep \n",
    "      the better of the two scores for that hand.  This can only be done once \n",
    "      during the game. Once the replay option is used, the user should not\n",
    "      be asked if they want to replay future hands. Replaying the hand does\n",
    "      not count as one of the total number of hands the user initially\n",
    "      wanted to play.\n",
    "\n",
    "            * Note: if you replay a hand, you do not get the option to substitute\n",
    "                    a letter - you must play whatever hand you just had.\n",
    "      \n",
    "    * Returns the total score for the series of hands\n",
    "\n",
    "    word_list: list of lowercase strings\n",
    "    \"\"\"\n",
    "    \n",
    "    print(\"play_game not implemented.\") # TO DO... Remove this line when you implement this function\n",
    "    \n"
   ]
  },
  {
   "cell_type": "code",
   "execution_count": 14,
   "id": "7e600d0f",
   "metadata": {},
   "outputs": [
    {
     "name": "stdout",
     "output_type": "stream",
     "text": [
      "Loading word list from file...\n",
      "   83667 words loaded.\n",
      "play_game not implemented.\n"
     ]
    }
   ],
   "source": [
    "#\n",
    "# Build data structures used for entire session and play game\n",
    "# Do not remove the \"if __name__ == '__main__':\" line - this code is executed\n",
    "# when the program is run directly, instead of through an import statement\n",
    "#\n",
    "if __name__ == '__main__':\n",
    "    word_list = load_words()\n",
    "    play_game(word_list)"
   ]
  },
  {
   "cell_type": "code",
   "execution_count": null,
   "id": "b83c9525",
   "metadata": {},
   "outputs": [],
   "source": []
  }
 ],
 "metadata": {
  "kernelspec": {
   "display_name": "Python 3",
   "language": "python",
   "name": "python3"
  },
  "language_info": {
   "codemirror_mode": {
    "name": "ipython",
    "version": 3
   },
   "file_extension": ".py",
   "mimetype": "text/x-python",
   "name": "python",
   "nbconvert_exporter": "python",
   "pygments_lexer": "ipython3",
   "version": "3.9.4"
  }
 },
 "nbformat": 4,
 "nbformat_minor": 5
}
