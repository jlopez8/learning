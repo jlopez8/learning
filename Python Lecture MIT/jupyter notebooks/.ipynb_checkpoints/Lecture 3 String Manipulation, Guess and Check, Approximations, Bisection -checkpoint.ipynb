{
 "cells": [
  {
   "cell_type": "markdown",
   "metadata": {},
   "source": [
    "# Lecture 3: String Manipulation, Guess and Check, Approximations, Bisection \n"
   ]
  },
  {
   "cell_type": "markdown",
   "metadata": {},
   "source": [
    "## Control flow - while and for LOOPS"
   ]
  },
  {
   "cell_type": "markdown",
   "metadata": {},
   "source": [
    "Check the oneNote document for starting notes"
   ]
  },
  {
   "cell_type": "markdown",
   "metadata": {},
   "source": [
    "# Notes on the string\n",
    "\n",
    "can replace while loop with fore loop and so on. This isn't particularly insightful. "
   ]
  },
  {
   "cell_type": "markdown",
   "metadata": {},
   "source": [
    "# Algorithms...\n",
    "\n",
    "## Three algorithms\n",
    "\n",
    "1. Guess and check (exhaustive enumeration)\n",
    "2. Approximation\n",
    "3. Bisection Search"
   ]
  },
  {
   "cell_type": "markdown",
   "metadata": {},
   "source": [
    "## Guess and Check\n",
    "\n",
    "Apply to cube root"
   ]
  },
  {
   "cell_type": "code",
   "execution_count": 3,
   "metadata": {},
   "outputs": [
    {
     "name": "stdout",
     "output_type": "stream",
     "text": [
      "Found cube as:  2\n"
     ]
    }
   ],
   "source": [
    "cube = 8\n",
    "\n",
    "for guess in range(cube+1):\n",
    "    if guess**3 == cube:\n",
    "        print(\"Found cube as: \",guess)\n",
    "        \n",
    "        "
   ]
  },
  {
   "cell_type": "markdown",
   "metadata": {},
   "source": [
    "Simple code but not user-friendly. If cube = 9, we will get nothing!\n",
    "\n",
    "modify code for extra fetures"
   ]
  },
  {
   "cell_type": "code",
   "execution_count": 7,
   "metadata": {},
   "outputs": [
    {
     "name": "stdout",
     "output_type": "stream",
     "text": [
      "9 is not a perfect cube\n"
     ]
    }
   ],
   "source": [
    "cube = 9\n",
    "\n",
    "for guess in range(cube+1):\n",
    "    \n",
    "    if guess**3 >= abs(cube): #take abs val of.cube\n",
    "        break\n",
    "\n",
    "# this statement will only print after the for loop is done\n",
    "# it breaks as soon as the guess is at least as large as the cube\n",
    "# then the if statement following decides the vlidty of guess\n",
    "if guess**3 != abs(cube): # if we can't find a perfect cube, print this\n",
    "    print(cube, 'is not a perfect cube')\n",
    "else:\n",
    "    if cube < 0: # if the cube value is negative, flip the guess\n",
    "        guess = -guess\n",
    "        \n",
    "    # now glue it together on what you've found. \n",
    "    print('Cube ro00t of '+str(cube)+' is ' + str(guess))\n"
   ]
  },
  {
   "cell_type": "markdown",
   "metadata": {},
   "source": [
    "This only gives use cube of perfect cube. It does not show cube root of an imperfect cube, which we still want. We upgrade our features. This is where approximate solutions come in!"
   ]
  },
  {
   "cell_type": "code",
   "execution_count": 12,
   "metadata": {},
   "outputs": [
    {
     "ename": "KeyboardInterrupt",
     "evalue": "",
     "output_type": "error",
     "traceback": [
      "\u001b[0;31m---------------------------------------------------------------------------\u001b[0m",
      "\u001b[0;31mKeyboardInterrupt\u001b[0m                         Traceback (most recent call last)",
      "\u001b[0;32m<ipython-input-12-42194b28cc04>\u001b[0m in \u001b[0;36m<module>\u001b[0;34m\u001b[0m\n\u001b[1;32m      6\u001b[0m \u001b[0;34m\u001b[0m\u001b[0m\n\u001b[1;32m      7\u001b[0m \u001b[0;31m# while we are too far away from tolerance\u001b[0m\u001b[0;34m\u001b[0m\u001b[0;34m\u001b[0m\u001b[0;34m\u001b[0m\u001b[0m\n\u001b[0;32m----> 8\u001b[0;31m \u001b[0;32mwhile\u001b[0m \u001b[0;34m(\u001b[0m\u001b[0mabs\u001b[0m\u001b[0;34m(\u001b[0m\u001b[0mguess\u001b[0m\u001b[0;34m**\u001b[0m\u001b[0;36m3\u001b[0m \u001b[0;34m-\u001b[0m \u001b[0mcube\u001b[0m\u001b[0;34m)\u001b[0m \u001b[0;34m>=\u001b[0m \u001b[0mepsilon\u001b[0m\u001b[0;34m)\u001b[0m\u001b[0;34m:\u001b[0m\u001b[0;34m\u001b[0m\u001b[0;34m\u001b[0m\u001b[0m\n\u001b[0m\u001b[1;32m      9\u001b[0m     \u001b[0;31m# increment the guess\u001b[0m\u001b[0;34m\u001b[0m\u001b[0;34m\u001b[0m\u001b[0;34m\u001b[0m\u001b[0m\n\u001b[1;32m     10\u001b[0m     \u001b[0mguess\u001b[0m \u001b[0;34m+=\u001b[0m \u001b[0mincrement\u001b[0m\u001b[0;34m\u001b[0m\u001b[0;34m\u001b[0m\u001b[0m\n",
      "\u001b[0;31mKeyboardInterrupt\u001b[0m: "
     ]
    }
   ],
   "source": [
    "cube = 10000\n",
    "epsilon = 0.1\n",
    "guess = 0.0\n",
    "increment = 0.01\n",
    "num_guesses = 0\n",
    "\n",
    "# while we are too far away from tolerance\n",
    "while (abs(guess**3 - cube) >= epsilon): \n",
    "    # increment the guess\n",
    "    guess += increment \n",
    "    # keep going until we reach tolerance\n",
    "    num_guesses += 1\n",
    "    \n",
    "print('num_guesses = ', num_guesses)\n",
    "if abs(guess**3 - cube) >= epsilon:\n",
    "    print('Failed on cube root of', cube)\n",
    "else:\n",
    "    print(guess, 'is close to the cube root of', cube)\n",
    "        "
   ]
  },
  {
   "cell_type": "markdown",
   "metadata": {},
   "source": [
    "There is a problem with this code. If we use these params plus the guess is 10,000, we will enter an infinite loop, which is what we just saw. We accidentally skip over the ideal epsilon different. Once we skip, we will continue to escape epsilon. "
   ]
  },
  {
   "cell_type": "code",
   "execution_count": 13,
   "metadata": {},
   "outputs": [
    {
     "name": "stdout",
     "output_type": "stream",
     "text": [
      "num_guesses =  1000000\n",
      "Failed on cube root of 10000\n"
     ]
    }
   ],
   "source": [
    "cube = 10000\n",
    "epsilon = 0.1\n",
    "guess = 0.0\n",
    "increment = 0.01\n",
    "num_guesses = 0\n",
    "\n",
    "# while we are too far away from tolerance\n",
    "# this wis modified to fix the infinite loop problem. \n",
    "while (abs(guess**3 - cube) >= epsilon) and guess <= cube: \n",
    "    # increment the guess\n",
    "    guess += increment \n",
    "    # keep going until we reach tolerance\n",
    "    num_guesses += 1\n",
    "    \n",
    "print('num_guesses = ', num_guesses)\n",
    "if abs(guess**3 - cube) >= epsilon:\n",
    "    print('Failed on cube root of', cube)\n",
    "else:\n",
    "    print(guess, 'is close to the cube root of', cube)\n",
    "        "
   ]
  },
  {
   "cell_type": "markdown",
   "metadata": {},
   "source": [
    "## Bisection Search\n",
    "\n",
    "### Start with an example game:\n",
    "\n",
    "the game is choose a num. b/w 0 and 100 and she's going to try to guess it. Make it hard enough that she can't guess within 10 guesses.\n",
    "\n",
    "Here is how the live algo went:\n",
    "\n",
    "Student thinks of a number in ther head. \n",
    "\n",
    "She guesses 50 (midpoint of 100). Is the number higher or lower than 50?\n",
    " \n",
    "Higher >> next guess is 75?\n",
    "\n",
    "Higher >> next guess is 87 (half between 75 and 100)\n",
    "\n",
    "Lower >> next guess is 81 (half between 75 and 87)\n",
    "\n",
    "Lower >> next guess is 78 (half between 75 and 81)\n",
    "\n",
    "higher >> next guess is 76 and that was the number!\n",
    "\n",
    "This is a total of 6 guesses.\n",
    "\n",
    "### this game is rigged because 'math' in bisection search."
   ]
  },
  {
   "cell_type": "markdown",
   "metadata": {},
   "source": [
    "### Bisection search cube root algorithm"
   ]
  },
  {
   "cell_type": "code",
   "execution_count": 20,
   "metadata": {},
   "outputs": [
    {
     "name": "stdout",
     "output_type": "stream",
     "text": [
      "num_guesses = 1000000\n",
      "guess 3.000091552734375  is close the the cube root of  27\n"
     ]
    }
   ],
   "source": [
    "cube = 27\n",
    "epsilon = 0.01\n",
    "low = 0\n",
    "high = cube\n",
    "guess = (high + low)/2.0\n",
    "\n",
    "# dont' need an additional catch condition\n",
    "# this is because the 'increment' is variable\n",
    "# and adjusts to make sure you always converge\n",
    "while abs(guess**3 - cube)>=epsilon:\n",
    "    # if the guess^3 is too low, update the lower bdy\n",
    "    if guess**3 < cube :\n",
    "        low = guess\n",
    "    # otherwise update the hi bdy\n",
    "    else:\n",
    "        high = guess\n",
    "    # update the guess to the new midpoint\n",
    "    guess = (low + high )/2.0\n",
    "    \n",
    "print( 'num_guesses =', num_guesses)\n",
    "print( 'guess', guess, ' is close the the cube root of ', cube)"
   ]
  },
  {
   "cell_type": "markdown",
   "metadata": {},
   "source": [
    "Code above only works for pos. cubes >=1. This is because....\n",
    "\n",
    "For numbers below 1.... we can change code to work.\n",
    "\n",
    "My guess is that we change the directin we look at / how we update the boundaries. This is because numbers in the 0-1 range have roots that are GREATER than the actual value.\n",
    "\n",
    "For negative numbers... also can make a quick modification using REFLECTION. Just do teh problme for the positive version, then negate the answer. "
   ]
  },
  {
   "cell_type": "code",
   "execution_count": null,
   "metadata": {},
   "outputs": [],
   "source": []
  }
 ],
 "metadata": {
  "kernelspec": {
   "display_name": "Python 3",
   "language": "python",
   "name": "python3"
  },
  "language_info": {
   "codemirror_mode": {
    "name": "ipython",
    "version": 3
   },
   "file_extension": ".py",
   "mimetype": "text/x-python",
   "name": "python",
   "nbconvert_exporter": "python",
   "pygments_lexer": "ipython3",
   "version": "3.9.4"
  }
 },
 "nbformat": 4,
 "nbformat_minor": 4
}
