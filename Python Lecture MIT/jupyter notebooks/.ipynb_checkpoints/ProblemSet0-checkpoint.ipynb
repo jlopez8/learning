{
 "cells": [
  {
   "cell_type": "markdown",
   "metadata": {},
   "source": [
    "# Problem Set 0:\n",
    "\n",
    "Use Spyder to create your program, and save your code in a file named ‘ps0.py’. An example of an interaction with your program is shown below. The words printed in blue are ones the computer should print, based on your commands, while the words in black are an example of a user's input. The colors are simply here to help you distinguish the two components.\n",
    "Enter number x: 2 Enter number y: 3 X**y = 8\n",
    "log(x) = 1\n"
   ]
  },
  {
   "cell_type": "code",
   "execution_count": 6,
   "metadata": {},
   "outputs": [],
   "source": [
    "import math"
   ]
  },
  {
   "cell_type": "code",
   "execution_count": 7,
   "metadata": {},
   "outputs": [
    {
     "name": "stdout",
     "output_type": "stream",
     "text": [
      "Enter number x: 2\n",
      "Enter number y: 3\n"
     ]
    }
   ],
   "source": [
    "x = float(input(\"Enter number x: \"))\n",
    "y = float(input(\"Enter number y: \"))\n",
    "power = x**y\n",
    "logarithm = math.log(x,2)\n"
   ]
  },
  {
   "cell_type": "code",
   "execution_count": 8,
   "metadata": {},
   "outputs": [
    {
     "name": "stdout",
     "output_type": "stream",
     "text": [
      "x**y =  8.0\n",
      "log(x) =  1.0\n"
     ]
    }
   ],
   "source": [
    "print(\"x**y = \", power)\n",
    "print(\"log(x) = \", logarithm)"
   ]
  },
  {
   "cell_type": "code",
   "execution_count": null,
   "metadata": {},
   "outputs": [],
   "source": []
  }
 ],
 "metadata": {
  "kernelspec": {
   "display_name": "Python 3",
   "language": "python",
   "name": "python3"
  },
  "language_info": {
   "codemirror_mode": {
    "name": "ipython",
    "version": 3
   },
   "file_extension": ".py",
   "mimetype": "text/x-python",
   "name": "python",
   "nbconvert_exporter": "python",
   "pygments_lexer": "ipython3",
   "version": "3.8.5"
  }
 },
 "nbformat": 4,
 "nbformat_minor": 4
}
