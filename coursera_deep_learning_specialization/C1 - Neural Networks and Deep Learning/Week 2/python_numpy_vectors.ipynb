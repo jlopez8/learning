{
 "cells": [
  {
   "cell_type": "code",
   "execution_count": 8,
   "id": "6af8b6ee-9a86-4e2b-bd80-91bcc51f303e",
   "metadata": {},
   "outputs": [],
   "source": [
    "import numpy as np\n",
    "\n",
    "a = np.random.rand(5)"
   ]
  },
  {
   "cell_type": "code",
   "execution_count": 9,
   "id": "a7d59e2d-144b-415e-b7b8-0882a4318c20",
   "metadata": {},
   "outputs": [
    {
     "name": "stdout",
     "output_type": "stream",
     "text": [
      "[0.86710692 0.42821804 0.71435872 0.21107505 0.038055  ]\n"
     ]
    }
   ],
   "source": [
    "print(a)"
   ]
  },
  {
   "cell_type": "code",
   "execution_count": 10,
   "id": "f64a8c41-cfd1-4add-8fc7-a6bda6fb5d2e",
   "metadata": {},
   "outputs": [
    {
     "name": "stdout",
     "output_type": "stream",
     "text": [
      "(5,)\n"
     ]
    }
   ],
   "source": [
    "print(a.shape) #not a row or col vec, it is a rank 1 array."
   ]
  },
  {
   "cell_type": "markdown",
   "id": "4c5e2c52-6cce-4de8-b811-3478674f3e4f",
   "metadata": {},
   "source": [
    "Insteady can explicitly instantiate a 5,1 rank 2 array."
   ]
  },
  {
   "cell_type": "code",
   "execution_count": 11,
   "id": "8a3d7b7d-b398-4aeb-9405-c99ddc969d90",
   "metadata": {},
   "outputs": [
    {
     "data": {
      "text/plain": [
       "1.4915543374308398"
      ]
     },
     "execution_count": 11,
     "metadata": {},
     "output_type": "execute_result"
    }
   ],
   "source": [
    "np.dot(a, a.T)"
   ]
  },
  {
   "cell_type": "code",
   "execution_count": 12,
   "id": "ed9f9834-6472-4a4a-bfb7-09c4fd1ca9bc",
   "metadata": {},
   "outputs": [],
   "source": [
    "a = np.random.rand(5,1)"
   ]
  },
  {
   "cell_type": "code",
   "execution_count": 13,
   "id": "0ec5f5cb-fd7f-4e68-a1e0-c17dbfe0df44",
   "metadata": {},
   "outputs": [
    {
     "name": "stdout",
     "output_type": "stream",
     "text": [
      "[[0.60264528]\n",
      " [0.5965206 ]\n",
      " [0.11589115]\n",
      " [0.04662223]\n",
      " [0.97587738]]\n"
     ]
    }
   ],
   "source": [
    "print(a)"
   ]
  },
  {
   "cell_type": "code",
   "execution_count": 14,
   "id": "be8e8959-5732-4c81-9df9-fc7900740f8b",
   "metadata": {},
   "outputs": [
    {
     "name": "stdout",
     "output_type": "stream",
     "text": [
      "[[0.36318133 0.35949033 0.06984126 0.02809667 0.5881079 ]\n",
      " [0.35949033 0.35583683 0.06913146 0.02781112 0.58213096]\n",
      " [0.06984126 0.06913146 0.01343076 0.0054031  0.11309556]\n",
      " [0.02809667 0.02781112 0.0054031  0.00217363 0.04549758]\n",
      " [0.5881079  0.58213096 0.11309556 0.04549758 0.95233666]]\n"
     ]
    }
   ],
   "source": [
    "print(np.dot(a, a.T)) # A 5x5 matrix."
   ]
  },
  {
   "cell_type": "code",
   "execution_count": 19,
   "id": "59be5575-042c-4cbc-909a-99d80199bf7b",
   "metadata": {},
   "outputs": [],
   "source": [
    "a = np.random.rand(5) # don't use this\n",
    "\n",
    "a = np.random.rand(5, 1) # col vector\n",
    "a = np.random.rand(1, 5) # row vec"
   ]
  },
  {
   "cell_type": "markdown",
   "id": "35da0ef7-8bd8-4d27-9ca6-7f54fc979317",
   "metadata": {},
   "source": [
    "Can use an assert statment to make sure things are working as they should."
   ]
  },
  {
   "cell_type": "code",
   "execution_count": 31,
   "id": "247f305a-ff6b-4d86-bd1c-edc0f4a1a1d1",
   "metadata": {},
   "outputs": [],
   "source": [
    "assert a.shape == (1, 5), \"Not right!\""
   ]
  },
  {
   "cell_type": "code",
   "execution_count": 26,
   "id": "9d819128-b744-4c6b-b8d5-e9cfb978f989",
   "metadata": {},
   "outputs": [
    {
     "name": "stdout",
     "output_type": "stream",
     "text": [
      "x is a positive number.\n"
     ]
    }
   ],
   "source": [
    "x = 10\n",
    "assert x > 0\n",
    "print('x is a positive number.')"
   ]
  },
  {
   "cell_type": "code",
   "execution_count": 27,
   "id": "eb2f3162-8c54-400a-8949-531db61cbcf9",
   "metadata": {},
   "outputs": [
    {
     "data": {
      "text/plain": [
       "(1, 5)"
      ]
     },
     "execution_count": 27,
     "metadata": {},
     "output_type": "execute_result"
    }
   ],
   "source": [
    "a.shape"
   ]
  },
  {
   "cell_type": "code",
   "execution_count": 39,
   "id": "5fc09d8e-c431-474c-b793-92c6d1a62475",
   "metadata": {},
   "outputs": [
    {
     "name": "stdout",
     "output_type": "stream",
     "text": [
      "[[0.07534814 0.23956908 0.55462258 0.24128562]\n",
      " [0.85239973 0.64077224 0.45601724 0.67128254]\n",
      " [0.67534329 0.04389055 0.41896694 0.15665468]]\n",
      "[[0.82074826]\n",
      " [0.92848592]\n",
      " [0.4003237 ]\n",
      " [0.55830117]]\n"
     ]
    }
   ],
   "source": [
    "a = np.random.rand(3,4)\n",
    "b = np.random.rand(4,1)\n",
    "print(a)\n",
    "print(b)"
   ]
  },
  {
   "cell_type": "code",
   "execution_count": 40,
   "id": "ae7e8d79-727f-4851-9cfa-aae5e8d8e160",
   "metadata": {},
   "outputs": [
    {
     "name": "stdout",
     "output_type": "stream",
     "text": [
      "[[0.8960964  1.168055   0.95494629 0.79958679]\n",
      " [1.67314799 1.56925816 0.85634094 1.22958371]\n",
      " [1.49609155 0.97237648 0.81929064 0.71495585]]\n"
     ]
    }
   ],
   "source": [
    "c = a+b.T\n",
    "print(c)"
   ]
  },
  {
   "cell_type": "code",
   "execution_count": 41,
   "id": "a4012eed-a9cd-4ab7-9f0d-eb17e70e103c",
   "metadata": {},
   "outputs": [
    {
     "ename": "ValueError",
     "evalue": "operands could not be broadcast together with shapes (3,4) (4,1) ",
     "output_type": "error",
     "traceback": [
      "\u001b[0;31m---------------------------------------------------------------------------\u001b[0m",
      "\u001b[0;31mValueError\u001b[0m                                Traceback (most recent call last)",
      "\u001b[0;32m<ipython-input-41-8ce765dcfa30>\u001b[0m in \u001b[0;36m<module>\u001b[0;34m\u001b[0m\n\u001b[0;32m----> 1\u001b[0;31m \u001b[0ma\u001b[0m\u001b[0;34m*\u001b[0m\u001b[0mb\u001b[0m\u001b[0;34m\u001b[0m\u001b[0;34m\u001b[0m\u001b[0m\n\u001b[0m",
      "\u001b[0;31mValueError\u001b[0m: operands could not be broadcast together with shapes (3,4) (4,1) "
     ]
    }
   ],
   "source": [
    "a*b"
   ]
  },
  {
   "cell_type": "code",
   "execution_count": null,
   "id": "c4aa4bc5-ea04-49c1-ae1b-e54ce2151b64",
   "metadata": {},
   "outputs": [],
   "source": [
    "a*b + a*c - b+c\n",
    "a*(b+c) - b+c"
   ]
  }
 ],
 "metadata": {
  "kernelspec": {
   "display_name": "Python 3",
   "language": "python",
   "name": "python3"
  },
  "language_info": {
   "codemirror_mode": {
    "name": "ipython",
    "version": 3
   },
   "file_extension": ".py",
   "mimetype": "text/x-python",
   "name": "python",
   "nbconvert_exporter": "python",
   "pygments_lexer": "ipython3",
   "version": "3.9.4"
  }
 },
 "nbformat": 4,
 "nbformat_minor": 5
}
