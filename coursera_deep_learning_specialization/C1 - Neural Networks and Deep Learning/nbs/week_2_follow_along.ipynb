{
 "cells": [
  {
   "cell_type": "markdown",
   "id": "e7705190-2bcf-440e-bba7-0fef8d68610d",
   "metadata": {},
   "source": [
    "# Vectorization"
   ]
  },
  {
   "cell_type": "code",
   "execution_count": 1,
   "id": "29c1df22-aede-40c5-96cb-cc509c8d6940",
   "metadata": {},
   "outputs": [
    {
     "name": "stdout",
     "output_type": "stream",
     "text": [
      "[1 2 3 4]\n"
     ]
    }
   ],
   "source": [
    "import numpy as np\n",
    "\n",
    "a = np.array([1, 2, 3, 4])\n",
    "print(a)"
   ]
  },
  {
   "cell_type": "code",
   "execution_count": 41,
   "id": "20224f29-ca70-408a-ac3b-764bd5c10331",
   "metadata": {},
   "outputs": [
    {
     "name": "stdout",
     "output_type": "stream",
     "text": [
      "Value:  2500047.4779046965\n",
      "Vectorized version: 14.188051223754883ms\n",
      "Value:  2500047.4779046276\n",
      "For loop: 3745.558023452759ms\n"
     ]
    }
   ],
   "source": [
    "import time # for timing operations\n",
    "\n",
    "m = 10000000 #1000000\n",
    "a = np.random.rand(m)\n",
    "# Another random array.\n",
    "b = np.random.rand(m) \n",
    "\n",
    "tic = time.time()\n",
    "c = np.dot(a,b)\n",
    "toc = time.time()\n",
    "\n",
    "print(\"Value: \", c)\n",
    "print(\"Vectorized version: \" + str(1000*(toc - tic)) + \"ms\")\n",
    "\n",
    "c = 0\n",
    "tic = time.time()\n",
    "for i in range(m):\n",
    "    c += a[i]*b[i]\n",
    "toc = time.time()\n",
    "\n",
    "print(\"Value: \", c)\n",
    "print(\"For loop: \" + str(1000*(toc - tic)) + \"ms\")"
   ]
  },
  {
   "cell_type": "code",
   "execution_count": null,
   "id": "68c0e162-3c56-4ef6-8e1f-2ee906a65692",
   "metadata": {},
   "outputs": [],
   "source": []
  },
  {
   "cell_type": "code",
   "execution_count": null,
   "id": "3c284002-92dc-4e21-a803-c350829e1121",
   "metadata": {},
   "outputs": [],
   "source": []
  }
 ],
 "metadata": {
  "kernelspec": {
   "display_name": "Python 3",
   "language": "python",
   "name": "python3"
  },
  "language_info": {
   "codemirror_mode": {
    "name": "ipython",
    "version": 3
   },
   "file_extension": ".py",
   "mimetype": "text/x-python",
   "name": "python",
   "nbconvert_exporter": "python",
   "pygments_lexer": "ipython3",
   "version": "3.9.4"
  }
 },
 "nbformat": 4,
 "nbformat_minor": 5
}
